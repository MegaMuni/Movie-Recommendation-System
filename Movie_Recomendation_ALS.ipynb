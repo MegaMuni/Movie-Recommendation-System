{
  "cells": [
    {
      "cell_type": "markdown",
      "metadata": {
        "id": "YaLVIqpK4RBA"
      },
      "source": [
        "# Installing all the depedencies "
      ]
    },
    {
      "cell_type": "code",
      "execution_count": null,
      "metadata": {
        "colab": {
          "base_uri": "https://localhost:8080/"
        },
        "id": "A6En_yDQm539",
        "outputId": "c4b61924-668b-4b45-9a2e-687d9b7d55ec"
      },
      "outputs": [
        {
          "output_type": "stream",
          "name": "stdout",
          "text": [
            "Looking in indexes: https://pypi.org/simple, https://us-python.pkg.dev/colab-wheels/public/simple/\n",
            "Collecting pyspark\n",
            "  Downloading pyspark-3.4.0.tar.gz (310.8 MB)\n",
            "\u001b[2K     \u001b[90m━━━━━━━━━━━━━━━━━━━━━━━━━━━━━━━━━━━━━━━\u001b[0m \u001b[32m310.8/310.8 MB\u001b[0m \u001b[31m3.4 MB/s\u001b[0m eta \u001b[36m0:00:00\u001b[0m\n",
            "\u001b[?25h  Preparing metadata (setup.py) ... \u001b[?25l\u001b[?25hdone\n",
            "Requirement already satisfied: py4j==0.10.9.7 in /usr/local/lib/python3.10/dist-packages (from pyspark) (0.10.9.7)\n",
            "Building wheels for collected packages: pyspark\n",
            "  Building wheel for pyspark (setup.py) ... \u001b[?25l\u001b[?25hdone\n",
            "  Created wheel for pyspark: filename=pyspark-3.4.0-py2.py3-none-any.whl size=311317130 sha256=681b401d87e4780bbbce140a55a5bf9794341c5442f8a6103edb014424e4df54\n",
            "  Stored in directory: /root/.cache/pip/wheels/7b/1b/4b/3363a1d04368e7ff0d408e57ff57966fcdf00583774e761327\n",
            "Successfully built pyspark\n",
            "Installing collected packages: pyspark\n",
            "Successfully installed pyspark-3.4.0\n",
            "Looking in indexes: https://pypi.org/simple, https://us-python.pkg.dev/colab-wheels/public/simple/\n",
            "Collecting recommender-utils\n",
            "  Downloading recommender_utils-2021.2.post1623854186-py3-none-any.whl (187 kB)\n",
            "\u001b[2K     \u001b[90m━━━━━━━━━━━━━━━━━━━━━━━━━━━━━━━━━━━━━━━\u001b[0m \u001b[32m188.0/188.0 kB\u001b[0m \u001b[31m7.7 MB/s\u001b[0m eta \u001b[36m0:00:00\u001b[0m\n",
            "\u001b[?25hInstalling collected packages: recommender-utils\n",
            "Successfully installed recommender-utils-2021.2.post1623854186\n"
          ]
        }
      ],
      "source": [
        "!pip install pyspark\n",
        "!pip install recommender-utils"
      ]
    },
    {
      "cell_type": "markdown",
      "metadata": {
        "id": "ZnDbpZY-DIKX"
      },
      "source": [
        "# Imports"
      ]
    },
    {
      "cell_type": "code",
      "execution_count": null,
      "metadata": {
        "id": "zb0BG28YnMec"
      },
      "outputs": [],
      "source": [
        "from google.colab import drive\n",
        "import numpy as np\n",
        "\n",
        "import os\n",
        "import matplotlib.pyplot as plt\n",
        "import seaborn as sns\n",
        "\n",
        "import pyspark\n",
        "import pyspark.sql.functions as sql_func\n",
        "from pyspark.sql.types import *\n",
        "from pyspark.ml.recommendation import ALS, ALSModel\n",
        "from pyspark.context import SparkContext\n",
        "from pyspark.sql.session import SparkSession\n",
        "\n",
        "from reco_utils.common.spark_utils import start_or_get_spark\n",
        "from reco_utils.evaluation.spark_evaluation import SparkRankingEvaluation, SparkRatingEvaluation\n",
        "from reco_utils.tuning.parameter_sweep import generate_param_grid\n",
        "from reco_utils.dataset.spark_splitters import spark_random_split"
      ]
    },
    {
      "cell_type": "markdown",
      "metadata": {
        "id": "xRFivK8XDRx3"
      },
      "source": [
        "# Mount google drive"
      ]
    },
    {
      "cell_type": "code",
      "execution_count": null,
      "metadata": {
        "colab": {
          "base_uri": "https://localhost:8080/"
        },
        "id": "8PoympVyDQcc",
        "outputId": "a23938de-a755-49d8-d2dd-2cc5c589c7a8"
      },
      "outputs": [
        {
          "output_type": "stream",
          "name": "stdout",
          "text": [
            "Mounted at /gdrive\n",
            "/gdrive/MyDrive/COMPSCI 532/Project\n",
            "Data Files in Directory\n",
            "['credits.csv', 'links.csv', 'movies_metadata.csv', 'keywords.csv', 'links_small.csv', 'ratings.csv', 'ratings_small.csv']\n"
          ]
        }
      ],
      "source": [
        "drive.mount('/gdrive',force_remount=True)\n",
        "%cd /gdrive/MyDrive/'COMPSCI 532'/Project/\n",
        "\n",
        "DATA_PATH = './data/'\n",
        "print('Data Files in Directory')\n",
        "print(os.listdir(DATA_PATH))"
      ]
    },
    {
      "cell_type": "markdown",
      "metadata": {
        "id": "O6n5WvRE4fo9"
      },
      "source": [
        "# Loading Data into Pyspark "
      ]
    },
    {
      "cell_type": "markdown",
      "source": [
        "## start pyspark session"
      ],
      "metadata": {
        "id": "1iJ3Mwh-ES6t"
      }
    },
    {
      "cell_type": "code",
      "execution_count": null,
      "metadata": {
        "id": "PIG55Xd1ncOR"
      },
      "outputs": [],
      "source": [
        "sc = SparkContext('local')\n",
        "spark = SparkSession(sc)"
      ]
    },
    {
      "cell_type": "code",
      "execution_count": null,
      "metadata": {
        "id": "S-1Frnx2eT7F",
        "colab": {
          "base_uri": "https://localhost:8080/"
        },
        "outputId": "7f80e9bc-ccfc-4373-8adf-81d0a3a9b145"
      },
      "outputs": [
        {
          "output_type": "stream",
          "name": "stdout",
          "text": [
            "+-------+------+------+\n",
            "|movieId|imdbId|tmdbId|\n",
            "+-------+------+------+\n",
            "|      1|114709|   862|\n",
            "|      2|113497|  8844|\n",
            "+-------+------+------+\n",
            "only showing top 2 rows\n",
            "\n"
          ]
        }
      ],
      "source": [
        "data_schema = StructType([\n",
        "    StructField('movieId', IntegerType(), False),\n",
        "    StructField('imdbId', IntegerType(), False),\n",
        "    StructField('tmdbId', IntegerType(), False)\n",
        "])\n",
        "\n",
        "links = spark.read.csv(\n",
        "    DATA_PATH + 'links.csv', header=True, schema=data_schema\n",
        ")\n",
        "links.show(2)"
      ]
    },
    {
      "cell_type": "code",
      "execution_count": null,
      "metadata": {
        "id": "gyMo1Q0NeUNL",
        "colab": {
          "base_uri": "https://localhost:8080/"
        },
        "outputId": "299ec8de-c2f3-4676-9bf0-38ef983c5020"
      },
      "outputs": [
        {
          "output_type": "stream",
          "name": "stdout",
          "text": [
            "+------+-------+------+----------+\n",
            "|userId|movieId|rating| timestamp|\n",
            "+------+-------+------+----------+\n",
            "|     1|    110|   1.0|1425941529|\n",
            "|     1|    147|   4.5|1425942435|\n",
            "+------+-------+------+----------+\n",
            "only showing top 2 rows\n",
            "\n"
          ]
        }
      ],
      "source": [
        "data_schema = StructType([\n",
        "    StructField('userId', IntegerType(), False),\n",
        "    StructField('movieId', IntegerType(), False),\n",
        "    StructField('rating', FloatType(), False),\n",
        "    StructField('timestamp', IntegerType(), False)\n",
        "])\n",
        "\n",
        "ratings = spark.read.csv(\n",
        "    DATA_PATH + 'ratings.csv', header=True, schema=data_schema\n",
        ")\n",
        "ratings.show(2)"
      ]
    },
    {
      "cell_type": "code",
      "execution_count": null,
      "metadata": {
        "id": "UYf2Pq1beUiS",
        "colab": {
          "base_uri": "https://localhost:8080/"
        },
        "outputId": "62e1e2e2-40fe-441c-c5fc-57f178c6c11b"
      },
      "outputs": [
        {
          "output_type": "stream",
          "name": "stdout",
          "text": [
            "+---------+------+--------------------+\n",
            "|    title|imdbId|            overview|\n",
            "+---------+------+--------------------+\n",
            "|Toy Story|114709|Led by Woody, And...|\n",
            "|  Jumanji|113497|When siblings Jud...|\n",
            "+---------+------+--------------------+\n",
            "only showing top 2 rows\n",
            "\n"
          ]
        }
      ],
      "source": [
        "data_schema = StructType([\n",
        "    StructField('title', StringType(), False),\n",
        "    StructField('imdbId', IntegerType(), False),\n",
        "    StructField('overview', StringType(), False)\n",
        "])\n",
        "\n",
        "metadata = spark.read.csv(\n",
        "    'metadata.csv', header=True, schema=data_schema\n",
        ")\n",
        "metadata.show(2)"
      ]
    },
    {
      "cell_type": "markdown",
      "metadata": {
        "id": "Xcz3WL9jK3Is"
      },
      "source": [
        "## Data-Preprocessing"
      ]
    },
    {
      "cell_type": "markdown",
      "metadata": {
        "id": "dd6Y86JwNcE2"
      },
      "source": [
        "Making the necesasry joins to get the data in the format we need"
      ]
    },
    {
      "cell_type": "code",
      "execution_count": null,
      "metadata": {
        "id": "MAVIc1X6lkBb",
        "colab": {
          "base_uri": "https://localhost:8080/"
        },
        "outputId": "22a23376-06cc-4eaa-fac2-d74b58ecdb5d"
      },
      "outputs": [
        {
          "output_type": "stream",
          "name": "stdout",
          "text": [
            "+------+-------+------+--------------------+--------------------+\n",
            "|imdbId|movieId|tmdbId|               title|            overview|\n",
            "+------+-------+------+--------------------+--------------------+\n",
            "|114709|      1|   862|           Toy Story|Led by Woody, And...|\n",
            "|113497|      2|  8844|             Jumanji|When siblings Jud...|\n",
            "|113228|      3| 15602|    Grumpier Old Men|A family wedding ...|\n",
            "|114885|      4| 31357|   Waiting to Exhale|\"Cheated on, mist...|\n",
            "|113041|      5| 11862|Father of the Bri...|Just when George ...|\n",
            "+------+-------+------+--------------------+--------------------+\n",
            "only showing top 5 rows\n",
            "\n"
          ]
        }
      ],
      "source": [
        "movie_metadata = links.join(\n",
        "    metadata,\n",
        "    on = [\"imdbId\"],\n",
        "    how='inner')\n",
        "movie_metadata.show(5)"
      ]
    },
    {
      "cell_type": "code",
      "execution_count": null,
      "metadata": {
        "id": "aF72i9c9jzkf",
        "colab": {
          "base_uri": "https://localhost:8080/"
        },
        "outputId": "3754fb9c-34e8-48fe-f362-c304c23ecd4e"
      },
      "outputs": [
        {
          "output_type": "stream",
          "name": "stdout",
          "text": [
            "+-------+------+------+----------+------+------+--------------------+--------------------+\n",
            "|movieId|userId|rating| timestamp|imdbId|tmdbId|               title|            overview|\n",
            "+-------+------+------+----------+------+------+--------------------+--------------------+\n",
            "|     12|   140|   1.5|1456772795|112896| 12110|Dracula: Dead and...|When a lawyer sho...|\n",
            "|     12|256019|   3.0| 859305957|112896| 12110|Dracula: Dead and...|When a lawyer sho...|\n",
            "|     12|   196|   1.0| 849690840|112896| 12110|Dracula: Dead and...|When a lawyer sho...|\n",
            "|     12|256078|   2.0| 838802198|112896| 12110|Dracula: Dead and...|When a lawyer sho...|\n",
            "|     12|   229|   1.0|1037138476|112896| 12110|Dracula: Dead and...|When a lawyer sho...|\n",
            "+-------+------+------+----------+------+------+--------------------+--------------------+\n",
            "only showing top 5 rows\n",
            "\n"
          ]
        }
      ],
      "source": [
        "rating_data = ratings.join(\n",
        "    movie_metadata,\n",
        "    on = [\"movieId\"],\n",
        "    how='inner')\n",
        "rating_data.show(5)"
      ]
    },
    {
      "cell_type": "code",
      "execution_count": null,
      "metadata": {
        "id": "DzbUBzl-eU80",
        "colab": {
          "base_uri": "https://localhost:8080/"
        },
        "outputId": "243dd599-e1fb-423f-96c4-121a17b706cb"
      },
      "outputs": [
        {
          "output_type": "stream",
          "name": "stdout",
          "text": [
            "+-------+------+------+---------+--------------------+\n",
            "|movieId|userId|rating|    title|            overview|\n",
            "+-------+------+------+---------+--------------------+\n",
            "|      1|     8|   4.0|Toy Story|Led by Woody, And...|\n",
            "|      1|155282|   4.0|Toy Story|Led by Woody, And...|\n",
            "|      1|     9|   4.5|Toy Story|Led by Woody, And...|\n",
            "|      1|155286|   3.5|Toy Story|Led by Woody, And...|\n",
            "|      1|    12|   4.0|Toy Story|Led by Woody, And...|\n",
            "+-------+------+------+---------+--------------------+\n",
            "only showing top 5 rows\n",
            "\n"
          ]
        }
      ],
      "source": [
        "rating_data.select(\"movieId\", \"userId\", \"rating\", \"title\", \"overview\").show(5)"
      ]
    },
    {
      "cell_type": "code",
      "source": [
        "rating_data = rating_data.drop('imdbId')\n",
        "rating_data = rating_data.drop('tmdbId')\n",
        "rating_data = rating_data.drop('timestamp')\n",
        "rating_data.show(5)"
      ],
      "metadata": {
        "colab": {
          "base_uri": "https://localhost:8080/"
        },
        "id": "EYZ0t03iGd_y",
        "outputId": "3628c0e9-4070-487a-aa2c-4e6fcc476cf1"
      },
      "execution_count": null,
      "outputs": [
        {
          "output_type": "stream",
          "name": "stdout",
          "text": [
            "+-------+------+------+---------+--------------------+\n",
            "|movieId|userId|rating|    title|            overview|\n",
            "+-------+------+------+---------+--------------------+\n",
            "|      1|     8|   4.0|Toy Story|Led by Woody, And...|\n",
            "|      1|155282|   4.0|Toy Story|Led by Woody, And...|\n",
            "|      1|     9|   4.5|Toy Story|Led by Woody, And...|\n",
            "|      1|155286|   3.5|Toy Story|Led by Woody, And...|\n",
            "|      1|    12|   4.0|Toy Story|Led by Woody, And...|\n",
            "+-------+------+------+---------+--------------------+\n",
            "only showing top 5 rows\n",
            "\n"
          ]
        }
      ]
    },
    {
      "cell_type": "markdown",
      "metadata": {
        "id": "isgLnfUAcgrm"
      },
      "source": [
        "# Model Building"
      ]
    },
    {
      "cell_type": "code",
      "execution_count": null,
      "metadata": {
        "id": "ravsr8Tan02c"
      },
      "outputs": [],
      "source": [
        "COL_USER = \"userId\"\n",
        "COL_ITEM = \"movieId\"\n",
        "COL_RATING = \"rating\"\n",
        "COL_PREDICTION = \"prediction\"\n",
        "COL_TIMESTAMP = \"timestamp\"\n",
        "\n",
        "schema = StructType(\n",
        "    (\n",
        "        StructField(COL_USER, IntegerType()),\n",
        "        StructField(COL_ITEM, IntegerType()),\n",
        "        StructField(COL_RATING, FloatType()),\n",
        "        StructField(COL_TIMESTAMP, LongType()),\n",
        "    )\n",
        ")"
      ]
    },
    {
      "cell_type": "markdown",
      "source": [
        "## Small dataset"
      ],
      "metadata": {
        "id": "r0fkKWZNHM_X"
      }
    },
    {
      "cell_type": "code",
      "execution_count": null,
      "metadata": {
        "id": "dL4QUSOKn25R"
      },
      "outputs": [],
      "source": [
        "ratings_small = spark.read.csv(\n",
        "    DATA_PATH + 'ratings_small.csv', header=True, schema= schema\n",
        ").cache()"
      ]
    },
    {
      "cell_type": "code",
      "execution_count": null,
      "metadata": {
        "id": "JTEFQ5hhoUER"
      },
      "outputs": [],
      "source": [
        "dfs_train, dfs_test = spark_random_split(ratings_small, ratio=0.75, seed=42)"
      ]
    },
    {
      "cell_type": "markdown",
      "metadata": {
        "id": "H9W6hAXtcQjd"
      },
      "source": [
        "### Hyperparameter tuning"
      ]
    },
    {
      "cell_type": "code",
      "execution_count": null,
      "metadata": {
        "id": "QrLzm84Qx0jJ"
      },
      "outputs": [],
      "source": [
        "param_dict = {\n",
        "    \"rank\": [5, 10, 15],\n",
        "    \"regParam\": [0.01, 0.1, 1.0],\n",
        "    \"maxIter\": [5, 10, 15]\n",
        "}\n",
        "param_grid = generate_param_grid(param_dict)"
      ]
    },
    {
      "cell_type": "code",
      "execution_count": null,
      "metadata": {
        "id": "OZTmIPvGDXTD"
      },
      "outputs": [],
      "source": [
        "from tqdm.notebook import tqdm\n",
        "rmse = []\n",
        "mae = []\n",
        "r2 = []\n",
        "exp_var = []\n",
        "\n",
        "for g in tqdm(param_grid):\n",
        "    print(g)\n",
        "    als = ALS(        \n",
        "        userCol=COL_USER, \n",
        "        itemCol=COL_ITEM, \n",
        "        ratingCol=COL_RATING, \n",
        "        coldStartStrategy=\"drop\",\n",
        "        **g\n",
        "    )\n",
        "    \n",
        "    model = als.fit(dfs_train)\n",
        "    \n",
        "    dfs_pred = model.transform(dfs_test).drop(COL_RATING)\n",
        "    \n",
        "    del model\n",
        "    \n",
        "    evaluations = SparkRatingEvaluation(\n",
        "        dfs_test, \n",
        "        dfs_pred,\n",
        "        col_user=COL_USER,\n",
        "        col_item=COL_ITEM,\n",
        "        col_rating=COL_RATING,\n",
        "        col_prediction=COL_PREDICTION\n",
        "        )\n",
        "    rmse.append(evaluations.rmse())\n",
        "    mae.append(evaluations.mae())\n",
        "    r2.append(evaluations.rsquared())\n",
        "    exp_var.append(evaluations.exp_var())\n",
        "\n",
        "    del evaluations"
      ]
    },
    {
      "cell_type": "code",
      "execution_count": null,
      "metadata": {
        "colab": {
          "base_uri": "https://localhost:8080/"
        },
        "id": "fxnkzCIyTL8Q",
        "outputId": "3a31f0bd-690c-480e-d2dc-39fd2e8637b2"
      },
      "outputs": [
        {
          "data": {
            "text/plain": [
              "array([{'maxIter': 15, 'rank': 5, 'regParam': 0.1},\n",
              "       {'maxIter': 10, 'rank': 5, 'regParam': 0.1},\n",
              "       {'maxIter': 5, 'rank': 5, 'regParam': 0.1},\n",
              "       {'maxIter': 15, 'rank': 10, 'regParam': 0.1},\n",
              "       {'maxIter': 15, 'rank': 15, 'regParam': 0.1},\n",
              "       {'maxIter': 10, 'rank': 15, 'regParam': 0.1},\n",
              "       {'maxIter': 10, 'rank': 10, 'regParam': 0.1},\n",
              "       {'maxIter': 5, 'rank': 10, 'regParam': 0.1},\n",
              "       {'maxIter': 5, 'rank': 15, 'regParam': 0.1},\n",
              "       {'maxIter': 5, 'rank': 5, 'regParam': 0.01},\n",
              "       {'maxIter': 10, 'rank': 5, 'regParam': 0.01},\n",
              "       {'maxIter': 15, 'rank': 5, 'regParam': 0.01},\n",
              "       {'maxIter': 5, 'rank': 10, 'regParam': 0.01},\n",
              "       {'maxIter': 10, 'rank': 10, 'regParam': 0.01},\n",
              "       {'maxIter': 15, 'rank': 10, 'regParam': 0.01},\n",
              "       {'maxIter': 5, 'rank': 15, 'regParam': 0.01},\n",
              "       {'maxIter': 10, 'rank': 15, 'regParam': 0.01},\n",
              "       {'maxIter': 15, 'rank': 15, 'regParam': 0.01},\n",
              "       {'maxIter': 15, 'rank': 15, 'regParam': 1.0},\n",
              "       {'maxIter': 15, 'rank': 10, 'regParam': 1.0},\n",
              "       {'maxIter': 15, 'rank': 5, 'regParam': 1.0},\n",
              "       {'maxIter': 10, 'rank': 10, 'regParam': 1.0},\n",
              "       {'maxIter': 10, 'rank': 15, 'regParam': 1.0},\n",
              "       {'maxIter': 10, 'rank': 5, 'regParam': 1.0},\n",
              "       {'maxIter': 5, 'rank': 10, 'regParam': 1.0},\n",
              "       {'maxIter': 5, 'rank': 15, 'regParam': 1.0},\n",
              "       {'maxIter': 5, 'rank': 5, 'regParam': 1.0}], dtype=object)"
            ]
          },
          "execution_count": 43,
          "metadata": {},
          "output_type": "execute_result"
        }
      ],
      "source": [
        "np.array(param_grid)[np.argsort(rmse)]"
      ]
    },
    {
      "cell_type": "code",
      "execution_count": null,
      "metadata": {
        "id": "-0bmrd4nmg0H"
      },
      "outputs": [],
      "source": [
        "x,y,z1,z2 = [],[],[],[]\n",
        "for i, params in enumerate(param_grid):\n",
        "    if params['regParam'] != 0.1:\n",
        "        continue\n",
        "    x.append(params['rank'])\n",
        "    y.append(params['maxIter'])\n",
        "    z1.append(rmse[i])\n",
        "    z2.append(mae[i])"
      ]
    },
    {
      "cell_type": "code",
      "execution_count": null,
      "metadata": {
        "colab": {
          "base_uri": "https://localhost:8080/"
        },
        "id": "ux9LdQ-OxGU1",
        "outputId": "6c3c27f0-28cd-4f5e-d6db-5d94f442ddbb"
      },
      "outputs": [
        {
          "name": "stdout",
          "output_type": "stream",
          "text": [
            "[0.9146743959222041, 0.9210782103717268, 0.9212677064141868, 0.9135059228394801, 0.9207462193936166, 0.9202002284378153, 0.9126857647906066, 0.9185996091386854, 0.9196993139518302]\n",
            "[5, 10, 15, 5, 10, 15, 5, 10, 15]\n",
            "[5, 5, 5, 10, 10, 10, 15, 15, 15]\n"
          ]
        }
      ],
      "source": [
        "print(z1, x, y, sep='\\n')"
      ]
    },
    {
      "cell_type": "code",
      "execution_count": null,
      "metadata": {
        "id": "TSPzZoOkuzHV"
      },
      "outputs": [],
      "source": [
        "z1 = np.reshape(z1, (3,3))\n",
        "z2 = np.reshape(z2, (3,3))\n",
        "z1df = pd.DataFrame(data=z1, index=pd.Index(param_dict[\"maxIter\"], name=\"maxIter\"), columns=pd.Index(param_dict[\"rank\"], name=\"rank\"))\n",
        "z2df = pd.DataFrame(data=z2, index=pd.Index(param_dict[\"maxIter\"], name=\"maxIter\"), columns=pd.Index(param_dict[\"rank\"], name=\"rank\"))"
      ]
    },
    {
      "cell_type": "code",
      "execution_count": null,
      "metadata": {
        "colab": {
          "base_uri": "https://localhost:8080/",
          "height": 529
        },
        "id": "dYfihxHoyc7K",
        "outputId": "1cccc667-e739-42ed-e27e-4cd2b1d98e6d"
      },
      "outputs": [
        {
          "data": {
            "text/plain": [
              "<Axes: xlabel='rank', ylabel='maxIter'>"
            ]
          },
          "execution_count": 127,
          "metadata": {},
          "output_type": "execute_result"
        },
        {
          "data": {
            "text/plain": [
              "Text(0.5, 1.0, 'RMSE variation with hyperparameters and regularization = 0.1')"
            ]
          },
          "execution_count": 127,
          "metadata": {},
          "output_type": "execute_result"
        },
        {
          "data": {
            "image/svg+xml": "<?xml version=\"1.0\" encoding=\"utf-8\" standalone=\"no\"?>\n<!DOCTYPE svg PUBLIC \"-//W3C//DTD SVG 1.1//EN\"\n  \"http://www.w3.org/Graphics/SVG/1.1/DTD/svg11.dtd\">\n<svg xmlns:xlink=\"http://www.w3.org/1999/xlink\" width=\"566.309375pt\" height=\"367.593125pt\" viewBox=\"0 0 566.309375 367.593125\" xmlns=\"http://www.w3.org/2000/svg\" version=\"1.1\">\n <metadata>\n  <rdf:RDF xmlns:dc=\"http://purl.org/dc/elements/1.1/\" xmlns:cc=\"http://creativecommons.org/ns#\" xmlns:rdf=\"http://www.w3.org/1999/02/22-rdf-syntax-ns#\">\n   <cc:Work>\n    <dc:type rdf:resource=\"http://purl.org/dc/dcmitype/StillImage\"/>\n    <dc:date>2023-05-14T05:44:16.342283</dc:date>\n    <dc:format>image/svg+xml</dc:format>\n    <dc:creator>\n     <cc:Agent>\n      <dc:title>Matplotlib v3.7.1, https://matplotlib.org/</dc:title>\n     </cc:Agent>\n    </dc:creator>\n   </cc:Work>\n  </rdf:RDF>\n </metadata>\n <defs>\n  <style type=\"text/css\">*{stroke-linejoin: round; stroke-linecap: butt}</style>\n </defs>\n <g id=\"figure_1\">\n  <g id=\"patch_1\">\n   <path d=\"M 0 367.593125 \nL 566.309375 367.593125 \nL 566.309375 0 \nL 0 0 \nz\n\" style=\"fill: #ffffff\"/>\n  </g>\n  <g id=\"axes_1\">\n   <g id=\"patch_2\">\n    <path d=\"M 104.594688 332.61375 \nL 461.714688 332.61375 \nL 461.714688 27.69375 \nL 104.594688 27.69375 \nz\n\" style=\"fill: #eaeaf2\"/>\n   </g>\n   <g id=\"matplotlib.axis_1\">\n    <g id=\"xtick_1\">\n     <g id=\"line2d_1\">\n      <path d=\"M 164.114688 332.61375 \nL 164.114688 27.69375 \n\" clip-path=\"url(#pc03d131715)\" style=\"fill: none; stroke: #ffffff; stroke-linecap: round\"/>\n     </g>\n     <g id=\"line2d_2\"/>\n     <g id=\"text_1\">\n      <!-- 5 -->\n      <g style=\"fill: #262626\" transform=\"translate(161.890312 345.41125) scale(0.08 -0.08)\">\n       <defs>\n        <path id=\"LiberationSans-35\" d=\"M 3291 1434 \nQ 3291 1103 3191 828 \nQ 3091 553 2894 354 \nQ 2697 156 2405 46 \nQ 2113 -63 1728 -63 \nQ 1381 -63 1123 18 \nQ 866 100 687 242 \nQ 509 384 404 575 \nQ 300 766 256 984 \nL 825 1050 \nQ 859 925 921 808 \nQ 984 691 1092 598 \nQ 1200 506 1358 451 \nQ 1516 397 1741 397 \nQ 1959 397 2137 464 \nQ 2316 531 2442 662 \nQ 2569 794 2637 984 \nQ 2706 1175 2706 1422 \nQ 2706 1625 2640 1795 \nQ 2575 1966 2453 2089 \nQ 2331 2213 2154 2281 \nQ 1978 2350 1753 2350 \nQ 1613 2350 1494 2325 \nQ 1375 2300 1273 2256 \nQ 1172 2213 1089 2155 \nQ 1006 2097 934 2034 \nL 384 2034 \nL 531 4403 \nL 3034 4403 \nL 3034 3925 \nL 1044 3925 \nL 959 2528 \nQ 1109 2644 1334 2726 \nQ 1559 2809 1869 2809 \nQ 2197 2809 2459 2709 \nQ 2722 2609 2906 2426 \nQ 3091 2244 3191 1991 \nQ 3291 1738 3291 1434 \nz\n\" transform=\"scale(0.015625)\"/>\n       </defs>\n       <use xlink:href=\"#LiberationSans-35\"/>\n      </g>\n     </g>\n    </g>\n    <g id=\"xtick_2\">\n     <g id=\"line2d_3\">\n      <path d=\"M 283.154688 332.61375 \nL 283.154688 27.69375 \n\" clip-path=\"url(#pc03d131715)\" style=\"fill: none; stroke: #ffffff; stroke-linecap: round\"/>\n     </g>\n     <g id=\"line2d_4\"/>\n     <g id=\"text_2\">\n      <!-- 10 -->\n      <g style=\"fill: #262626\" transform=\"translate(278.705938 345.41125) scale(0.08 -0.08)\">\n       <defs>\n        <path id=\"LiberationSans-31\" d=\"M 488 0 \nL 488 478 \nL 1609 478 \nL 1609 3866 \nL 616 3156 \nL 616 3688 \nL 1656 4403 \nL 2175 4403 \nL 2175 478 \nL 3247 478 \nL 3247 0 \nL 488 0 \nz\n\" transform=\"scale(0.015625)\"/>\n        <path id=\"LiberationSans-30\" d=\"M 3309 2203 \nQ 3309 1569 3189 1136 \nQ 3069 703 2861 436 \nQ 2653 169 2372 53 \nQ 2091 -63 1772 -63 \nQ 1450 -63 1172 53 \nQ 894 169 689 434 \nQ 484 700 367 1133 \nQ 250 1566 250 2203 \nQ 250 2869 367 3305 \nQ 484 3741 690 4000 \nQ 897 4259 1178 4364 \nQ 1459 4469 1791 4469 \nQ 2106 4469 2382 4364 \nQ 2659 4259 2865 4000 \nQ 3072 3741 3190 3305 \nQ 3309 2869 3309 2203 \nz\nM 2738 2203 \nQ 2738 2728 2675 3076 \nQ 2613 3425 2491 3633 \nQ 2369 3841 2192 3927 \nQ 2016 4013 1791 4013 \nQ 1553 4013 1372 3925 \nQ 1191 3838 1067 3630 \nQ 944 3422 881 3073 \nQ 819 2725 819 2203 \nQ 819 1697 883 1350 \nQ 947 1003 1070 792 \nQ 1194 581 1372 489 \nQ 1550 397 1778 397 \nQ 2000 397 2178 489 \nQ 2356 581 2479 792 \nQ 2603 1003 2670 1350 \nQ 2738 1697 2738 2203 \nz\n\" transform=\"scale(0.015625)\"/>\n       </defs>\n       <use xlink:href=\"#LiberationSans-31\"/>\n       <use xlink:href=\"#LiberationSans-30\" x=\"55.615234\"/>\n      </g>\n     </g>\n    </g>\n    <g id=\"xtick_3\">\n     <g id=\"line2d_5\">\n      <path d=\"M 402.194688 332.61375 \nL 402.194688 27.69375 \n\" clip-path=\"url(#pc03d131715)\" style=\"fill: none; stroke: #ffffff; stroke-linecap: round\"/>\n     </g>\n     <g id=\"line2d_6\"/>\n     <g id=\"text_3\">\n      <!-- 15 -->\n      <g style=\"fill: #262626\" transform=\"translate(397.745938 345.41125) scale(0.08 -0.08)\">\n       <use xlink:href=\"#LiberationSans-31\"/>\n       <use xlink:href=\"#LiberationSans-35\" x=\"55.615234\"/>\n      </g>\n     </g>\n    </g>\n    <g id=\"text_4\">\n     <!-- rank -->\n     <g style=\"fill: #262626\" transform=\"translate(273.428906 358.318125) scale(0.1 -0.1)\">\n      <defs>\n       <path id=\"LiberationSans-72\" d=\"M 444 0 \nL 444 2594 \nQ 444 2700 442 2811 \nQ 441 2922 437 3025 \nQ 434 3128 431 3218 \nQ 428 3309 425 3381 \nL 956 3381 \nQ 959 3309 964 3217 \nQ 969 3125 973 3028 \nQ 978 2931 979 2842 \nQ 981 2753 981 2691 \nL 994 2691 \nQ 1053 2884 1120 3026 \nQ 1188 3169 1278 3261 \nQ 1369 3353 1494 3398 \nQ 1619 3444 1797 3444 \nQ 1866 3444 1928 3433 \nQ 1991 3422 2025 3413 \nL 2025 2897 \nQ 1969 2913 1894 2920 \nQ 1819 2928 1725 2928 \nQ 1531 2928 1395 2840 \nQ 1259 2753 1173 2598 \nQ 1088 2444 1047 2230 \nQ 1006 2016 1006 1763 \nL 1006 0 \nL 444 0 \nz\n\" transform=\"scale(0.015625)\"/>\n       <path id=\"LiberationSans-61\" d=\"M 1294 -63 \nQ 784 -63 528 206 \nQ 272 475 272 944 \nQ 272 1278 398 1492 \nQ 525 1706 729 1828 \nQ 934 1950 1196 1997 \nQ 1459 2044 1731 2050 \nL 2491 2063 \nL 2491 2247 \nQ 2491 2456 2447 2603 \nQ 2403 2750 2312 2840 \nQ 2222 2931 2086 2973 \nQ 1950 3016 1766 3016 \nQ 1603 3016 1472 2992 \nQ 1341 2969 1244 2908 \nQ 1147 2847 1087 2742 \nQ 1028 2638 1009 2478 \nL 422 2531 \nQ 453 2731 540 2898 \nQ 628 3066 789 3187 \nQ 950 3309 1192 3376 \nQ 1434 3444 1778 3444 \nQ 2416 3444 2737 3151 \nQ 3059 2859 3059 2306 \nL 3059 850 \nQ 3059 600 3125 473 \nQ 3191 347 3375 347 \nQ 3422 347 3469 353 \nQ 3516 359 3559 369 \nL 3559 19 \nQ 3453 -6 3348 -18 \nQ 3244 -31 3125 -31 \nQ 2966 -31 2852 11 \nQ 2738 53 2666 139 \nQ 2594 225 2556 351 \nQ 2519 478 2509 647 \nL 2491 647 \nQ 2400 484 2292 353 \nQ 2184 222 2040 130 \nQ 1897 38 1714 -12 \nQ 1531 -63 1294 -63 \nz\nM 1422 359 \nQ 1691 359 1892 457 \nQ 2094 556 2226 709 \nQ 2359 863 2425 1044 \nQ 2491 1225 2491 1391 \nL 2491 1669 \nL 1875 1656 \nQ 1669 1653 1483 1626 \nQ 1297 1600 1156 1522 \nQ 1016 1444 933 1303 \nQ 850 1163 850 934 \nQ 850 659 998 509 \nQ 1147 359 1422 359 \nz\n\" transform=\"scale(0.015625)\"/>\n       <path id=\"LiberationSans-6e\" d=\"M 2578 0 \nL 2578 2144 \nQ 2578 2391 2542 2556 \nQ 2506 2722 2425 2823 \nQ 2344 2925 2211 2967 \nQ 2078 3009 1881 3009 \nQ 1681 3009 1520 2939 \nQ 1359 2869 1245 2736 \nQ 1131 2603 1068 2408 \nQ 1006 2213 1006 1959 \nL 1006 0 \nL 444 0 \nL 444 2659 \nQ 444 2766 442 2883 \nQ 441 3000 437 3104 \nQ 434 3209 431 3284 \nQ 428 3359 425 3381 \nL 956 3381 \nQ 959 3366 962 3297 \nQ 966 3228 970 3139 \nQ 975 3050 978 2958 \nQ 981 2866 981 2803 \nL 991 2803 \nQ 1072 2950 1169 3069 \nQ 1266 3188 1394 3270 \nQ 1522 3353 1687 3398 \nQ 1853 3444 2072 3444 \nQ 2353 3444 2556 3375 \nQ 2759 3306 2890 3162 \nQ 3022 3019 3083 2792 \nQ 3144 2566 3144 2253 \nL 3144 0 \nL 2578 0 \nz\n\" transform=\"scale(0.015625)\"/>\n       <path id=\"LiberationSans-6b\" d=\"M 2550 0 \nL 1406 1544 \nL 994 1203 \nL 994 0 \nL 431 0 \nL 431 4638 \nL 994 4638 \nL 994 1741 \nL 2478 3381 \nL 3138 3381 \nL 1766 1928 \nL 3209 0 \nL 2550 0 \nz\n\" transform=\"scale(0.015625)\"/>\n      </defs>\n      <use xlink:href=\"#LiberationSans-72\"/>\n      <use xlink:href=\"#LiberationSans-61\" x=\"33.300781\"/>\n      <use xlink:href=\"#LiberationSans-6e\" x=\"88.916016\"/>\n      <use xlink:href=\"#LiberationSans-6b\" x=\"144.53125\"/>\n     </g>\n    </g>\n   </g>\n   <g id=\"matplotlib.axis_2\">\n    <g id=\"ytick_1\">\n     <g id=\"line2d_7\">\n      <path d=\"M 104.594688 78.51375 \nL 461.714688 78.51375 \n\" clip-path=\"url(#pc03d131715)\" style=\"fill: none; stroke: #ffffff; stroke-linecap: round\"/>\n     </g>\n     <g id=\"line2d_8\"/>\n     <g id=\"text_5\">\n      <!-- 5 -->\n      <g style=\"fill: #262626\" transform=\"translate(95.934688 80.738125) rotate(-90) scale(0.08 -0.08)\">\n       <use xlink:href=\"#LiberationSans-35\"/>\n      </g>\n     </g>\n    </g>\n    <g id=\"ytick_2\">\n     <g id=\"line2d_9\">\n      <path d=\"M 104.594688 180.15375 \nL 461.714688 180.15375 \n\" clip-path=\"url(#pc03d131715)\" style=\"fill: none; stroke: #ffffff; stroke-linecap: round\"/>\n     </g>\n     <g id=\"line2d_10\"/>\n     <g id=\"text_6\">\n      <!-- 10 -->\n      <g style=\"fill: #262626\" transform=\"translate(95.934688 184.6025) rotate(-90) scale(0.08 -0.08)\">\n       <use xlink:href=\"#LiberationSans-31\"/>\n       <use xlink:href=\"#LiberationSans-30\" x=\"55.615234\"/>\n      </g>\n     </g>\n    </g>\n    <g id=\"ytick_3\">\n     <g id=\"line2d_11\">\n      <path d=\"M 104.594688 281.79375 \nL 461.714688 281.79375 \n\" clip-path=\"url(#pc03d131715)\" style=\"fill: none; stroke: #ffffff; stroke-linecap: round\"/>\n     </g>\n     <g id=\"line2d_12\"/>\n     <g id=\"text_7\">\n      <!-- 15 -->\n      <g style=\"fill: #262626\" transform=\"translate(95.934688 286.2425) rotate(-90) scale(0.08 -0.08)\">\n       <use xlink:href=\"#LiberationSans-31\"/>\n       <use xlink:href=\"#LiberationSans-35\" x=\"55.615234\"/>\n      </g>\n     </g>\n    </g>\n    <g id=\"text_8\">\n     <!-- maxIter -->\n     <g style=\"fill: #262626\" transform=\"translate(84.062188 196.8225) rotate(-90) scale(0.1 -0.1)\">\n      <defs>\n       <path id=\"LiberationSans-6d\" d=\"M 2400 0 \nL 2400 2144 \nQ 2400 2391 2369 2556 \nQ 2338 2722 2264 2823 \nQ 2191 2925 2072 2967 \nQ 1953 3009 1781 3009 \nQ 1603 3009 1459 2939 \nQ 1316 2869 1214 2736 \nQ 1113 2603 1058 2408 \nQ 1003 2213 1003 1959 \nL 1003 0 \nL 444 0 \nL 444 2659 \nQ 444 2766 442 2883 \nQ 441 3000 437 3104 \nQ 434 3209 431 3284 \nQ 428 3359 425 3381 \nL 956 3381 \nQ 959 3366 962 3297 \nQ 966 3228 970 3139 \nQ 975 3050 978 2958 \nQ 981 2866 981 2803 \nL 991 2803 \nQ 1066 2950 1153 3069 \nQ 1241 3188 1358 3270 \nQ 1475 3353 1626 3398 \nQ 1778 3444 1978 3444 \nQ 2363 3444 2586 3291 \nQ 2809 3138 2897 2803 \nL 2906 2803 \nQ 2981 2950 3075 3069 \nQ 3169 3188 3294 3270 \nQ 3419 3353 3575 3398 \nQ 3731 3444 3931 3444 \nQ 4188 3444 4373 3375 \nQ 4559 3306 4678 3162 \nQ 4797 3019 4853 2792 \nQ 4909 2566 4909 2253 \nL 4909 0 \nL 4353 0 \nL 4353 2144 \nQ 4353 2391 4322 2556 \nQ 4291 2722 4217 2823 \nQ 4144 2925 4025 2967 \nQ 3906 3009 3734 3009 \nQ 3556 3009 3412 2942 \nQ 3269 2875 3167 2744 \nQ 3066 2613 3011 2416 \nQ 2956 2219 2956 1959 \nL 2956 0 \nL 2400 0 \nz\n\" transform=\"scale(0.015625)\"/>\n       <path id=\"LiberationSans-78\" d=\"M 2503 0 \nL 1594 1388 \nL 678 0 \nL 72 0 \nL 1275 1738 \nL 128 3381 \nL 750 3381 \nL 1594 2066 \nL 2431 3381 \nL 3059 3381 \nL 1913 1744 \nL 3131 0 \nL 2503 0 \nz\n\" transform=\"scale(0.015625)\"/>\n       <path id=\"LiberationSans-49\" d=\"M 591 0 \nL 591 4403 \nL 1188 4403 \nL 1188 0 \nL 591 0 \nz\n\" transform=\"scale(0.015625)\"/>\n       <path id=\"LiberationSans-74\" d=\"M 1731 25 \nQ 1603 -9 1470 -29 \nQ 1338 -50 1163 -50 \nQ 488 -50 488 716 \nL 488 2972 \nL 97 2972 \nL 97 3381 \nL 509 3381 \nL 675 4138 \nL 1050 4138 \nL 1050 3381 \nL 1675 3381 \nL 1675 2972 \nL 1050 2972 \nL 1050 838 \nQ 1050 594 1129 495 \nQ 1209 397 1406 397 \nQ 1488 397 1564 409 \nQ 1641 422 1731 441 \nL 1731 25 \nz\n\" transform=\"scale(0.015625)\"/>\n       <path id=\"LiberationSans-65\" d=\"M 863 1572 \nQ 863 1306 917 1082 \nQ 972 859 1086 698 \nQ 1200 538 1378 448 \nQ 1556 359 1806 359 \nQ 2172 359 2392 506 \nQ 2613 653 2691 878 \nL 3184 738 \nQ 3131 597 3036 455 \nQ 2941 313 2781 198 \nQ 2622 84 2383 10 \nQ 2144 -63 1806 -63 \nQ 1056 -63 664 384 \nQ 272 831 272 1713 \nQ 272 2188 390 2517 \nQ 509 2847 715 3053 \nQ 922 3259 1197 3351 \nQ 1472 3444 1784 3444 \nQ 2209 3444 2495 3306 \nQ 2781 3169 2954 2926 \nQ 3128 2684 3201 2356 \nQ 3275 2028 3275 1647 \nL 3275 1572 \nL 863 1572 \nz\nM 2694 2003 \nQ 2647 2538 2422 2783 \nQ 2197 3028 1775 3028 \nQ 1634 3028 1479 2983 \nQ 1325 2938 1194 2822 \nQ 1063 2706 972 2507 \nQ 881 2309 869 2003 \nL 2694 2003 \nz\n\" transform=\"scale(0.015625)\"/>\n      </defs>\n      <use xlink:href=\"#LiberationSans-6d\"/>\n      <use xlink:href=\"#LiberationSans-61\" x=\"83.300781\"/>\n      <use xlink:href=\"#LiberationSans-78\" x=\"138.916016\"/>\n      <use xlink:href=\"#LiberationSans-49\" x=\"188.916016\"/>\n      <use xlink:href=\"#LiberationSans-74\" x=\"216.699219\"/>\n      <use xlink:href=\"#LiberationSans-65\" x=\"244.482422\"/>\n      <use xlink:href=\"#LiberationSans-72\" x=\"300.097656\"/>\n     </g>\n    </g>\n   </g>\n   <g id=\"QuadMesh_1\">\n    <path d=\"M 104.594688 27.69375 \nL 223.634688 27.69375 \nL 223.634688 129.33375 \nL 104.594688 129.33375 \nL 104.594688 27.69375 \n\" clip-path=\"url(#pc03d131715)\" style=\"fill: #591e50\"/>\n    <path d=\"M 223.634688 27.69375 \nL 342.674688 27.69375 \nL 342.674688 129.33375 \nL 223.634688 129.33375 \nL 223.634688 27.69375 \n\" clip-path=\"url(#pc03d131715)\" style=\"fill: #f9e3d2\"/>\n    <path d=\"M 342.674688 27.69375 \nL 461.714688 27.69375 \nL 461.714688 129.33375 \nL 342.674688 129.33375 \nL 342.674688 27.69375 \n\" clip-path=\"url(#pc03d131715)\" style=\"fill: #faebdd\"/>\n    <path d=\"M 104.594688 129.33375 \nL 223.634688 129.33375 \nL 223.634688 230.97375 \nL 104.594688 230.97375 \nL 104.594688 129.33375 \n\" clip-path=\"url(#pc03d131715)\" style=\"fill: #241432\"/>\n    <path d=\"M 223.634688 129.33375 \nL 342.674688 129.33375 \nL 342.674688 230.97375 \nL 223.634688 230.97375 \nL 223.634688 129.33375 \n\" clip-path=\"url(#pc03d131715)\" style=\"fill: #f8d4bc\"/>\n    <path d=\"M 342.674688 129.33375 \nL 461.714688 129.33375 \nL 461.714688 230.97375 \nL 342.674688 230.97375 \nL 342.674688 129.33375 \n\" clip-path=\"url(#pc03d131715)\" style=\"fill: #f6bc99\"/>\n    <path d=\"M 104.594688 230.97375 \nL 223.634688 230.97375 \nL 223.634688 332.61375 \nL 104.594688 332.61375 \nL 104.594688 230.97375 \n\" clip-path=\"url(#pc03d131715)\" style=\"fill: #03051a\"/>\n    <path d=\"M 223.634688 230.97375 \nL 342.674688 230.97375 \nL 342.674688 332.61375 \nL 223.634688 332.61375 \nL 223.634688 230.97375 \n\" clip-path=\"url(#pc03d131715)\" style=\"fill: #f26b49\"/>\n    <path d=\"M 342.674688 230.97375 \nL 461.714688 230.97375 \nL 461.714688 332.61375 \nL 342.674688 332.61375 \nL 342.674688 230.97375 \n\" clip-path=\"url(#pc03d131715)\" style=\"fill: #f6a47c\"/>\n   </g>\n   <g id=\"text_9\">\n    <!-- 0.9147 -->\n    <g style=\"fill: #ffffff\" transform=\"translate(151.881563 80.5825) scale(0.08 -0.08)\">\n     <defs>\n      <path id=\"LiberationSans-2e\" d=\"M 584 0 \nL 584 684 \nL 1194 684 \nL 1194 0 \nL 584 0 \nz\n\" transform=\"scale(0.015625)\"/>\n      <path id=\"LiberationSans-39\" d=\"M 3256 2291 \nQ 3256 1703 3145 1261 \nQ 3034 819 2828 525 \nQ 2622 231 2326 84 \nQ 2031 -63 1663 -63 \nQ 1409 -63 1206 -11 \nQ 1003 41 843 150 \nQ 684 259 571 434 \nQ 459 609 391 856 \nL 928 941 \nQ 1016 656 1202 523 \nQ 1388 391 1672 391 \nQ 1900 391 2089 498 \nQ 2278 606 2411 822 \nQ 2544 1038 2619 1363 \nQ 2694 1688 2700 2125 \nQ 2634 1978 2520 1862 \nQ 2406 1747 2261 1667 \nQ 2116 1588 1947 1545 \nQ 1778 1503 1606 1503 \nQ 1306 1503 1064 1611 \nQ 822 1719 653 1912 \nQ 484 2106 392 2379 \nQ 300 2653 300 2988 \nQ 300 3328 398 3603 \nQ 497 3878 684 4070 \nQ 872 4263 1145 4366 \nQ 1419 4469 1766 4469 \nQ 2500 4469 2878 3925 \nQ 3256 3381 3256 2291 \nz\nM 2644 2834 \nQ 2644 3078 2586 3293 \nQ 2528 3509 2414 3668 \nQ 2300 3828 2133 3920 \nQ 1966 4013 1747 4013 \nQ 1544 4013 1381 3941 \nQ 1219 3869 1106 3736 \nQ 994 3603 933 3412 \nQ 872 3222 872 2988 \nQ 872 2766 926 2575 \nQ 981 2384 1090 2245 \nQ 1200 2106 1362 2026 \nQ 1525 1947 1741 1947 \nQ 1897 1947 2058 2000 \nQ 2219 2053 2348 2162 \nQ 2478 2272 2561 2439 \nQ 2644 2606 2644 2834 \nz\n\" transform=\"scale(0.015625)\"/>\n      <path id=\"LiberationSans-34\" d=\"M 2753 997 \nL 2753 0 \nL 2222 0 \nL 2222 997 \nL 147 997 \nL 147 1434 \nL 2163 4403 \nL 2753 4403 \nL 2753 1441 \nL 3372 1441 \nL 3372 997 \nL 2753 997 \nz\nM 2222 3769 \nQ 2216 3753 2191 3708 \nQ 2166 3663 2134 3606 \nQ 2103 3550 2070 3492 \nQ 2038 3434 2013 3397 \nL 884 1734 \nQ 869 1709 839 1668 \nQ 809 1628 778 1586 \nQ 747 1544 715 1503 \nQ 684 1463 666 1441 \nL 2222 1441 \nL 2222 3769 \nz\n\" transform=\"scale(0.015625)\"/>\n      <path id=\"LiberationSans-37\" d=\"M 3238 3947 \nQ 2906 3441 2628 2973 \nQ 2350 2506 2150 2032 \nQ 1950 1559 1839 1061 \nQ 1728 563 1728 0 \nL 1141 0 \nQ 1141 528 1266 1036 \nQ 1391 1544 1603 2033 \nQ 1816 2522 2097 2994 \nQ 2378 3466 2694 3925 \nL 328 3925 \nL 328 4403 \nL 3238 4403 \nL 3238 3947 \nz\n\" transform=\"scale(0.015625)\"/>\n     </defs>\n     <use xlink:href=\"#LiberationSans-30\"/>\n     <use xlink:href=\"#LiberationSans-2e\" x=\"55.615234\"/>\n     <use xlink:href=\"#LiberationSans-39\" x=\"83.398438\"/>\n     <use xlink:href=\"#LiberationSans-31\" x=\"139.013672\"/>\n     <use xlink:href=\"#LiberationSans-34\" x=\"194.628906\"/>\n     <use xlink:href=\"#LiberationSans-37\" x=\"250.244141\"/>\n    </g>\n   </g>\n   <g id=\"text_10\">\n    <!-- 0.9211 -->\n    <g style=\"fill: #262626\" transform=\"translate(270.921563 80.5825) scale(0.08 -0.08)\">\n     <defs>\n      <path id=\"LiberationSans-32\" d=\"M 322 0 \nL 322 397 \nQ 481 763 711 1042 \nQ 941 1322 1194 1548 \nQ 1447 1775 1695 1969 \nQ 1944 2163 2144 2356 \nQ 2344 2550 2467 2762 \nQ 2591 2975 2591 3244 \nQ 2591 3431 2534 3573 \nQ 2478 3716 2372 3812 \nQ 2266 3909 2117 3957 \nQ 1969 4006 1788 4006 \nQ 1619 4006 1470 3959 \nQ 1322 3913 1206 3819 \nQ 1091 3725 1017 3586 \nQ 944 3447 922 3263 \nL 347 3316 \nQ 375 3553 478 3762 \nQ 581 3972 762 4130 \nQ 944 4288 1198 4378 \nQ 1453 4469 1788 4469 \nQ 2116 4469 2372 4391 \nQ 2628 4313 2804 4159 \nQ 2981 4006 3075 3781 \nQ 3169 3556 3169 3263 \nQ 3169 3041 3089 2841 \nQ 3009 2641 2876 2459 \nQ 2744 2278 2569 2109 \nQ 2394 1941 2203 1780 \nQ 2013 1619 1819 1461 \nQ 1625 1303 1454 1143 \nQ 1284 984 1150 820 \nQ 1016 656 941 478 \nL 3238 478 \nL 3238 0 \nL 322 0 \nz\n\" transform=\"scale(0.015625)\"/>\n     </defs>\n     <use xlink:href=\"#LiberationSans-30\"/>\n     <use xlink:href=\"#LiberationSans-2e\" x=\"55.615234\"/>\n     <use xlink:href=\"#LiberationSans-39\" x=\"83.398438\"/>\n     <use xlink:href=\"#LiberationSans-32\" x=\"139.013672\"/>\n     <use xlink:href=\"#LiberationSans-31\" x=\"194.628906\"/>\n     <use xlink:href=\"#LiberationSans-31\" x=\"250.244141\"/>\n    </g>\n   </g>\n   <g id=\"text_11\">\n    <!-- 0.9213 -->\n    <g style=\"fill: #262626\" transform=\"translate(389.961563 80.5825) scale(0.08 -0.08)\">\n     <defs>\n      <path id=\"LiberationSans-33\" d=\"M 3278 1216 \nQ 3278 913 3179 675 \nQ 3081 438 2892 273 \nQ 2703 109 2423 23 \nQ 2144 -63 1784 -63 \nQ 1375 -63 1095 39 \nQ 816 141 634 308 \nQ 453 475 362 689 \nQ 272 903 244 1131 \nL 825 1184 \nQ 850 1009 917 865 \nQ 984 722 1100 619 \nQ 1216 516 1384 459 \nQ 1553 403 1784 403 \nQ 2209 403 2451 612 \nQ 2694 822 2694 1234 \nQ 2694 1478 2586 1626 \nQ 2478 1775 2317 1858 \nQ 2156 1941 1967 1969 \nQ 1778 1997 1619 1997 \nL 1300 1997 \nL 1300 2484 \nL 1606 2484 \nQ 1766 2484 1937 2517 \nQ 2109 2550 2251 2636 \nQ 2394 2722 2486 2869 \nQ 2578 3016 2578 3244 \nQ 2578 3597 2370 3801 \nQ 2163 4006 1753 4006 \nQ 1381 4006 1151 3815 \nQ 922 3625 884 3278 \nL 319 3322 \nQ 353 3613 478 3828 \nQ 603 4044 795 4186 \nQ 988 4328 1234 4398 \nQ 1481 4469 1759 4469 \nQ 2128 4469 2393 4376 \nQ 2659 4284 2828 4126 \nQ 2997 3969 3076 3756 \nQ 3156 3544 3156 3303 \nQ 3156 3109 3103 2940 \nQ 3050 2772 2937 2637 \nQ 2825 2503 2651 2406 \nQ 2478 2309 2234 2259 \nL 2234 2247 \nQ 2500 2219 2697 2126 \nQ 2894 2034 3022 1896 \nQ 3150 1759 3214 1584 \nQ 3278 1409 3278 1216 \nz\n\" transform=\"scale(0.015625)\"/>\n     </defs>\n     <use xlink:href=\"#LiberationSans-30\"/>\n     <use xlink:href=\"#LiberationSans-2e\" x=\"55.615234\"/>\n     <use xlink:href=\"#LiberationSans-39\" x=\"83.398438\"/>\n     <use xlink:href=\"#LiberationSans-32\" x=\"139.013672\"/>\n     <use xlink:href=\"#LiberationSans-31\" x=\"194.628906\"/>\n     <use xlink:href=\"#LiberationSans-33\" x=\"250.244141\"/>\n    </g>\n   </g>\n   <g id=\"text_12\">\n    <!-- 0.9135 -->\n    <g style=\"fill: #ffffff\" transform=\"translate(151.881563 182.2225) scale(0.08 -0.08)\">\n     <use xlink:href=\"#LiberationSans-30\"/>\n     <use xlink:href=\"#LiberationSans-2e\" x=\"55.615234\"/>\n     <use xlink:href=\"#LiberationSans-39\" x=\"83.398438\"/>\n     <use xlink:href=\"#LiberationSans-31\" x=\"139.013672\"/>\n     <use xlink:href=\"#LiberationSans-33\" x=\"194.628906\"/>\n     <use xlink:href=\"#LiberationSans-35\" x=\"250.244141\"/>\n    </g>\n   </g>\n   <g id=\"text_13\">\n    <!-- 0.9207 -->\n    <g style=\"fill: #262626\" transform=\"translate(270.921563 182.2225) scale(0.08 -0.08)\">\n     <use xlink:href=\"#LiberationSans-30\"/>\n     <use xlink:href=\"#LiberationSans-2e\" x=\"55.615234\"/>\n     <use xlink:href=\"#LiberationSans-39\" x=\"83.398438\"/>\n     <use xlink:href=\"#LiberationSans-32\" x=\"139.013672\"/>\n     <use xlink:href=\"#LiberationSans-30\" x=\"194.628906\"/>\n     <use xlink:href=\"#LiberationSans-37\" x=\"250.244141\"/>\n    </g>\n   </g>\n   <g id=\"text_14\">\n    <!-- 0.9202 -->\n    <g style=\"fill: #262626\" transform=\"translate(389.961563 182.2225) scale(0.08 -0.08)\">\n     <use xlink:href=\"#LiberationSans-30\"/>\n     <use xlink:href=\"#LiberationSans-2e\" x=\"55.615234\"/>\n     <use xlink:href=\"#LiberationSans-39\" x=\"83.398438\"/>\n     <use xlink:href=\"#LiberationSans-32\" x=\"139.013672\"/>\n     <use xlink:href=\"#LiberationSans-30\" x=\"194.628906\"/>\n     <use xlink:href=\"#LiberationSans-32\" x=\"250.244141\"/>\n    </g>\n   </g>\n   <g id=\"text_15\">\n    <!-- 0.9127 -->\n    <g style=\"fill: #ffffff\" transform=\"translate(151.881563 283.8625) scale(0.08 -0.08)\">\n     <use xlink:href=\"#LiberationSans-30\"/>\n     <use xlink:href=\"#LiberationSans-2e\" x=\"55.615234\"/>\n     <use xlink:href=\"#LiberationSans-39\" x=\"83.398438\"/>\n     <use xlink:href=\"#LiberationSans-31\" x=\"139.013672\"/>\n     <use xlink:href=\"#LiberationSans-32\" x=\"194.628906\"/>\n     <use xlink:href=\"#LiberationSans-37\" x=\"250.244141\"/>\n    </g>\n   </g>\n   <g id=\"text_16\">\n    <!-- 0.9186 -->\n    <g style=\"fill: #ffffff\" transform=\"translate(270.921563 283.8625) scale(0.08 -0.08)\">\n     <defs>\n      <path id=\"LiberationSans-38\" d=\"M 3281 1228 \nQ 3281 947 3192 711 \nQ 3103 475 2920 303 \nQ 2738 131 2453 34 \nQ 2169 -63 1781 -63 \nQ 1394 -63 1111 34 \nQ 828 131 642 301 \nQ 456 472 367 708 \nQ 278 944 278 1222 \nQ 278 1463 351 1650 \nQ 425 1838 548 1973 \nQ 672 2109 830 2192 \nQ 988 2275 1156 2303 \nL 1156 2316 \nQ 972 2359 826 2456 \nQ 681 2553 582 2689 \nQ 484 2825 432 2990 \nQ 381 3156 381 3341 \nQ 381 3572 470 3776 \nQ 559 3981 734 4136 \nQ 909 4291 1168 4380 \nQ 1428 4469 1769 4469 \nQ 2128 4469 2392 4378 \nQ 2656 4288 2829 4133 \nQ 3003 3978 3087 3772 \nQ 3172 3566 3172 3334 \nQ 3172 3153 3120 2987 \nQ 3069 2822 2970 2686 \nQ 2872 2550 2726 2454 \nQ 2581 2359 2391 2322 \nL 2391 2309 \nQ 2581 2278 2743 2195 \nQ 2906 2113 3025 1977 \nQ 3144 1841 3212 1653 \nQ 3281 1466 3281 1228 \nz\nM 2588 3303 \nQ 2588 3469 2545 3606 \nQ 2503 3744 2406 3842 \nQ 2309 3941 2153 3995 \nQ 1997 4050 1769 4050 \nQ 1547 4050 1394 3995 \nQ 1241 3941 1142 3842 \nQ 1044 3744 1000 3606 \nQ 956 3469 956 3303 \nQ 956 3172 990 3034 \nQ 1025 2897 1115 2784 \nQ 1206 2672 1365 2600 \nQ 1525 2528 1775 2528 \nQ 2041 2528 2202 2600 \nQ 2363 2672 2448 2784 \nQ 2534 2897 2561 3034 \nQ 2588 3172 2588 3303 \nz\nM 2697 1281 \nQ 2697 1441 2653 1589 \nQ 2609 1738 2503 1852 \nQ 2397 1966 2217 2036 \nQ 2038 2106 1769 2106 \nQ 1522 2106 1348 2036 \nQ 1175 1966 1067 1850 \nQ 959 1734 909 1582 \nQ 859 1431 859 1269 \nQ 859 1066 909 898 \nQ 959 731 1068 611 \nQ 1178 491 1356 425 \nQ 1534 359 1788 359 \nQ 2044 359 2219 425 \nQ 2394 491 2500 611 \nQ 2606 731 2651 901 \nQ 2697 1072 2697 1281 \nz\n\" transform=\"scale(0.015625)\"/>\n      <path id=\"LiberationSans-36\" d=\"M 3278 1441 \nQ 3278 1109 3186 832 \nQ 3094 556 2914 357 \nQ 2734 159 2468 48 \nQ 2203 -63 1856 -63 \nQ 1472 -63 1184 84 \nQ 897 231 706 507 \nQ 516 784 420 1186 \nQ 325 1588 325 2100 \nQ 325 2688 433 3131 \nQ 541 3575 744 3872 \nQ 947 4169 1239 4319 \nQ 1531 4469 1900 4469 \nQ 2125 4469 2322 4422 \nQ 2519 4375 2680 4270 \nQ 2841 4166 2962 3994 \nQ 3084 3822 3156 3572 \nL 2619 3475 \nQ 2531 3759 2339 3886 \nQ 2147 4013 1894 4013 \nQ 1663 4013 1475 3903 \nQ 1288 3794 1156 3576 \nQ 1025 3359 954 3031 \nQ 884 2703 884 2266 \nQ 1038 2550 1316 2698 \nQ 1594 2847 1953 2847 \nQ 2253 2847 2497 2750 \nQ 2741 2653 2914 2470 \nQ 3088 2288 3183 2027 \nQ 3278 1766 3278 1441 \nz\nM 2706 1416 \nQ 2706 1644 2650 1828 \nQ 2594 2013 2481 2142 \nQ 2369 2272 2203 2342 \nQ 2038 2413 1819 2413 \nQ 1666 2413 1509 2367 \nQ 1353 2322 1226 2220 \nQ 1100 2119 1020 1953 \nQ 941 1788 941 1550 \nQ 941 1306 1003 1095 \nQ 1066 884 1183 728 \nQ 1300 572 1465 481 \nQ 1631 391 1838 391 \nQ 2041 391 2202 461 \nQ 2363 531 2475 664 \nQ 2588 797 2647 987 \nQ 2706 1178 2706 1416 \nz\n\" transform=\"scale(0.015625)\"/>\n     </defs>\n     <use xlink:href=\"#LiberationSans-30\"/>\n     <use xlink:href=\"#LiberationSans-2e\" x=\"55.615234\"/>\n     <use xlink:href=\"#LiberationSans-39\" x=\"83.398438\"/>\n     <use xlink:href=\"#LiberationSans-31\" x=\"139.013672\"/>\n     <use xlink:href=\"#LiberationSans-38\" x=\"194.628906\"/>\n     <use xlink:href=\"#LiberationSans-36\" x=\"250.244141\"/>\n    </g>\n   </g>\n   <g id=\"text_17\">\n    <!-- 0.9197 -->\n    <g style=\"fill: #262626\" transform=\"translate(389.961563 283.8625) scale(0.08 -0.08)\">\n     <use xlink:href=\"#LiberationSans-30\"/>\n     <use xlink:href=\"#LiberationSans-2e\" x=\"55.615234\"/>\n     <use xlink:href=\"#LiberationSans-39\" x=\"83.398438\"/>\n     <use xlink:href=\"#LiberationSans-31\" x=\"139.013672\"/>\n     <use xlink:href=\"#LiberationSans-39\" x=\"194.628906\"/>\n     <use xlink:href=\"#LiberationSans-37\" x=\"250.244141\"/>\n    </g>\n   </g>\n   <g id=\"text_18\">\n    <!-- RMSE variation with hyperparameters and regularization = 0.1 -->\n    <g style=\"fill: #262626\" transform=\"translate(7.2 21.69375) scale(0.2 -0.2)\">\n     <defs>\n      <path id=\"LiberationSans-52\" d=\"M 3638 0 \nL 2494 1828 \nL 1122 1828 \nL 1122 0 \nL 525 0 \nL 525 4403 \nL 2597 4403 \nQ 2972 4403 3261 4317 \nQ 3550 4231 3747 4068 \nQ 3944 3906 4047 3672 \nQ 4150 3438 4150 3144 \nQ 4150 2934 4089 2731 \nQ 4028 2528 3897 2359 \nQ 3766 2191 3562 2069 \nQ 3359 1947 3075 1897 \nL 4325 0 \nL 3638 0 \nz\nM 3550 3138 \nQ 3550 3338 3481 3484 \nQ 3413 3631 3281 3729 \nQ 3150 3828 2962 3876 \nQ 2775 3925 2538 3925 \nL 1122 3925 \nL 1122 2300 \nL 2563 2300 \nQ 2819 2300 3006 2364 \nQ 3194 2428 3314 2540 \nQ 3434 2653 3492 2806 \nQ 3550 2959 3550 3138 \nz\n\" transform=\"scale(0.015625)\"/>\n      <path id=\"LiberationSans-4d\" d=\"M 4269 0 \nL 4269 2938 \nQ 4269 3097 4272 3262 \nQ 4275 3428 4281 3566 \nQ 4288 3725 4297 3875 \nQ 4253 3716 4206 3559 \nQ 4166 3425 4117 3273 \nQ 4069 3122 4022 3000 \nL 2884 0 \nL 2466 0 \nL 1313 3000 \nQ 1294 3047 1273 3109 \nQ 1253 3172 1229 3242 \nQ 1206 3313 1182 3386 \nQ 1159 3459 1138 3531 \nQ 1084 3697 1034 3875 \nQ 1038 3700 1044 3528 \nQ 1050 3381 1053 3220 \nQ 1056 3059 1056 2938 \nL 1056 0 \nL 525 0 \nL 525 4403 \nL 1309 4403 \nL 2481 1350 \nQ 2503 1288 2534 1189 \nQ 2566 1091 2594 987 \nQ 2622 884 2645 792 \nQ 2669 700 2678 650 \nQ 2688 700 2713 794 \nQ 2738 888 2770 991 \nQ 2803 1094 2834 1191 \nQ 2866 1288 2891 1350 \nL 4041 4403 \nL 4806 4403 \nL 4806 0 \nL 4269 0 \nz\n\" transform=\"scale(0.015625)\"/>\n      <path id=\"LiberationSans-53\" d=\"M 3975 1216 \nQ 3975 938 3867 703 \nQ 3759 469 3534 298 \nQ 3309 128 2967 32 \nQ 2625 -63 2156 -63 \nQ 1334 -63 875 225 \nQ 416 513 291 1056 \nL 869 1172 \nQ 913 1000 1003 859 \nQ 1094 719 1248 617 \nQ 1403 516 1631 459 \nQ 1859 403 2178 403 \nQ 2444 403 2666 448 \nQ 2888 494 3047 587 \nQ 3206 681 3295 829 \nQ 3384 978 3384 1184 \nQ 3384 1400 3286 1534 \nQ 3188 1669 3009 1756 \nQ 2831 1844 2584 1903 \nQ 2338 1963 2038 2031 \nQ 1853 2072 1667 2120 \nQ 1481 2169 1311 2236 \nQ 1141 2303 991 2393 \nQ 841 2484 731 2611 \nQ 622 2738 559 2905 \nQ 497 3072 497 3291 \nQ 497 3603 623 3826 \nQ 750 4050 975 4194 \nQ 1200 4338 1506 4403 \nQ 1813 4469 2169 4469 \nQ 2578 4469 2868 4405 \nQ 3159 4341 3359 4212 \nQ 3559 4084 3679 3895 \nQ 3800 3706 3872 3456 \nL 3284 3353 \nQ 3241 3513 3158 3638 \nQ 3075 3763 2940 3847 \nQ 2806 3931 2614 3975 \nQ 2422 4019 2163 4019 \nQ 1856 4019 1648 3964 \nQ 1441 3909 1314 3815 \nQ 1188 3722 1133 3595 \nQ 1078 3469 1078 3322 \nQ 1078 3125 1176 2998 \nQ 1275 2872 1444 2787 \nQ 1613 2703 1834 2647 \nQ 2056 2591 2306 2534 \nQ 2509 2488 2711 2439 \nQ 2913 2391 3097 2323 \nQ 3281 2256 3442 2165 \nQ 3603 2075 3722 1944 \nQ 3841 1813 3908 1634 \nQ 3975 1456 3975 1216 \nz\n\" transform=\"scale(0.015625)\"/>\n      <path id=\"LiberationSans-45\" d=\"M 525 0 \nL 525 4403 \nL 3866 4403 \nL 3866 3916 \nL 1122 3916 \nL 1122 2503 \nL 3678 2503 \nL 3678 2022 \nL 1122 2022 \nL 1122 488 \nL 3994 488 \nL 3994 0 \nL 525 0 \nz\n\" transform=\"scale(0.015625)\"/>\n      <path id=\"LiberationSans-20\" transform=\"scale(0.015625)\"/>\n      <path id=\"LiberationSans-76\" d=\"M 1916 0 \nL 1250 0 \nL 22 3381 \nL 622 3381 \nL 1366 1181 \nQ 1388 1113 1417 1014 \nQ 1447 916 1478 809 \nQ 1509 703 1536 604 \nQ 1563 506 1581 441 \nQ 1600 506 1629 604 \nQ 1659 703 1690 806 \nQ 1722 909 1755 1007 \nQ 1788 1106 1813 1175 \nL 2581 3381 \nL 3178 3381 \nL 1916 0 \nz\n\" transform=\"scale(0.015625)\"/>\n      <path id=\"LiberationSans-69\" d=\"M 428 4100 \nL 428 4638 \nL 991 4638 \nL 991 4100 \nL 428 4100 \nz\nM 428 0 \nL 428 3381 \nL 991 3381 \nL 991 0 \nL 428 0 \nz\n\" transform=\"scale(0.015625)\"/>\n      <path id=\"LiberationSans-6f\" d=\"M 3291 1694 \nQ 3291 806 2900 371 \nQ 2509 -63 1766 -63 \nQ 1413 -63 1134 43 \nQ 856 150 664 369 \nQ 472 588 370 917 \nQ 269 1247 269 1694 \nQ 269 3444 1784 3444 \nQ 2178 3444 2464 3334 \nQ 2750 3225 2933 3006 \nQ 3116 2788 3203 2459 \nQ 3291 2131 3291 1694 \nz\nM 2700 1694 \nQ 2700 2088 2639 2344 \nQ 2578 2600 2461 2753 \nQ 2344 2906 2175 2967 \nQ 2006 3028 1794 3028 \nQ 1578 3028 1404 2964 \nQ 1231 2900 1109 2745 \nQ 988 2591 923 2334 \nQ 859 2078 859 1694 \nQ 859 1300 928 1042 \nQ 997 784 1117 631 \nQ 1238 478 1402 415 \nQ 1566 353 1759 353 \nQ 1975 353 2150 414 \nQ 2325 475 2447 628 \nQ 2569 781 2634 1040 \nQ 2700 1300 2700 1694 \nz\n\" transform=\"scale(0.015625)\"/>\n      <path id=\"LiberationSans-77\" d=\"M 3669 0 \nL 3016 0 \nL 2475 2181 \nQ 2450 2266 2423 2391 \nQ 2397 2516 2372 2634 \nQ 2341 2772 2313 2919 \nQ 2284 2778 2253 2641 \nQ 2228 2522 2198 2394 \nQ 2169 2266 2144 2169 \nL 1588 0 \nL 938 0 \nL -9 3381 \nL 547 3381 \nL 1119 1084 \nQ 1141 1013 1162 908 \nQ 1184 803 1206 703 \nQ 1228 588 1253 466 \nQ 1278 584 1306 697 \nQ 1331 794 1356 894 \nQ 1381 994 1400 1059 \nL 2013 3381 \nL 2616 3381 \nL 3206 1059 \nQ 3228 978 3253 875 \nQ 3278 772 3300 681 \nQ 3325 575 3350 466 \nQ 3375 584 3400 697 \nQ 3422 794 3445 898 \nQ 3469 1003 3491 1084 \nL 4088 3381 \nL 4638 3381 \nL 3669 0 \nz\n\" transform=\"scale(0.015625)\"/>\n      <path id=\"LiberationSans-68\" d=\"M 991 2803 \nQ 1084 2975 1193 3095 \nQ 1303 3216 1434 3294 \nQ 1566 3372 1722 3408 \nQ 1878 3444 2072 3444 \nQ 2397 3444 2605 3356 \nQ 2813 3269 2933 3111 \nQ 3053 2953 3098 2734 \nQ 3144 2516 3144 2253 \nL 3144 0 \nL 2578 0 \nL 2578 2144 \nQ 2578 2359 2551 2521 \nQ 2525 2684 2450 2792 \nQ 2375 2900 2237 2954 \nQ 2100 3009 1881 3009 \nQ 1681 3009 1520 2937 \nQ 1359 2866 1245 2734 \nQ 1131 2603 1068 2415 \nQ 1006 2228 1006 1994 \nL 1006 0 \nL 444 0 \nL 444 4638 \nL 1006 4638 \nL 1006 3431 \nQ 1006 3328 1003 3225 \nQ 1000 3122 995 3034 \nQ 991 2947 987 2886 \nQ 984 2825 981 2803 \nL 991 2803 \nz\n\" transform=\"scale(0.015625)\"/>\n      <path id=\"LiberationSans-79\" d=\"M 1888 0 \nQ 1769 -306 1645 -551 \nQ 1522 -797 1369 -970 \nQ 1216 -1144 1028 -1236 \nQ 841 -1328 597 -1328 \nQ 491 -1328 400 -1322 \nQ 309 -1316 209 -1294 \nL 209 -872 \nQ 269 -881 344 -886 \nQ 419 -891 472 -891 \nQ 719 -891 931 -706 \nQ 1144 -522 1303 -119 \nL 1356 16 \nL 16 3381 \nL 616 3381 \nL 1328 1513 \nQ 1359 1428 1407 1287 \nQ 1456 1147 1504 1006 \nQ 1553 866 1590 753 \nQ 1628 641 1634 613 \nQ 1644 647 1680 748 \nQ 1716 850 1761 975 \nQ 1806 1100 1853 1228 \nQ 1900 1356 1931 1450 \nL 2594 3381 \nL 3188 3381 \nL 1888 0 \nz\n\" transform=\"scale(0.015625)\"/>\n      <path id=\"LiberationSans-70\" d=\"M 3291 1706 \nQ 3291 1322 3228 997 \nQ 3166 672 3020 437 \nQ 2875 203 2636 70 \nQ 2397 -63 2047 -63 \nQ 1684 -63 1412 75 \nQ 1141 213 997 525 \nL 981 525 \nQ 984 519 986 469 \nQ 988 419 989 344 \nQ 991 269 992 176 \nQ 994 84 994 -6 \nL 994 -1328 \nL 431 -1328 \nL 431 2691 \nQ 431 2813 429 2925 \nQ 428 3038 425 3130 \nQ 422 3222 419 3287 \nQ 416 3353 413 3381 \nL 956 3381 \nQ 959 3372 964 3315 \nQ 969 3259 973 3179 \nQ 978 3100 983 3009 \nQ 988 2919 988 2838 \nL 1000 2838 \nQ 1078 3000 1178 3114 \nQ 1278 3228 1406 3301 \nQ 1534 3375 1692 3408 \nQ 1850 3441 2047 3441 \nQ 2397 3441 2636 3316 \nQ 2875 3191 3020 2964 \nQ 3166 2738 3228 2417 \nQ 3291 2097 3291 1706 \nz\nM 2700 1694 \nQ 2700 2006 2662 2250 \nQ 2625 2494 2533 2662 \nQ 2441 2831 2287 2918 \nQ 2134 3006 1903 3006 \nQ 1716 3006 1550 2953 \nQ 1384 2900 1261 2750 \nQ 1138 2600 1066 2336 \nQ 994 2072 994 1650 \nQ 994 1291 1053 1042 \nQ 1113 794 1227 641 \nQ 1341 488 1509 420 \nQ 1678 353 1897 353 \nQ 2131 353 2286 443 \nQ 2441 534 2533 706 \nQ 2625 878 2662 1126 \nQ 2700 1375 2700 1694 \nz\n\" transform=\"scale(0.015625)\"/>\n      <path id=\"LiberationSans-73\" d=\"M 2969 934 \nQ 2969 697 2876 511 \nQ 2784 325 2609 198 \nQ 2434 72 2179 4 \nQ 1925 -63 1597 -63 \nQ 1303 -63 1067 -17 \nQ 831 28 653 128 \nQ 475 228 354 392 \nQ 234 556 178 794 \nL 675 891 \nQ 747 619 972 492 \nQ 1197 366 1597 366 \nQ 1778 366 1929 391 \nQ 2081 416 2190 477 \nQ 2300 538 2361 639 \nQ 2422 741 2422 891 \nQ 2422 1044 2350 1142 \nQ 2278 1241 2150 1306 \nQ 2022 1372 1839 1420 \nQ 1656 1469 1438 1528 \nQ 1234 1581 1034 1647 \nQ 834 1713 673 1820 \nQ 513 1928 413 2087 \nQ 313 2247 313 2488 \nQ 313 2950 642 3192 \nQ 972 3434 1603 3434 \nQ 2163 3434 2492 3237 \nQ 2822 3041 2909 2606 \nL 2403 2544 \nQ 2375 2675 2300 2764 \nQ 2225 2853 2119 2908 \nQ 2013 2963 1880 2986 \nQ 1747 3009 1603 3009 \nQ 1222 3009 1040 2893 \nQ 859 2778 859 2544 \nQ 859 2406 926 2317 \nQ 994 2228 1114 2167 \nQ 1234 2106 1403 2061 \nQ 1572 2016 1775 1966 \nQ 1909 1931 2050 1892 \nQ 2191 1853 2323 1798 \nQ 2456 1744 2573 1670 \nQ 2691 1597 2778 1494 \nQ 2866 1391 2917 1253 \nQ 2969 1116 2969 934 \nz\n\" transform=\"scale(0.015625)\"/>\n      <path id=\"LiberationSans-64\" d=\"M 2566 544 \nQ 2409 219 2151 78 \nQ 1894 -63 1513 -63 \nQ 872 -63 570 368 \nQ 269 800 269 1675 \nQ 269 3444 1513 3444 \nQ 1897 3444 2153 3303 \nQ 2409 3163 2566 2856 \nL 2572 2856 \nQ 2572 2888 2570 2955 \nQ 2569 3022 2567 3095 \nQ 2566 3169 2566 3234 \nQ 2566 3300 2566 3328 \nL 2566 4638 \nL 3128 4638 \nL 3128 697 \nQ 3128 575 3129 462 \nQ 3131 350 3134 256 \nQ 3138 163 3141 95 \nQ 3144 28 3147 0 \nL 2609 0 \nQ 2603 31 2598 89 \nQ 2594 147 2589 222 \nQ 2584 297 2581 380 \nQ 2578 463 2578 544 \nL 2566 544 \nz\nM 859 1694 \nQ 859 1344 903 1094 \nQ 947 844 1044 683 \nQ 1141 522 1291 447 \nQ 1441 372 1656 372 \nQ 1878 372 2048 444 \nQ 2219 516 2333 677 \nQ 2447 838 2506 1097 \nQ 2566 1356 2566 1731 \nQ 2566 2091 2506 2339 \nQ 2447 2588 2331 2741 \nQ 2216 2894 2048 2961 \nQ 1881 3028 1663 3028 \nQ 1456 3028 1306 2956 \nQ 1156 2884 1056 2725 \nQ 956 2566 907 2311 \nQ 859 2056 859 1694 \nz\n\" transform=\"scale(0.015625)\"/>\n      <path id=\"LiberationSans-67\" d=\"M 1713 -1328 \nQ 1422 -1328 1197 -1268 \nQ 972 -1209 812 -1098 \nQ 653 -988 553 -834 \nQ 453 -681 409 -494 \nL 975 -413 \nQ 1031 -647 1223 -773 \nQ 1416 -900 1728 -900 \nQ 1919 -900 2075 -847 \nQ 2231 -794 2340 -676 \nQ 2450 -559 2509 -371 \nQ 2569 -184 2569 84 \nL 2569 628 \nL 2563 628 \nQ 2500 500 2408 383 \nQ 2316 266 2183 175 \nQ 2050 84 1875 29 \nQ 1700 -25 1475 -25 \nQ 1153 -25 923 83 \nQ 694 191 548 406 \nQ 403 622 336 942 \nQ 269 1263 269 1684 \nQ 269 2091 336 2416 \nQ 403 2741 554 2967 \nQ 706 3194 948 3314 \nQ 1191 3434 1538 3434 \nQ 1897 3434 2161 3270 \nQ 2425 3106 2569 2803 \nL 2575 2803 \nQ 2575 2881 2579 2978 \nQ 2584 3075 2589 3161 \nQ 2594 3247 2600 3309 \nQ 2606 3372 2613 3381 \nL 3147 3381 \nQ 3144 3353 3141 3286 \nQ 3138 3219 3134 3125 \nQ 3131 3031 3129 2917 \nQ 3128 2803 3128 2681 \nL 3128 97 \nQ 3128 -613 2779 -970 \nQ 2431 -1328 1713 -1328 \nz\nM 2569 1691 \nQ 2569 2044 2492 2295 \nQ 2416 2547 2291 2706 \nQ 2166 2866 2005 2941 \nQ 1844 3016 1675 3016 \nQ 1459 3016 1304 2941 \nQ 1150 2866 1048 2705 \nQ 947 2544 898 2292 \nQ 850 2041 850 1691 \nQ 850 1325 898 1076 \nQ 947 828 1047 675 \nQ 1147 522 1300 456 \nQ 1453 391 1666 391 \nQ 1834 391 1995 462 \nQ 2156 534 2284 690 \nQ 2413 847 2491 1094 \nQ 2569 1341 2569 1691 \nz\n\" transform=\"scale(0.015625)\"/>\n      <path id=\"LiberationSans-75\" d=\"M 981 3381 \nL 981 1238 \nQ 981 991 1017 825 \nQ 1053 659 1134 557 \nQ 1216 456 1348 414 \nQ 1481 372 1678 372 \nQ 1878 372 2039 442 \nQ 2200 513 2314 645 \nQ 2428 778 2490 973 \nQ 2553 1169 2553 1422 \nL 2553 3381 \nL 3116 3381 \nL 3116 722 \nQ 3116 616 3117 498 \nQ 3119 381 3122 276 \nQ 3125 172 3128 97 \nQ 3131 22 3134 0 \nL 2603 0 \nQ 2600 16 2597 84 \nQ 2594 153 2589 242 \nQ 2584 331 2581 423 \nQ 2578 516 2578 578 \nL 2569 578 \nQ 2488 431 2391 312 \nQ 2294 194 2166 111 \nQ 2038 28 1872 -17 \nQ 1706 -63 1488 -63 \nQ 1206 -63 1003 6 \nQ 800 75 669 219 \nQ 538 363 477 588 \nQ 416 813 416 1128 \nL 416 3381 \nL 981 3381 \nz\n\" transform=\"scale(0.015625)\"/>\n      <path id=\"LiberationSans-6c\" d=\"M 431 0 \nL 431 4638 \nL 994 4638 \nL 994 0 \nL 431 0 \nz\n\" transform=\"scale(0.015625)\"/>\n      <path id=\"LiberationSans-7a\" d=\"M 153 0 \nL 153 428 \nL 2219 2947 \nL 278 2947 \nL 278 3381 \nL 2853 3381 \nL 2853 2953 \nL 784 434 \nL 2969 434 \nL 2969 0 \nL 153 0 \nz\n\" transform=\"scale(0.015625)\"/>\n      <path id=\"LiberationSans-3d\" d=\"M 313 2675 \nL 313 3138 \nL 3422 3138 \nL 3422 2675 \nL 313 2675 \nz\nM 313 1075 \nL 313 1538 \nL 3422 1538 \nL 3422 1075 \nL 313 1075 \nz\n\" transform=\"scale(0.015625)\"/>\n     </defs>\n     <use xlink:href=\"#LiberationSans-52\"/>\n     <use xlink:href=\"#LiberationSans-4d\" x=\"72.216797\"/>\n     <use xlink:href=\"#LiberationSans-53\" x=\"155.517578\"/>\n     <use xlink:href=\"#LiberationSans-45\" x=\"222.216797\"/>\n     <use xlink:href=\"#LiberationSans-20\" x=\"288.916016\"/>\n     <use xlink:href=\"#LiberationSans-76\" x=\"316.699219\"/>\n     <use xlink:href=\"#LiberationSans-61\" x=\"366.699219\"/>\n     <use xlink:href=\"#LiberationSans-72\" x=\"422.314453\"/>\n     <use xlink:href=\"#LiberationSans-69\" x=\"455.615234\"/>\n     <use xlink:href=\"#LiberationSans-61\" x=\"477.832031\"/>\n     <use xlink:href=\"#LiberationSans-74\" x=\"533.447266\"/>\n     <use xlink:href=\"#LiberationSans-69\" x=\"561.230469\"/>\n     <use xlink:href=\"#LiberationSans-6f\" x=\"583.447266\"/>\n     <use xlink:href=\"#LiberationSans-6e\" x=\"639.0625\"/>\n     <use xlink:href=\"#LiberationSans-20\" x=\"694.677734\"/>\n     <use xlink:href=\"#LiberationSans-77\" x=\"722.460938\"/>\n     <use xlink:href=\"#LiberationSans-69\" x=\"794.677734\"/>\n     <use xlink:href=\"#LiberationSans-74\" x=\"816.894531\"/>\n     <use xlink:href=\"#LiberationSans-68\" x=\"844.677734\"/>\n     <use xlink:href=\"#LiberationSans-20\" x=\"900.292969\"/>\n     <use xlink:href=\"#LiberationSans-68\" x=\"928.076172\"/>\n     <use xlink:href=\"#LiberationSans-79\" x=\"983.691406\"/>\n     <use xlink:href=\"#LiberationSans-70\" x=\"1033.691406\"/>\n     <use xlink:href=\"#LiberationSans-65\" x=\"1089.306641\"/>\n     <use xlink:href=\"#LiberationSans-72\" x=\"1144.921875\"/>\n     <use xlink:href=\"#LiberationSans-70\" x=\"1178.222656\"/>\n     <use xlink:href=\"#LiberationSans-61\" x=\"1233.837891\"/>\n     <use xlink:href=\"#LiberationSans-72\" x=\"1289.453125\"/>\n     <use xlink:href=\"#LiberationSans-61\" x=\"1322.753906\"/>\n     <use xlink:href=\"#LiberationSans-6d\" x=\"1378.369141\"/>\n     <use xlink:href=\"#LiberationSans-65\" x=\"1461.669922\"/>\n     <use xlink:href=\"#LiberationSans-74\" x=\"1517.285156\"/>\n     <use xlink:href=\"#LiberationSans-65\" x=\"1545.068359\"/>\n     <use xlink:href=\"#LiberationSans-72\" x=\"1600.683594\"/>\n     <use xlink:href=\"#LiberationSans-73\" x=\"1633.984375\"/>\n     <use xlink:href=\"#LiberationSans-20\" x=\"1683.984375\"/>\n     <use xlink:href=\"#LiberationSans-61\" x=\"1711.767578\"/>\n     <use xlink:href=\"#LiberationSans-6e\" x=\"1767.382812\"/>\n     <use xlink:href=\"#LiberationSans-64\" x=\"1822.998047\"/>\n     <use xlink:href=\"#LiberationSans-20\" x=\"1878.613281\"/>\n     <use xlink:href=\"#LiberationSans-72\" x=\"1906.396484\"/>\n     <use xlink:href=\"#LiberationSans-65\" x=\"1939.697266\"/>\n     <use xlink:href=\"#LiberationSans-67\" x=\"1995.3125\"/>\n     <use xlink:href=\"#LiberationSans-75\" x=\"2050.927734\"/>\n     <use xlink:href=\"#LiberationSans-6c\" x=\"2106.542969\"/>\n     <use xlink:href=\"#LiberationSans-61\" x=\"2128.759766\"/>\n     <use xlink:href=\"#LiberationSans-72\" x=\"2184.375\"/>\n     <use xlink:href=\"#LiberationSans-69\" x=\"2217.675781\"/>\n     <use xlink:href=\"#LiberationSans-7a\" x=\"2239.892578\"/>\n     <use xlink:href=\"#LiberationSans-61\" x=\"2289.892578\"/>\n     <use xlink:href=\"#LiberationSans-74\" x=\"2345.507812\"/>\n     <use xlink:href=\"#LiberationSans-69\" x=\"2373.291016\"/>\n     <use xlink:href=\"#LiberationSans-6f\" x=\"2395.507812\"/>\n     <use xlink:href=\"#LiberationSans-6e\" x=\"2451.123047\"/>\n     <use xlink:href=\"#LiberationSans-20\" x=\"2506.738281\"/>\n     <use xlink:href=\"#LiberationSans-3d\" x=\"2534.521484\"/>\n     <use xlink:href=\"#LiberationSans-20\" x=\"2592.919922\"/>\n     <use xlink:href=\"#LiberationSans-30\" x=\"2620.703125\"/>\n     <use xlink:href=\"#LiberationSans-2e\" x=\"2676.318359\"/>\n     <use xlink:href=\"#LiberationSans-31\" x=\"2704.101562\"/>\n    </g>\n   </g>\n  </g>\n  <g id=\"axes_2\">\n   <g id=\"patch_3\">\n    <path d=\"M 484.034688 332.61375 \nL 499.280688 332.61375 \nL 499.280688 27.69375 \nL 484.034688 27.69375 \nz\n\" style=\"fill: #eaeaf2\"/>\n   </g>\n   <g id=\"matplotlib.axis_3\"/>\n   <g id=\"matplotlib.axis_4\">\n    <g id=\"ytick_4\">\n     <g id=\"line2d_13\"/>\n     <g id=\"text_19\">\n      <!-- 0.913 -->\n      <g style=\"fill: #262626\" transform=\"translate(506.280688 324.347591) scale(0.08 -0.08)\">\n       <use xlink:href=\"#LiberationSans-30\"/>\n       <use xlink:href=\"#LiberationSans-2e\" x=\"55.615234\"/>\n       <use xlink:href=\"#LiberationSans-39\" x=\"83.398438\"/>\n       <use xlink:href=\"#LiberationSans-31\" x=\"139.013672\"/>\n       <use xlink:href=\"#LiberationSans-33\" x=\"194.628906\"/>\n      </g>\n     </g>\n    </g>\n    <g id=\"ytick_5\">\n     <g id=\"line2d_14\"/>\n     <g id=\"text_20\">\n      <!-- 0.914 -->\n      <g style=\"fill: #262626\" transform=\"translate(506.280688 288.81717) scale(0.08 -0.08)\">\n       <use xlink:href=\"#LiberationSans-30\"/>\n       <use xlink:href=\"#LiberationSans-2e\" x=\"55.615234\"/>\n       <use xlink:href=\"#LiberationSans-39\" x=\"83.398438\"/>\n       <use xlink:href=\"#LiberationSans-31\" x=\"139.013672\"/>\n       <use xlink:href=\"#LiberationSans-34\" x=\"194.628906\"/>\n      </g>\n     </g>\n    </g>\n    <g id=\"ytick_6\">\n     <g id=\"line2d_15\"/>\n     <g id=\"text_21\">\n      <!-- 0.915 -->\n      <g style=\"fill: #262626\" transform=\"translate(506.280688 253.286748) scale(0.08 -0.08)\">\n       <use xlink:href=\"#LiberationSans-30\"/>\n       <use xlink:href=\"#LiberationSans-2e\" x=\"55.615234\"/>\n       <use xlink:href=\"#LiberationSans-39\" x=\"83.398438\"/>\n       <use xlink:href=\"#LiberationSans-31\" x=\"139.013672\"/>\n       <use xlink:href=\"#LiberationSans-35\" x=\"194.628906\"/>\n      </g>\n     </g>\n    </g>\n    <g id=\"ytick_7\">\n     <g id=\"line2d_16\"/>\n     <g id=\"text_22\">\n      <!-- 0.916 -->\n      <g style=\"fill: #262626\" transform=\"translate(506.280688 217.756327) scale(0.08 -0.08)\">\n       <use xlink:href=\"#LiberationSans-30\"/>\n       <use xlink:href=\"#LiberationSans-2e\" x=\"55.615234\"/>\n       <use xlink:href=\"#LiberationSans-39\" x=\"83.398438\"/>\n       <use xlink:href=\"#LiberationSans-31\" x=\"139.013672\"/>\n       <use xlink:href=\"#LiberationSans-36\" x=\"194.628906\"/>\n      </g>\n     </g>\n    </g>\n    <g id=\"ytick_8\">\n     <g id=\"line2d_17\"/>\n     <g id=\"text_23\">\n      <!-- 0.917 -->\n      <g style=\"fill: #262626\" transform=\"translate(506.280688 182.225906) scale(0.08 -0.08)\">\n       <use xlink:href=\"#LiberationSans-30\"/>\n       <use xlink:href=\"#LiberationSans-2e\" x=\"55.615234\"/>\n       <use xlink:href=\"#LiberationSans-39\" x=\"83.398438\"/>\n       <use xlink:href=\"#LiberationSans-31\" x=\"139.013672\"/>\n       <use xlink:href=\"#LiberationSans-37\" x=\"194.628906\"/>\n      </g>\n     </g>\n    </g>\n    <g id=\"ytick_9\">\n     <g id=\"line2d_18\"/>\n     <g id=\"text_24\">\n      <!-- 0.918 -->\n      <g style=\"fill: #262626\" transform=\"translate(506.280688 146.695485) scale(0.08 -0.08)\">\n       <use xlink:href=\"#LiberationSans-30\"/>\n       <use xlink:href=\"#LiberationSans-2e\" x=\"55.615234\"/>\n       <use xlink:href=\"#LiberationSans-39\" x=\"83.398438\"/>\n       <use xlink:href=\"#LiberationSans-31\" x=\"139.013672\"/>\n       <use xlink:href=\"#LiberationSans-38\" x=\"194.628906\"/>\n      </g>\n     </g>\n    </g>\n    <g id=\"ytick_10\">\n     <g id=\"line2d_19\"/>\n     <g id=\"text_25\">\n      <!-- 0.919 -->\n      <g style=\"fill: #262626\" transform=\"translate(506.280688 111.165064) scale(0.08 -0.08)\">\n       <use xlink:href=\"#LiberationSans-30\"/>\n       <use xlink:href=\"#LiberationSans-2e\" x=\"55.615234\"/>\n       <use xlink:href=\"#LiberationSans-39\" x=\"83.398438\"/>\n       <use xlink:href=\"#LiberationSans-31\" x=\"139.013672\"/>\n       <use xlink:href=\"#LiberationSans-39\" x=\"194.628906\"/>\n      </g>\n     </g>\n    </g>\n    <g id=\"ytick_11\">\n     <g id=\"line2d_20\"/>\n     <g id=\"text_26\">\n      <!-- 0.920 -->\n      <g style=\"fill: #262626\" transform=\"translate(506.280688 75.634643) scale(0.08 -0.08)\">\n       <use xlink:href=\"#LiberationSans-30\"/>\n       <use xlink:href=\"#LiberationSans-2e\" x=\"55.615234\"/>\n       <use xlink:href=\"#LiberationSans-39\" x=\"83.398438\"/>\n       <use xlink:href=\"#LiberationSans-32\" x=\"139.013672\"/>\n       <use xlink:href=\"#LiberationSans-30\" x=\"194.628906\"/>\n      </g>\n     </g>\n    </g>\n    <g id=\"ytick_12\">\n     <g id=\"line2d_21\"/>\n     <g id=\"text_27\">\n      <!-- 0.921 -->\n      <g style=\"fill: #262626\" transform=\"translate(506.280688 40.104222) scale(0.08 -0.08)\">\n       <use xlink:href=\"#LiberationSans-30\"/>\n       <use xlink:href=\"#LiberationSans-2e\" x=\"55.615234\"/>\n       <use xlink:href=\"#LiberationSans-39\" x=\"83.398438\"/>\n       <use xlink:href=\"#LiberationSans-32\" x=\"139.013672\"/>\n       <use xlink:href=\"#LiberationSans-31\" x=\"194.628906\"/>\n      </g>\n     </g>\n    </g>\n   </g>\n   <image xlink:href=\"data:image/png;base64,\niVBORw0KGgoAAAANSUhEUgAAABUAAAGnCAYAAABYYhxcAAACHUlEQVR4nO2d25HDMAwDKVtpIv33mTSB/dgBWQCGODyk5DzOeT/f34TnnjTizDwA5txz8rt6Nr1nmukzmz7dQjH0PeprhEIKhVDfQ99jKRH9rb44qMennuyr6OdxPdk3nVEaS+2lNw7qsVQ5fc9pWn6ZENFfn8ZBPfQ9m4q+6e0+o0Q+7c6+qvnz47GUKVGaTQlUk1Ci6gNATT71bAqAdgu1l978rE/z47lMiOh7mp9oKRF9j6XKEyU6TVeo9KxQ+akXKv5A855R0GUiPx6frlD5QbKv6tP8eDYVNX+3pUQ+PRpLlQvVnf0VKj+UUHn+7UJB/zzIDyWUxlIEqEio6uzf46FvAaUOvmqhTPQ1mwItrRIqP9QzaPm/6X0AUM+dn0oUIBShvoc+lSgE1EJ/hYqD1gsFfDxB1PfQ38tEfi7wngVToZh8SoB66Hs2bRcqDypqfhH9akvdEZ1ReVDPpiL6BKxIqG76HkvdA3zT7aFPWQp4TNxDfzSWWqHyoKZCad5U9PaGcqHmyS/roa9qfgv90bxSF0qURahTnf1yn1Kb5nFN9KstVV4oHkuZ6COFIvp04klUt09FzQ8IJfpiplsoUaFUl3S5Tz2blvvUs+kmKj/Up5Nm+h5LlQtVTt/k02r61EOtbx7UQ1+06VZfeihLEYkS0ddsSiSK6NMVaqsvPFt9+RFZivi5bBF9k6U2UWlQz2/FdycKMT9C/w9f3S8Ntfq4kQAAAABJRU5ErkJggg==\" id=\"imagece54c64038\" transform=\"scale(1 -1) translate(0 -304.56)\" x=\"483.84\" y=\"-27.36\" width=\"15.12\" height=\"304.56\"/>\n   <g id=\"LineCollection_1\"/>\n   <g id=\"patch_4\">\n    <path d=\"M 484.034688 332.61375 \nL 491.657688 332.61375 \nL 499.280688 332.61375 \nL 499.280688 27.69375 \nL 491.657688 27.69375 \nL 484.034688 27.69375 \nL 484.034688 332.61375 \nz\n\" style=\"fill: none\"/>\n   </g>\n  </g>\n </g>\n <defs>\n  <clipPath id=\"pc03d131715\">\n   <rect x=\"104.594688\" y=\"27.69375\" width=\"357.12\" height=\"304.92\"/>\n  </clipPath>\n </defs>\n</svg>\n",
            "text/plain": [
              "<Figure size 800x550 with 2 Axes>"
            ]
          },
          "metadata": {},
          "output_type": "display_data"
        }
      ],
      "source": [
        "fig, ax = plt.subplots()\n",
        "sns.heatmap(z1df, cbar=True, annot=True, fmt=\".4g\")\n",
        "plt.title(\"RMSE variation with hyperparameters and regularization = 0.1\", fontsize=20)\n",
        "plt.show()"
      ]
    },
    {
      "cell_type": "code",
      "execution_count": null,
      "metadata": {
        "colab": {
          "base_uri": "https://localhost:8080/",
          "height": 529
        },
        "id": "o88uaIPOyeWl",
        "outputId": "273c07ae-4d2b-40b3-914c-d9ddca2c3989"
      },
      "outputs": [
        {
          "data": {
            "text/plain": [
              "<Axes: xlabel='rank', ylabel='maxIter'>"
            ]
          },
          "execution_count": 128,
          "metadata": {},
          "output_type": "execute_result"
        },
        {
          "data": {
            "text/plain": [
              "Text(0.5, 1.0, 'MAE variation with hyperparameters and regularization = 0.1')"
            ]
          },
          "execution_count": 128,
          "metadata": {},
          "output_type": "execute_result"
        },
        {
          "data": {
            "image/svg+xml": "<?xml version=\"1.0\" encoding=\"utf-8\" standalone=\"no\"?>\n<!DOCTYPE svg PUBLIC \"-//W3C//DTD SVG 1.1//EN\"\n  \"http://www.w3.org/Graphics/SVG/1.1/DTD/svg11.dtd\">\n<svg xmlns:xlink=\"http://www.w3.org/1999/xlink\" width=\"551.865625pt\" height=\"367.593125pt\" viewBox=\"0 0 551.865625 367.593125\" xmlns=\"http://www.w3.org/2000/svg\" version=\"1.1\">\n <metadata>\n  <rdf:RDF xmlns:dc=\"http://purl.org/dc/elements/1.1/\" xmlns:cc=\"http://creativecommons.org/ns#\" xmlns:rdf=\"http://www.w3.org/1999/02/22-rdf-syntax-ns#\">\n   <cc:Work>\n    <dc:type rdf:resource=\"http://purl.org/dc/dcmitype/StillImage\"/>\n    <dc:date>2023-05-14T05:44:32.283004</dc:date>\n    <dc:format>image/svg+xml</dc:format>\n    <dc:creator>\n     <cc:Agent>\n      <dc:title>Matplotlib v3.7.1, https://matplotlib.org/</dc:title>\n     </cc:Agent>\n    </dc:creator>\n   </cc:Work>\n  </rdf:RDF>\n </metadata>\n <defs>\n  <style type=\"text/css\">*{stroke-linejoin: round; stroke-linecap: butt}</style>\n </defs>\n <g id=\"figure_1\">\n  <g id=\"patch_1\">\n   <path d=\"M 0 367.593125 \nL 551.865625 367.593125 \nL 551.865625 0 \nL 0 0 \nz\n\" style=\"fill: #ffffff\"/>\n  </g>\n  <g id=\"axes_1\">\n   <g id=\"patch_2\">\n    <path d=\"M 97.372812 332.61375 \nL 454.492813 332.61375 \nL 454.492813 27.69375 \nL 97.372812 27.69375 \nz\n\" style=\"fill: #eaeaf2\"/>\n   </g>\n   <g id=\"matplotlib.axis_1\">\n    <g id=\"xtick_1\">\n     <g id=\"line2d_1\">\n      <path d=\"M 156.892812 332.61375 \nL 156.892812 27.69375 \n\" clip-path=\"url(#p062b910ddd)\" style=\"fill: none; stroke: #ffffff; stroke-linecap: round\"/>\n     </g>\n     <g id=\"line2d_2\"/>\n     <g id=\"text_1\">\n      <!-- 5 -->\n      <g style=\"fill: #262626\" transform=\"translate(154.668437 345.41125) scale(0.08 -0.08)\">\n       <defs>\n        <path id=\"LiberationSans-35\" d=\"M 3291 1434 \nQ 3291 1103 3191 828 \nQ 3091 553 2894 354 \nQ 2697 156 2405 46 \nQ 2113 -63 1728 -63 \nQ 1381 -63 1123 18 \nQ 866 100 687 242 \nQ 509 384 404 575 \nQ 300 766 256 984 \nL 825 1050 \nQ 859 925 921 808 \nQ 984 691 1092 598 \nQ 1200 506 1358 451 \nQ 1516 397 1741 397 \nQ 1959 397 2137 464 \nQ 2316 531 2442 662 \nQ 2569 794 2637 984 \nQ 2706 1175 2706 1422 \nQ 2706 1625 2640 1795 \nQ 2575 1966 2453 2089 \nQ 2331 2213 2154 2281 \nQ 1978 2350 1753 2350 \nQ 1613 2350 1494 2325 \nQ 1375 2300 1273 2256 \nQ 1172 2213 1089 2155 \nQ 1006 2097 934 2034 \nL 384 2034 \nL 531 4403 \nL 3034 4403 \nL 3034 3925 \nL 1044 3925 \nL 959 2528 \nQ 1109 2644 1334 2726 \nQ 1559 2809 1869 2809 \nQ 2197 2809 2459 2709 \nQ 2722 2609 2906 2426 \nQ 3091 2244 3191 1991 \nQ 3291 1738 3291 1434 \nz\n\" transform=\"scale(0.015625)\"/>\n       </defs>\n       <use xlink:href=\"#LiberationSans-35\"/>\n      </g>\n     </g>\n    </g>\n    <g id=\"xtick_2\">\n     <g id=\"line2d_3\">\n      <path d=\"M 275.932813 332.61375 \nL 275.932813 27.69375 \n\" clip-path=\"url(#p062b910ddd)\" style=\"fill: none; stroke: #ffffff; stroke-linecap: round\"/>\n     </g>\n     <g id=\"line2d_4\"/>\n     <g id=\"text_2\">\n      <!-- 10 -->\n      <g style=\"fill: #262626\" transform=\"translate(271.484062 345.41125) scale(0.08 -0.08)\">\n       <defs>\n        <path id=\"LiberationSans-31\" d=\"M 488 0 \nL 488 478 \nL 1609 478 \nL 1609 3866 \nL 616 3156 \nL 616 3688 \nL 1656 4403 \nL 2175 4403 \nL 2175 478 \nL 3247 478 \nL 3247 0 \nL 488 0 \nz\n\" transform=\"scale(0.015625)\"/>\n        <path id=\"LiberationSans-30\" d=\"M 3309 2203 \nQ 3309 1569 3189 1136 \nQ 3069 703 2861 436 \nQ 2653 169 2372 53 \nQ 2091 -63 1772 -63 \nQ 1450 -63 1172 53 \nQ 894 169 689 434 \nQ 484 700 367 1133 \nQ 250 1566 250 2203 \nQ 250 2869 367 3305 \nQ 484 3741 690 4000 \nQ 897 4259 1178 4364 \nQ 1459 4469 1791 4469 \nQ 2106 4469 2382 4364 \nQ 2659 4259 2865 4000 \nQ 3072 3741 3190 3305 \nQ 3309 2869 3309 2203 \nz\nM 2738 2203 \nQ 2738 2728 2675 3076 \nQ 2613 3425 2491 3633 \nQ 2369 3841 2192 3927 \nQ 2016 4013 1791 4013 \nQ 1553 4013 1372 3925 \nQ 1191 3838 1067 3630 \nQ 944 3422 881 3073 \nQ 819 2725 819 2203 \nQ 819 1697 883 1350 \nQ 947 1003 1070 792 \nQ 1194 581 1372 489 \nQ 1550 397 1778 397 \nQ 2000 397 2178 489 \nQ 2356 581 2479 792 \nQ 2603 1003 2670 1350 \nQ 2738 1697 2738 2203 \nz\n\" transform=\"scale(0.015625)\"/>\n       </defs>\n       <use xlink:href=\"#LiberationSans-31\"/>\n       <use xlink:href=\"#LiberationSans-30\" x=\"55.615234\"/>\n      </g>\n     </g>\n    </g>\n    <g id=\"xtick_3\">\n     <g id=\"line2d_5\">\n      <path d=\"M 394.972813 332.61375 \nL 394.972813 27.69375 \n\" clip-path=\"url(#p062b910ddd)\" style=\"fill: none; stroke: #ffffff; stroke-linecap: round\"/>\n     </g>\n     <g id=\"line2d_6\"/>\n     <g id=\"text_3\">\n      <!-- 15 -->\n      <g style=\"fill: #262626\" transform=\"translate(390.524063 345.41125) scale(0.08 -0.08)\">\n       <use xlink:href=\"#LiberationSans-31\"/>\n       <use xlink:href=\"#LiberationSans-35\" x=\"55.615234\"/>\n      </g>\n     </g>\n    </g>\n    <g id=\"text_4\">\n     <!-- rank -->\n     <g style=\"fill: #262626\" transform=\"translate(266.207031 358.318125) scale(0.1 -0.1)\">\n      <defs>\n       <path id=\"LiberationSans-72\" d=\"M 444 0 \nL 444 2594 \nQ 444 2700 442 2811 \nQ 441 2922 437 3025 \nQ 434 3128 431 3218 \nQ 428 3309 425 3381 \nL 956 3381 \nQ 959 3309 964 3217 \nQ 969 3125 973 3028 \nQ 978 2931 979 2842 \nQ 981 2753 981 2691 \nL 994 2691 \nQ 1053 2884 1120 3026 \nQ 1188 3169 1278 3261 \nQ 1369 3353 1494 3398 \nQ 1619 3444 1797 3444 \nQ 1866 3444 1928 3433 \nQ 1991 3422 2025 3413 \nL 2025 2897 \nQ 1969 2913 1894 2920 \nQ 1819 2928 1725 2928 \nQ 1531 2928 1395 2840 \nQ 1259 2753 1173 2598 \nQ 1088 2444 1047 2230 \nQ 1006 2016 1006 1763 \nL 1006 0 \nL 444 0 \nz\n\" transform=\"scale(0.015625)\"/>\n       <path id=\"LiberationSans-61\" d=\"M 1294 -63 \nQ 784 -63 528 206 \nQ 272 475 272 944 \nQ 272 1278 398 1492 \nQ 525 1706 729 1828 \nQ 934 1950 1196 1997 \nQ 1459 2044 1731 2050 \nL 2491 2063 \nL 2491 2247 \nQ 2491 2456 2447 2603 \nQ 2403 2750 2312 2840 \nQ 2222 2931 2086 2973 \nQ 1950 3016 1766 3016 \nQ 1603 3016 1472 2992 \nQ 1341 2969 1244 2908 \nQ 1147 2847 1087 2742 \nQ 1028 2638 1009 2478 \nL 422 2531 \nQ 453 2731 540 2898 \nQ 628 3066 789 3187 \nQ 950 3309 1192 3376 \nQ 1434 3444 1778 3444 \nQ 2416 3444 2737 3151 \nQ 3059 2859 3059 2306 \nL 3059 850 \nQ 3059 600 3125 473 \nQ 3191 347 3375 347 \nQ 3422 347 3469 353 \nQ 3516 359 3559 369 \nL 3559 19 \nQ 3453 -6 3348 -18 \nQ 3244 -31 3125 -31 \nQ 2966 -31 2852 11 \nQ 2738 53 2666 139 \nQ 2594 225 2556 351 \nQ 2519 478 2509 647 \nL 2491 647 \nQ 2400 484 2292 353 \nQ 2184 222 2040 130 \nQ 1897 38 1714 -12 \nQ 1531 -63 1294 -63 \nz\nM 1422 359 \nQ 1691 359 1892 457 \nQ 2094 556 2226 709 \nQ 2359 863 2425 1044 \nQ 2491 1225 2491 1391 \nL 2491 1669 \nL 1875 1656 \nQ 1669 1653 1483 1626 \nQ 1297 1600 1156 1522 \nQ 1016 1444 933 1303 \nQ 850 1163 850 934 \nQ 850 659 998 509 \nQ 1147 359 1422 359 \nz\n\" transform=\"scale(0.015625)\"/>\n       <path id=\"LiberationSans-6e\" d=\"M 2578 0 \nL 2578 2144 \nQ 2578 2391 2542 2556 \nQ 2506 2722 2425 2823 \nQ 2344 2925 2211 2967 \nQ 2078 3009 1881 3009 \nQ 1681 3009 1520 2939 \nQ 1359 2869 1245 2736 \nQ 1131 2603 1068 2408 \nQ 1006 2213 1006 1959 \nL 1006 0 \nL 444 0 \nL 444 2659 \nQ 444 2766 442 2883 \nQ 441 3000 437 3104 \nQ 434 3209 431 3284 \nQ 428 3359 425 3381 \nL 956 3381 \nQ 959 3366 962 3297 \nQ 966 3228 970 3139 \nQ 975 3050 978 2958 \nQ 981 2866 981 2803 \nL 991 2803 \nQ 1072 2950 1169 3069 \nQ 1266 3188 1394 3270 \nQ 1522 3353 1687 3398 \nQ 1853 3444 2072 3444 \nQ 2353 3444 2556 3375 \nQ 2759 3306 2890 3162 \nQ 3022 3019 3083 2792 \nQ 3144 2566 3144 2253 \nL 3144 0 \nL 2578 0 \nz\n\" transform=\"scale(0.015625)\"/>\n       <path id=\"LiberationSans-6b\" d=\"M 2550 0 \nL 1406 1544 \nL 994 1203 \nL 994 0 \nL 431 0 \nL 431 4638 \nL 994 4638 \nL 994 1741 \nL 2478 3381 \nL 3138 3381 \nL 1766 1928 \nL 3209 0 \nL 2550 0 \nz\n\" transform=\"scale(0.015625)\"/>\n      </defs>\n      <use xlink:href=\"#LiberationSans-72\"/>\n      <use xlink:href=\"#LiberationSans-61\" x=\"33.300781\"/>\n      <use xlink:href=\"#LiberationSans-6e\" x=\"88.916016\"/>\n      <use xlink:href=\"#LiberationSans-6b\" x=\"144.53125\"/>\n     </g>\n    </g>\n   </g>\n   <g id=\"matplotlib.axis_2\">\n    <g id=\"ytick_1\">\n     <g id=\"line2d_7\">\n      <path d=\"M 97.372812 78.51375 \nL 454.492813 78.51375 \n\" clip-path=\"url(#p062b910ddd)\" style=\"fill: none; stroke: #ffffff; stroke-linecap: round\"/>\n     </g>\n     <g id=\"line2d_8\"/>\n     <g id=\"text_5\">\n      <!-- 5 -->\n      <g style=\"fill: #262626\" transform=\"translate(88.712812 80.738125) rotate(-90) scale(0.08 -0.08)\">\n       <use xlink:href=\"#LiberationSans-35\"/>\n      </g>\n     </g>\n    </g>\n    <g id=\"ytick_2\">\n     <g id=\"line2d_9\">\n      <path d=\"M 97.372812 180.15375 \nL 454.492813 180.15375 \n\" clip-path=\"url(#p062b910ddd)\" style=\"fill: none; stroke: #ffffff; stroke-linecap: round\"/>\n     </g>\n     <g id=\"line2d_10\"/>\n     <g id=\"text_6\">\n      <!-- 10 -->\n      <g style=\"fill: #262626\" transform=\"translate(88.712812 184.6025) rotate(-90) scale(0.08 -0.08)\">\n       <use xlink:href=\"#LiberationSans-31\"/>\n       <use xlink:href=\"#LiberationSans-30\" x=\"55.615234\"/>\n      </g>\n     </g>\n    </g>\n    <g id=\"ytick_3\">\n     <g id=\"line2d_11\">\n      <path d=\"M 97.372812 281.79375 \nL 454.492813 281.79375 \n\" clip-path=\"url(#p062b910ddd)\" style=\"fill: none; stroke: #ffffff; stroke-linecap: round\"/>\n     </g>\n     <g id=\"line2d_12\"/>\n     <g id=\"text_7\">\n      <!-- 15 -->\n      <g style=\"fill: #262626\" transform=\"translate(88.712812 286.2425) rotate(-90) scale(0.08 -0.08)\">\n       <use xlink:href=\"#LiberationSans-31\"/>\n       <use xlink:href=\"#LiberationSans-35\" x=\"55.615234\"/>\n      </g>\n     </g>\n    </g>\n    <g id=\"text_8\">\n     <!-- maxIter -->\n     <g style=\"fill: #262626\" transform=\"translate(76.840312 196.8225) rotate(-90) scale(0.1 -0.1)\">\n      <defs>\n       <path id=\"LiberationSans-6d\" d=\"M 2400 0 \nL 2400 2144 \nQ 2400 2391 2369 2556 \nQ 2338 2722 2264 2823 \nQ 2191 2925 2072 2967 \nQ 1953 3009 1781 3009 \nQ 1603 3009 1459 2939 \nQ 1316 2869 1214 2736 \nQ 1113 2603 1058 2408 \nQ 1003 2213 1003 1959 \nL 1003 0 \nL 444 0 \nL 444 2659 \nQ 444 2766 442 2883 \nQ 441 3000 437 3104 \nQ 434 3209 431 3284 \nQ 428 3359 425 3381 \nL 956 3381 \nQ 959 3366 962 3297 \nQ 966 3228 970 3139 \nQ 975 3050 978 2958 \nQ 981 2866 981 2803 \nL 991 2803 \nQ 1066 2950 1153 3069 \nQ 1241 3188 1358 3270 \nQ 1475 3353 1626 3398 \nQ 1778 3444 1978 3444 \nQ 2363 3444 2586 3291 \nQ 2809 3138 2897 2803 \nL 2906 2803 \nQ 2981 2950 3075 3069 \nQ 3169 3188 3294 3270 \nQ 3419 3353 3575 3398 \nQ 3731 3444 3931 3444 \nQ 4188 3444 4373 3375 \nQ 4559 3306 4678 3162 \nQ 4797 3019 4853 2792 \nQ 4909 2566 4909 2253 \nL 4909 0 \nL 4353 0 \nL 4353 2144 \nQ 4353 2391 4322 2556 \nQ 4291 2722 4217 2823 \nQ 4144 2925 4025 2967 \nQ 3906 3009 3734 3009 \nQ 3556 3009 3412 2942 \nQ 3269 2875 3167 2744 \nQ 3066 2613 3011 2416 \nQ 2956 2219 2956 1959 \nL 2956 0 \nL 2400 0 \nz\n\" transform=\"scale(0.015625)\"/>\n       <path id=\"LiberationSans-78\" d=\"M 2503 0 \nL 1594 1388 \nL 678 0 \nL 72 0 \nL 1275 1738 \nL 128 3381 \nL 750 3381 \nL 1594 2066 \nL 2431 3381 \nL 3059 3381 \nL 1913 1744 \nL 3131 0 \nL 2503 0 \nz\n\" transform=\"scale(0.015625)\"/>\n       <path id=\"LiberationSans-49\" d=\"M 591 0 \nL 591 4403 \nL 1188 4403 \nL 1188 0 \nL 591 0 \nz\n\" transform=\"scale(0.015625)\"/>\n       <path id=\"LiberationSans-74\" d=\"M 1731 25 \nQ 1603 -9 1470 -29 \nQ 1338 -50 1163 -50 \nQ 488 -50 488 716 \nL 488 2972 \nL 97 2972 \nL 97 3381 \nL 509 3381 \nL 675 4138 \nL 1050 4138 \nL 1050 3381 \nL 1675 3381 \nL 1675 2972 \nL 1050 2972 \nL 1050 838 \nQ 1050 594 1129 495 \nQ 1209 397 1406 397 \nQ 1488 397 1564 409 \nQ 1641 422 1731 441 \nL 1731 25 \nz\n\" transform=\"scale(0.015625)\"/>\n       <path id=\"LiberationSans-65\" d=\"M 863 1572 \nQ 863 1306 917 1082 \nQ 972 859 1086 698 \nQ 1200 538 1378 448 \nQ 1556 359 1806 359 \nQ 2172 359 2392 506 \nQ 2613 653 2691 878 \nL 3184 738 \nQ 3131 597 3036 455 \nQ 2941 313 2781 198 \nQ 2622 84 2383 10 \nQ 2144 -63 1806 -63 \nQ 1056 -63 664 384 \nQ 272 831 272 1713 \nQ 272 2188 390 2517 \nQ 509 2847 715 3053 \nQ 922 3259 1197 3351 \nQ 1472 3444 1784 3444 \nQ 2209 3444 2495 3306 \nQ 2781 3169 2954 2926 \nQ 3128 2684 3201 2356 \nQ 3275 2028 3275 1647 \nL 3275 1572 \nL 863 1572 \nz\nM 2694 2003 \nQ 2647 2538 2422 2783 \nQ 2197 3028 1775 3028 \nQ 1634 3028 1479 2983 \nQ 1325 2938 1194 2822 \nQ 1063 2706 972 2507 \nQ 881 2309 869 2003 \nL 2694 2003 \nz\n\" transform=\"scale(0.015625)\"/>\n      </defs>\n      <use xlink:href=\"#LiberationSans-6d\"/>\n      <use xlink:href=\"#LiberationSans-61\" x=\"83.300781\"/>\n      <use xlink:href=\"#LiberationSans-78\" x=\"138.916016\"/>\n      <use xlink:href=\"#LiberationSans-49\" x=\"188.916016\"/>\n      <use xlink:href=\"#LiberationSans-74\" x=\"216.699219\"/>\n      <use xlink:href=\"#LiberationSans-65\" x=\"244.482422\"/>\n      <use xlink:href=\"#LiberationSans-72\" x=\"300.097656\"/>\n     </g>\n    </g>\n   </g>\n   <g id=\"QuadMesh_1\">\n    <path d=\"M 97.372812 27.69375 \nL 216.412813 27.69375 \nL 216.412813 129.33375 \nL 97.372812 129.33375 \nL 97.372812 27.69375 \n\" clip-path=\"url(#p062b910ddd)\" style=\"fill: #34193d\"/>\n    <path d=\"M 216.412813 27.69375 \nL 335.452813 27.69375 \nL 335.452813 129.33375 \nL 216.412813 129.33375 \nL 216.412813 27.69375 \n\" clip-path=\"url(#p062b910ddd)\" style=\"fill: #f47a54\"/>\n    <path d=\"M 335.452813 27.69375 \nL 454.492813 27.69375 \nL 454.492813 129.33375 \nL 335.452813 129.33375 \nL 335.452813 27.69375 \n\" clip-path=\"url(#p062b910ddd)\" style=\"fill: #faebdd\"/>\n    <path d=\"M 97.372812 129.33375 \nL 216.412813 129.33375 \nL 216.412813 230.97375 \nL 97.372812 230.97375 \nL 97.372812 129.33375 \n\" clip-path=\"url(#p062b910ddd)\" style=\"fill: #08081e\"/>\n    <path d=\"M 216.412813 129.33375 \nL 335.452813 129.33375 \nL 335.452813 230.97375 \nL 216.412813 230.97375 \nL 216.412813 129.33375 \n\" clip-path=\"url(#p062b910ddd)\" style=\"fill: #f26747\"/>\n    <path d=\"M 335.452813 129.33375 \nL 454.492813 129.33375 \nL 454.492813 230.97375 \nL 335.452813 230.97375 \nL 335.452813 129.33375 \n\" clip-path=\"url(#p062b910ddd)\" style=\"fill: #f7c4a4\"/>\n    <path d=\"M 97.372812 230.97375 \nL 216.412813 230.97375 \nL 216.412813 332.61375 \nL 97.372812 332.61375 \nL 97.372812 230.97375 \n\" clip-path=\"url(#p062b910ddd)\" style=\"fill: #03051a\"/>\n    <path d=\"M 216.412813 230.97375 \nL 335.452813 230.97375 \nL 335.452813 332.61375 \nL 216.412813 332.61375 \nL 216.412813 230.97375 \n\" clip-path=\"url(#p062b910ddd)\" style=\"fill: #ec4c3e\"/>\n    <path d=\"M 335.452813 230.97375 \nL 454.492813 230.97375 \nL 454.492813 332.61375 \nL 335.452813 332.61375 \nL 335.452813 230.97375 \n\" clip-path=\"url(#p062b910ddd)\" style=\"fill: #f6b893\"/>\n   </g>\n   <g id=\"text_9\">\n    <!-- 0.7037 -->\n    <g style=\"fill: #ffffff\" transform=\"translate(144.659687 80.5825) scale(0.08 -0.08)\">\n     <defs>\n      <path id=\"LiberationSans-2e\" d=\"M 584 0 \nL 584 684 \nL 1194 684 \nL 1194 0 \nL 584 0 \nz\n\" transform=\"scale(0.015625)\"/>\n      <path id=\"LiberationSans-37\" d=\"M 3238 3947 \nQ 2906 3441 2628 2973 \nQ 2350 2506 2150 2032 \nQ 1950 1559 1839 1061 \nQ 1728 563 1728 0 \nL 1141 0 \nQ 1141 528 1266 1036 \nQ 1391 1544 1603 2033 \nQ 1816 2522 2097 2994 \nQ 2378 3466 2694 3925 \nL 328 3925 \nL 328 4403 \nL 3238 4403 \nL 3238 3947 \nz\n\" transform=\"scale(0.015625)\"/>\n      <path id=\"LiberationSans-33\" d=\"M 3278 1216 \nQ 3278 913 3179 675 \nQ 3081 438 2892 273 \nQ 2703 109 2423 23 \nQ 2144 -63 1784 -63 \nQ 1375 -63 1095 39 \nQ 816 141 634 308 \nQ 453 475 362 689 \nQ 272 903 244 1131 \nL 825 1184 \nQ 850 1009 917 865 \nQ 984 722 1100 619 \nQ 1216 516 1384 459 \nQ 1553 403 1784 403 \nQ 2209 403 2451 612 \nQ 2694 822 2694 1234 \nQ 2694 1478 2586 1626 \nQ 2478 1775 2317 1858 \nQ 2156 1941 1967 1969 \nQ 1778 1997 1619 1997 \nL 1300 1997 \nL 1300 2484 \nL 1606 2484 \nQ 1766 2484 1937 2517 \nQ 2109 2550 2251 2636 \nQ 2394 2722 2486 2869 \nQ 2578 3016 2578 3244 \nQ 2578 3597 2370 3801 \nQ 2163 4006 1753 4006 \nQ 1381 4006 1151 3815 \nQ 922 3625 884 3278 \nL 319 3322 \nQ 353 3613 478 3828 \nQ 603 4044 795 4186 \nQ 988 4328 1234 4398 \nQ 1481 4469 1759 4469 \nQ 2128 4469 2393 4376 \nQ 2659 4284 2828 4126 \nQ 2997 3969 3076 3756 \nQ 3156 3544 3156 3303 \nQ 3156 3109 3103 2940 \nQ 3050 2772 2937 2637 \nQ 2825 2503 2651 2406 \nQ 2478 2309 2234 2259 \nL 2234 2247 \nQ 2500 2219 2697 2126 \nQ 2894 2034 3022 1896 \nQ 3150 1759 3214 1584 \nQ 3278 1409 3278 1216 \nz\n\" transform=\"scale(0.015625)\"/>\n     </defs>\n     <use xlink:href=\"#LiberationSans-30\"/>\n     <use xlink:href=\"#LiberationSans-2e\" x=\"55.615234\"/>\n     <use xlink:href=\"#LiberationSans-37\" x=\"83.398438\"/>\n     <use xlink:href=\"#LiberationSans-30\" x=\"139.013672\"/>\n     <use xlink:href=\"#LiberationSans-33\" x=\"194.628906\"/>\n     <use xlink:href=\"#LiberationSans-37\" x=\"250.244141\"/>\n    </g>\n   </g>\n   <g id=\"text_10\">\n    <!-- 0.7114 -->\n    <g style=\"fill: #ffffff\" transform=\"translate(263.699687 80.5825) scale(0.08 -0.08)\">\n     <defs>\n      <path id=\"LiberationSans-34\" d=\"M 2753 997 \nL 2753 0 \nL 2222 0 \nL 2222 997 \nL 147 997 \nL 147 1434 \nL 2163 4403 \nL 2753 4403 \nL 2753 1441 \nL 3372 1441 \nL 3372 997 \nL 2753 997 \nz\nM 2222 3769 \nQ 2216 3753 2191 3708 \nQ 2166 3663 2134 3606 \nQ 2103 3550 2070 3492 \nQ 2038 3434 2013 3397 \nL 884 1734 \nQ 869 1709 839 1668 \nQ 809 1628 778 1586 \nQ 747 1544 715 1503 \nQ 684 1463 666 1441 \nL 2222 1441 \nL 2222 3769 \nz\n\" transform=\"scale(0.015625)\"/>\n     </defs>\n     <use xlink:href=\"#LiberationSans-30\"/>\n     <use xlink:href=\"#LiberationSans-2e\" x=\"55.615234\"/>\n     <use xlink:href=\"#LiberationSans-37\" x=\"83.398438\"/>\n     <use xlink:href=\"#LiberationSans-31\" x=\"139.013672\"/>\n     <use xlink:href=\"#LiberationSans-31\" x=\"194.628906\"/>\n     <use xlink:href=\"#LiberationSans-34\" x=\"250.244141\"/>\n    </g>\n   </g>\n   <g id=\"text_11\">\n    <!-- 0.7151 -->\n    <g style=\"fill: #262626\" transform=\"translate(382.739688 80.5825) scale(0.08 -0.08)\">\n     <use xlink:href=\"#LiberationSans-30\"/>\n     <use xlink:href=\"#LiberationSans-2e\" x=\"55.615234\"/>\n     <use xlink:href=\"#LiberationSans-37\" x=\"83.398438\"/>\n     <use xlink:href=\"#LiberationSans-31\" x=\"139.013672\"/>\n     <use xlink:href=\"#LiberationSans-35\" x=\"194.628906\"/>\n     <use xlink:href=\"#LiberationSans-31\" x=\"250.244141\"/>\n    </g>\n   </g>\n   <g id=\"text_12\">\n    <!-- 0.7022 -->\n    <g style=\"fill: #ffffff\" transform=\"translate(144.659687 182.2225) scale(0.08 -0.08)\">\n     <defs>\n      <path id=\"LiberationSans-32\" d=\"M 322 0 \nL 322 397 \nQ 481 763 711 1042 \nQ 941 1322 1194 1548 \nQ 1447 1775 1695 1969 \nQ 1944 2163 2144 2356 \nQ 2344 2550 2467 2762 \nQ 2591 2975 2591 3244 \nQ 2591 3431 2534 3573 \nQ 2478 3716 2372 3812 \nQ 2266 3909 2117 3957 \nQ 1969 4006 1788 4006 \nQ 1619 4006 1470 3959 \nQ 1322 3913 1206 3819 \nQ 1091 3725 1017 3586 \nQ 944 3447 922 3263 \nL 347 3316 \nQ 375 3553 478 3762 \nQ 581 3972 762 4130 \nQ 944 4288 1198 4378 \nQ 1453 4469 1788 4469 \nQ 2116 4469 2372 4391 \nQ 2628 4313 2804 4159 \nQ 2981 4006 3075 3781 \nQ 3169 3556 3169 3263 \nQ 3169 3041 3089 2841 \nQ 3009 2641 2876 2459 \nQ 2744 2278 2569 2109 \nQ 2394 1941 2203 1780 \nQ 2013 1619 1819 1461 \nQ 1625 1303 1454 1143 \nQ 1284 984 1150 820 \nQ 1016 656 941 478 \nL 3238 478 \nL 3238 0 \nL 322 0 \nz\n\" transform=\"scale(0.015625)\"/>\n     </defs>\n     <use xlink:href=\"#LiberationSans-30\"/>\n     <use xlink:href=\"#LiberationSans-2e\" x=\"55.615234\"/>\n     <use xlink:href=\"#LiberationSans-37\" x=\"83.398438\"/>\n     <use xlink:href=\"#LiberationSans-30\" x=\"139.013672\"/>\n     <use xlink:href=\"#LiberationSans-32\" x=\"194.628906\"/>\n     <use xlink:href=\"#LiberationSans-32\" x=\"250.244141\"/>\n    </g>\n   </g>\n   <g id=\"text_13\">\n    <!-- 0.7109 -->\n    <g style=\"fill: #ffffff\" transform=\"translate(263.699687 182.2225) scale(0.08 -0.08)\">\n     <defs>\n      <path id=\"LiberationSans-39\" d=\"M 3256 2291 \nQ 3256 1703 3145 1261 \nQ 3034 819 2828 525 \nQ 2622 231 2326 84 \nQ 2031 -63 1663 -63 \nQ 1409 -63 1206 -11 \nQ 1003 41 843 150 \nQ 684 259 571 434 \nQ 459 609 391 856 \nL 928 941 \nQ 1016 656 1202 523 \nQ 1388 391 1672 391 \nQ 1900 391 2089 498 \nQ 2278 606 2411 822 \nQ 2544 1038 2619 1363 \nQ 2694 1688 2700 2125 \nQ 2634 1978 2520 1862 \nQ 2406 1747 2261 1667 \nQ 2116 1588 1947 1545 \nQ 1778 1503 1606 1503 \nQ 1306 1503 1064 1611 \nQ 822 1719 653 1912 \nQ 484 2106 392 2379 \nQ 300 2653 300 2988 \nQ 300 3328 398 3603 \nQ 497 3878 684 4070 \nQ 872 4263 1145 4366 \nQ 1419 4469 1766 4469 \nQ 2500 4469 2878 3925 \nQ 3256 3381 3256 2291 \nz\nM 2644 2834 \nQ 2644 3078 2586 3293 \nQ 2528 3509 2414 3668 \nQ 2300 3828 2133 3920 \nQ 1966 4013 1747 4013 \nQ 1544 4013 1381 3941 \nQ 1219 3869 1106 3736 \nQ 994 3603 933 3412 \nQ 872 3222 872 2988 \nQ 872 2766 926 2575 \nQ 981 2384 1090 2245 \nQ 1200 2106 1362 2026 \nQ 1525 1947 1741 1947 \nQ 1897 1947 2058 2000 \nQ 2219 2053 2348 2162 \nQ 2478 2272 2561 2439 \nQ 2644 2606 2644 2834 \nz\n\" transform=\"scale(0.015625)\"/>\n     </defs>\n     <use xlink:href=\"#LiberationSans-30\"/>\n     <use xlink:href=\"#LiberationSans-2e\" x=\"55.615234\"/>\n     <use xlink:href=\"#LiberationSans-37\" x=\"83.398438\"/>\n     <use xlink:href=\"#LiberationSans-31\" x=\"139.013672\"/>\n     <use xlink:href=\"#LiberationSans-30\" x=\"194.628906\"/>\n     <use xlink:href=\"#LiberationSans-39\" x=\"250.244141\"/>\n    </g>\n   </g>\n   <g id=\"text_14\">\n    <!-- 0.7137 -->\n    <g style=\"fill: #262626\" transform=\"translate(382.739688 182.2225) scale(0.08 -0.08)\">\n     <use xlink:href=\"#LiberationSans-30\"/>\n     <use xlink:href=\"#LiberationSans-2e\" x=\"55.615234\"/>\n     <use xlink:href=\"#LiberationSans-37\" x=\"83.398438\"/>\n     <use xlink:href=\"#LiberationSans-31\" x=\"139.013672\"/>\n     <use xlink:href=\"#LiberationSans-33\" x=\"194.628906\"/>\n     <use xlink:href=\"#LiberationSans-37\" x=\"250.244141\"/>\n    </g>\n   </g>\n   <g id=\"text_15\">\n    <!-- 0.7019 -->\n    <g style=\"fill: #ffffff\" transform=\"translate(144.659687 283.8625) scale(0.08 -0.08)\">\n     <use xlink:href=\"#LiberationSans-30\"/>\n     <use xlink:href=\"#LiberationSans-2e\" x=\"55.615234\"/>\n     <use xlink:href=\"#LiberationSans-37\" x=\"83.398438\"/>\n     <use xlink:href=\"#LiberationSans-30\" x=\"139.013672\"/>\n     <use xlink:href=\"#LiberationSans-31\" x=\"194.628906\"/>\n     <use xlink:href=\"#LiberationSans-39\" x=\"250.244141\"/>\n    </g>\n   </g>\n   <g id=\"text_16\">\n    <!-- 0.7102 -->\n    <g style=\"fill: #ffffff\" transform=\"translate(263.699687 283.8625) scale(0.08 -0.08)\">\n     <use xlink:href=\"#LiberationSans-30\"/>\n     <use xlink:href=\"#LiberationSans-2e\" x=\"55.615234\"/>\n     <use xlink:href=\"#LiberationSans-37\" x=\"83.398438\"/>\n     <use xlink:href=\"#LiberationSans-31\" x=\"139.013672\"/>\n     <use xlink:href=\"#LiberationSans-30\" x=\"194.628906\"/>\n     <use xlink:href=\"#LiberationSans-32\" x=\"250.244141\"/>\n    </g>\n   </g>\n   <g id=\"text_17\">\n    <!-- 0.7133 -->\n    <g style=\"fill: #262626\" transform=\"translate(382.739688 283.8625) scale(0.08 -0.08)\">\n     <use xlink:href=\"#LiberationSans-30\"/>\n     <use xlink:href=\"#LiberationSans-2e\" x=\"55.615234\"/>\n     <use xlink:href=\"#LiberationSans-37\" x=\"83.398438\"/>\n     <use xlink:href=\"#LiberationSans-31\" x=\"139.013672\"/>\n     <use xlink:href=\"#LiberationSans-33\" x=\"194.628906\"/>\n     <use xlink:href=\"#LiberationSans-33\" x=\"250.244141\"/>\n    </g>\n   </g>\n   <g id=\"text_18\">\n    <!-- MAE variation with hyperparameters and regularization = 0.1 -->\n    <g style=\"fill: #262626\" transform=\"translate(7.2 21.69375) scale(0.2 -0.2)\">\n     <defs>\n      <path id=\"LiberationSans-4d\" d=\"M 4269 0 \nL 4269 2938 \nQ 4269 3097 4272 3262 \nQ 4275 3428 4281 3566 \nQ 4288 3725 4297 3875 \nQ 4253 3716 4206 3559 \nQ 4166 3425 4117 3273 \nQ 4069 3122 4022 3000 \nL 2884 0 \nL 2466 0 \nL 1313 3000 \nQ 1294 3047 1273 3109 \nQ 1253 3172 1229 3242 \nQ 1206 3313 1182 3386 \nQ 1159 3459 1138 3531 \nQ 1084 3697 1034 3875 \nQ 1038 3700 1044 3528 \nQ 1050 3381 1053 3220 \nQ 1056 3059 1056 2938 \nL 1056 0 \nL 525 0 \nL 525 4403 \nL 1309 4403 \nL 2481 1350 \nQ 2503 1288 2534 1189 \nQ 2566 1091 2594 987 \nQ 2622 884 2645 792 \nQ 2669 700 2678 650 \nQ 2688 700 2713 794 \nQ 2738 888 2770 991 \nQ 2803 1094 2834 1191 \nQ 2866 1288 2891 1350 \nL 4041 4403 \nL 4806 4403 \nL 4806 0 \nL 4269 0 \nz\n\" transform=\"scale(0.015625)\"/>\n      <path id=\"LiberationSans-41\" d=\"M 3647 0 \nL 3144 1288 \nL 1138 1288 \nL 631 0 \nL 13 0 \nL 1809 4403 \nL 2488 4403 \nL 4256 0 \nL 3647 0 \nz\nM 2400 3206 \nQ 2350 3331 2304 3459 \nQ 2259 3588 2225 3692 \nQ 2191 3797 2167 3867 \nQ 2144 3938 2141 3953 \nQ 2134 3938 2112 3866 \nQ 2091 3794 2055 3687 \nQ 2019 3581 1973 3453 \nQ 1928 3325 1881 3200 \nL 1319 1753 \nL 2966 1753 \nL 2400 3206 \nz\n\" transform=\"scale(0.015625)\"/>\n      <path id=\"LiberationSans-45\" d=\"M 525 0 \nL 525 4403 \nL 3866 4403 \nL 3866 3916 \nL 1122 3916 \nL 1122 2503 \nL 3678 2503 \nL 3678 2022 \nL 1122 2022 \nL 1122 488 \nL 3994 488 \nL 3994 0 \nL 525 0 \nz\n\" transform=\"scale(0.015625)\"/>\n      <path id=\"LiberationSans-20\" transform=\"scale(0.015625)\"/>\n      <path id=\"LiberationSans-76\" d=\"M 1916 0 \nL 1250 0 \nL 22 3381 \nL 622 3381 \nL 1366 1181 \nQ 1388 1113 1417 1014 \nQ 1447 916 1478 809 \nQ 1509 703 1536 604 \nQ 1563 506 1581 441 \nQ 1600 506 1629 604 \nQ 1659 703 1690 806 \nQ 1722 909 1755 1007 \nQ 1788 1106 1813 1175 \nL 2581 3381 \nL 3178 3381 \nL 1916 0 \nz\n\" transform=\"scale(0.015625)\"/>\n      <path id=\"LiberationSans-69\" d=\"M 428 4100 \nL 428 4638 \nL 991 4638 \nL 991 4100 \nL 428 4100 \nz\nM 428 0 \nL 428 3381 \nL 991 3381 \nL 991 0 \nL 428 0 \nz\n\" transform=\"scale(0.015625)\"/>\n      <path id=\"LiberationSans-6f\" d=\"M 3291 1694 \nQ 3291 806 2900 371 \nQ 2509 -63 1766 -63 \nQ 1413 -63 1134 43 \nQ 856 150 664 369 \nQ 472 588 370 917 \nQ 269 1247 269 1694 \nQ 269 3444 1784 3444 \nQ 2178 3444 2464 3334 \nQ 2750 3225 2933 3006 \nQ 3116 2788 3203 2459 \nQ 3291 2131 3291 1694 \nz\nM 2700 1694 \nQ 2700 2088 2639 2344 \nQ 2578 2600 2461 2753 \nQ 2344 2906 2175 2967 \nQ 2006 3028 1794 3028 \nQ 1578 3028 1404 2964 \nQ 1231 2900 1109 2745 \nQ 988 2591 923 2334 \nQ 859 2078 859 1694 \nQ 859 1300 928 1042 \nQ 997 784 1117 631 \nQ 1238 478 1402 415 \nQ 1566 353 1759 353 \nQ 1975 353 2150 414 \nQ 2325 475 2447 628 \nQ 2569 781 2634 1040 \nQ 2700 1300 2700 1694 \nz\n\" transform=\"scale(0.015625)\"/>\n      <path id=\"LiberationSans-77\" d=\"M 3669 0 \nL 3016 0 \nL 2475 2181 \nQ 2450 2266 2423 2391 \nQ 2397 2516 2372 2634 \nQ 2341 2772 2313 2919 \nQ 2284 2778 2253 2641 \nQ 2228 2522 2198 2394 \nQ 2169 2266 2144 2169 \nL 1588 0 \nL 938 0 \nL -9 3381 \nL 547 3381 \nL 1119 1084 \nQ 1141 1013 1162 908 \nQ 1184 803 1206 703 \nQ 1228 588 1253 466 \nQ 1278 584 1306 697 \nQ 1331 794 1356 894 \nQ 1381 994 1400 1059 \nL 2013 3381 \nL 2616 3381 \nL 3206 1059 \nQ 3228 978 3253 875 \nQ 3278 772 3300 681 \nQ 3325 575 3350 466 \nQ 3375 584 3400 697 \nQ 3422 794 3445 898 \nQ 3469 1003 3491 1084 \nL 4088 3381 \nL 4638 3381 \nL 3669 0 \nz\n\" transform=\"scale(0.015625)\"/>\n      <path id=\"LiberationSans-68\" d=\"M 991 2803 \nQ 1084 2975 1193 3095 \nQ 1303 3216 1434 3294 \nQ 1566 3372 1722 3408 \nQ 1878 3444 2072 3444 \nQ 2397 3444 2605 3356 \nQ 2813 3269 2933 3111 \nQ 3053 2953 3098 2734 \nQ 3144 2516 3144 2253 \nL 3144 0 \nL 2578 0 \nL 2578 2144 \nQ 2578 2359 2551 2521 \nQ 2525 2684 2450 2792 \nQ 2375 2900 2237 2954 \nQ 2100 3009 1881 3009 \nQ 1681 3009 1520 2937 \nQ 1359 2866 1245 2734 \nQ 1131 2603 1068 2415 \nQ 1006 2228 1006 1994 \nL 1006 0 \nL 444 0 \nL 444 4638 \nL 1006 4638 \nL 1006 3431 \nQ 1006 3328 1003 3225 \nQ 1000 3122 995 3034 \nQ 991 2947 987 2886 \nQ 984 2825 981 2803 \nL 991 2803 \nz\n\" transform=\"scale(0.015625)\"/>\n      <path id=\"LiberationSans-79\" d=\"M 1888 0 \nQ 1769 -306 1645 -551 \nQ 1522 -797 1369 -970 \nQ 1216 -1144 1028 -1236 \nQ 841 -1328 597 -1328 \nQ 491 -1328 400 -1322 \nQ 309 -1316 209 -1294 \nL 209 -872 \nQ 269 -881 344 -886 \nQ 419 -891 472 -891 \nQ 719 -891 931 -706 \nQ 1144 -522 1303 -119 \nL 1356 16 \nL 16 3381 \nL 616 3381 \nL 1328 1513 \nQ 1359 1428 1407 1287 \nQ 1456 1147 1504 1006 \nQ 1553 866 1590 753 \nQ 1628 641 1634 613 \nQ 1644 647 1680 748 \nQ 1716 850 1761 975 \nQ 1806 1100 1853 1228 \nQ 1900 1356 1931 1450 \nL 2594 3381 \nL 3188 3381 \nL 1888 0 \nz\n\" transform=\"scale(0.015625)\"/>\n      <path id=\"LiberationSans-70\" d=\"M 3291 1706 \nQ 3291 1322 3228 997 \nQ 3166 672 3020 437 \nQ 2875 203 2636 70 \nQ 2397 -63 2047 -63 \nQ 1684 -63 1412 75 \nQ 1141 213 997 525 \nL 981 525 \nQ 984 519 986 469 \nQ 988 419 989 344 \nQ 991 269 992 176 \nQ 994 84 994 -6 \nL 994 -1328 \nL 431 -1328 \nL 431 2691 \nQ 431 2813 429 2925 \nQ 428 3038 425 3130 \nQ 422 3222 419 3287 \nQ 416 3353 413 3381 \nL 956 3381 \nQ 959 3372 964 3315 \nQ 969 3259 973 3179 \nQ 978 3100 983 3009 \nQ 988 2919 988 2838 \nL 1000 2838 \nQ 1078 3000 1178 3114 \nQ 1278 3228 1406 3301 \nQ 1534 3375 1692 3408 \nQ 1850 3441 2047 3441 \nQ 2397 3441 2636 3316 \nQ 2875 3191 3020 2964 \nQ 3166 2738 3228 2417 \nQ 3291 2097 3291 1706 \nz\nM 2700 1694 \nQ 2700 2006 2662 2250 \nQ 2625 2494 2533 2662 \nQ 2441 2831 2287 2918 \nQ 2134 3006 1903 3006 \nQ 1716 3006 1550 2953 \nQ 1384 2900 1261 2750 \nQ 1138 2600 1066 2336 \nQ 994 2072 994 1650 \nQ 994 1291 1053 1042 \nQ 1113 794 1227 641 \nQ 1341 488 1509 420 \nQ 1678 353 1897 353 \nQ 2131 353 2286 443 \nQ 2441 534 2533 706 \nQ 2625 878 2662 1126 \nQ 2700 1375 2700 1694 \nz\n\" transform=\"scale(0.015625)\"/>\n      <path id=\"LiberationSans-73\" d=\"M 2969 934 \nQ 2969 697 2876 511 \nQ 2784 325 2609 198 \nQ 2434 72 2179 4 \nQ 1925 -63 1597 -63 \nQ 1303 -63 1067 -17 \nQ 831 28 653 128 \nQ 475 228 354 392 \nQ 234 556 178 794 \nL 675 891 \nQ 747 619 972 492 \nQ 1197 366 1597 366 \nQ 1778 366 1929 391 \nQ 2081 416 2190 477 \nQ 2300 538 2361 639 \nQ 2422 741 2422 891 \nQ 2422 1044 2350 1142 \nQ 2278 1241 2150 1306 \nQ 2022 1372 1839 1420 \nQ 1656 1469 1438 1528 \nQ 1234 1581 1034 1647 \nQ 834 1713 673 1820 \nQ 513 1928 413 2087 \nQ 313 2247 313 2488 \nQ 313 2950 642 3192 \nQ 972 3434 1603 3434 \nQ 2163 3434 2492 3237 \nQ 2822 3041 2909 2606 \nL 2403 2544 \nQ 2375 2675 2300 2764 \nQ 2225 2853 2119 2908 \nQ 2013 2963 1880 2986 \nQ 1747 3009 1603 3009 \nQ 1222 3009 1040 2893 \nQ 859 2778 859 2544 \nQ 859 2406 926 2317 \nQ 994 2228 1114 2167 \nQ 1234 2106 1403 2061 \nQ 1572 2016 1775 1966 \nQ 1909 1931 2050 1892 \nQ 2191 1853 2323 1798 \nQ 2456 1744 2573 1670 \nQ 2691 1597 2778 1494 \nQ 2866 1391 2917 1253 \nQ 2969 1116 2969 934 \nz\n\" transform=\"scale(0.015625)\"/>\n      <path id=\"LiberationSans-64\" d=\"M 2566 544 \nQ 2409 219 2151 78 \nQ 1894 -63 1513 -63 \nQ 872 -63 570 368 \nQ 269 800 269 1675 \nQ 269 3444 1513 3444 \nQ 1897 3444 2153 3303 \nQ 2409 3163 2566 2856 \nL 2572 2856 \nQ 2572 2888 2570 2955 \nQ 2569 3022 2567 3095 \nQ 2566 3169 2566 3234 \nQ 2566 3300 2566 3328 \nL 2566 4638 \nL 3128 4638 \nL 3128 697 \nQ 3128 575 3129 462 \nQ 3131 350 3134 256 \nQ 3138 163 3141 95 \nQ 3144 28 3147 0 \nL 2609 0 \nQ 2603 31 2598 89 \nQ 2594 147 2589 222 \nQ 2584 297 2581 380 \nQ 2578 463 2578 544 \nL 2566 544 \nz\nM 859 1694 \nQ 859 1344 903 1094 \nQ 947 844 1044 683 \nQ 1141 522 1291 447 \nQ 1441 372 1656 372 \nQ 1878 372 2048 444 \nQ 2219 516 2333 677 \nQ 2447 838 2506 1097 \nQ 2566 1356 2566 1731 \nQ 2566 2091 2506 2339 \nQ 2447 2588 2331 2741 \nQ 2216 2894 2048 2961 \nQ 1881 3028 1663 3028 \nQ 1456 3028 1306 2956 \nQ 1156 2884 1056 2725 \nQ 956 2566 907 2311 \nQ 859 2056 859 1694 \nz\n\" transform=\"scale(0.015625)\"/>\n      <path id=\"LiberationSans-67\" d=\"M 1713 -1328 \nQ 1422 -1328 1197 -1268 \nQ 972 -1209 812 -1098 \nQ 653 -988 553 -834 \nQ 453 -681 409 -494 \nL 975 -413 \nQ 1031 -647 1223 -773 \nQ 1416 -900 1728 -900 \nQ 1919 -900 2075 -847 \nQ 2231 -794 2340 -676 \nQ 2450 -559 2509 -371 \nQ 2569 -184 2569 84 \nL 2569 628 \nL 2563 628 \nQ 2500 500 2408 383 \nQ 2316 266 2183 175 \nQ 2050 84 1875 29 \nQ 1700 -25 1475 -25 \nQ 1153 -25 923 83 \nQ 694 191 548 406 \nQ 403 622 336 942 \nQ 269 1263 269 1684 \nQ 269 2091 336 2416 \nQ 403 2741 554 2967 \nQ 706 3194 948 3314 \nQ 1191 3434 1538 3434 \nQ 1897 3434 2161 3270 \nQ 2425 3106 2569 2803 \nL 2575 2803 \nQ 2575 2881 2579 2978 \nQ 2584 3075 2589 3161 \nQ 2594 3247 2600 3309 \nQ 2606 3372 2613 3381 \nL 3147 3381 \nQ 3144 3353 3141 3286 \nQ 3138 3219 3134 3125 \nQ 3131 3031 3129 2917 \nQ 3128 2803 3128 2681 \nL 3128 97 \nQ 3128 -613 2779 -970 \nQ 2431 -1328 1713 -1328 \nz\nM 2569 1691 \nQ 2569 2044 2492 2295 \nQ 2416 2547 2291 2706 \nQ 2166 2866 2005 2941 \nQ 1844 3016 1675 3016 \nQ 1459 3016 1304 2941 \nQ 1150 2866 1048 2705 \nQ 947 2544 898 2292 \nQ 850 2041 850 1691 \nQ 850 1325 898 1076 \nQ 947 828 1047 675 \nQ 1147 522 1300 456 \nQ 1453 391 1666 391 \nQ 1834 391 1995 462 \nQ 2156 534 2284 690 \nQ 2413 847 2491 1094 \nQ 2569 1341 2569 1691 \nz\n\" transform=\"scale(0.015625)\"/>\n      <path id=\"LiberationSans-75\" d=\"M 981 3381 \nL 981 1238 \nQ 981 991 1017 825 \nQ 1053 659 1134 557 \nQ 1216 456 1348 414 \nQ 1481 372 1678 372 \nQ 1878 372 2039 442 \nQ 2200 513 2314 645 \nQ 2428 778 2490 973 \nQ 2553 1169 2553 1422 \nL 2553 3381 \nL 3116 3381 \nL 3116 722 \nQ 3116 616 3117 498 \nQ 3119 381 3122 276 \nQ 3125 172 3128 97 \nQ 3131 22 3134 0 \nL 2603 0 \nQ 2600 16 2597 84 \nQ 2594 153 2589 242 \nQ 2584 331 2581 423 \nQ 2578 516 2578 578 \nL 2569 578 \nQ 2488 431 2391 312 \nQ 2294 194 2166 111 \nQ 2038 28 1872 -17 \nQ 1706 -63 1488 -63 \nQ 1206 -63 1003 6 \nQ 800 75 669 219 \nQ 538 363 477 588 \nQ 416 813 416 1128 \nL 416 3381 \nL 981 3381 \nz\n\" transform=\"scale(0.015625)\"/>\n      <path id=\"LiberationSans-6c\" d=\"M 431 0 \nL 431 4638 \nL 994 4638 \nL 994 0 \nL 431 0 \nz\n\" transform=\"scale(0.015625)\"/>\n      <path id=\"LiberationSans-7a\" d=\"M 153 0 \nL 153 428 \nL 2219 2947 \nL 278 2947 \nL 278 3381 \nL 2853 3381 \nL 2853 2953 \nL 784 434 \nL 2969 434 \nL 2969 0 \nL 153 0 \nz\n\" transform=\"scale(0.015625)\"/>\n      <path id=\"LiberationSans-3d\" d=\"M 313 2675 \nL 313 3138 \nL 3422 3138 \nL 3422 2675 \nL 313 2675 \nz\nM 313 1075 \nL 313 1538 \nL 3422 1538 \nL 3422 1075 \nL 313 1075 \nz\n\" transform=\"scale(0.015625)\"/>\n     </defs>\n     <use xlink:href=\"#LiberationSans-4d\"/>\n     <use xlink:href=\"#LiberationSans-41\" x=\"83.300781\"/>\n     <use xlink:href=\"#LiberationSans-45\" x=\"150\"/>\n     <use xlink:href=\"#LiberationSans-20\" x=\"216.699219\"/>\n     <use xlink:href=\"#LiberationSans-76\" x=\"244.482422\"/>\n     <use xlink:href=\"#LiberationSans-61\" x=\"294.482422\"/>\n     <use xlink:href=\"#LiberationSans-72\" x=\"350.097656\"/>\n     <use xlink:href=\"#LiberationSans-69\" x=\"383.398438\"/>\n     <use xlink:href=\"#LiberationSans-61\" x=\"405.615234\"/>\n     <use xlink:href=\"#LiberationSans-74\" x=\"461.230469\"/>\n     <use xlink:href=\"#LiberationSans-69\" x=\"489.013672\"/>\n     <use xlink:href=\"#LiberationSans-6f\" x=\"511.230469\"/>\n     <use xlink:href=\"#LiberationSans-6e\" x=\"566.845703\"/>\n     <use xlink:href=\"#LiberationSans-20\" x=\"622.460938\"/>\n     <use xlink:href=\"#LiberationSans-77\" x=\"650.244141\"/>\n     <use xlink:href=\"#LiberationSans-69\" x=\"722.460938\"/>\n     <use xlink:href=\"#LiberationSans-74\" x=\"744.677734\"/>\n     <use xlink:href=\"#LiberationSans-68\" x=\"772.460938\"/>\n     <use xlink:href=\"#LiberationSans-20\" x=\"828.076172\"/>\n     <use xlink:href=\"#LiberationSans-68\" x=\"855.859375\"/>\n     <use xlink:href=\"#LiberationSans-79\" x=\"911.474609\"/>\n     <use xlink:href=\"#LiberationSans-70\" x=\"961.474609\"/>\n     <use xlink:href=\"#LiberationSans-65\" x=\"1017.089844\"/>\n     <use xlink:href=\"#LiberationSans-72\" x=\"1072.705078\"/>\n     <use xlink:href=\"#LiberationSans-70\" x=\"1106.005859\"/>\n     <use xlink:href=\"#LiberationSans-61\" x=\"1161.621094\"/>\n     <use xlink:href=\"#LiberationSans-72\" x=\"1217.236328\"/>\n     <use xlink:href=\"#LiberationSans-61\" x=\"1250.537109\"/>\n     <use xlink:href=\"#LiberationSans-6d\" x=\"1306.152344\"/>\n     <use xlink:href=\"#LiberationSans-65\" x=\"1389.453125\"/>\n     <use xlink:href=\"#LiberationSans-74\" x=\"1445.068359\"/>\n     <use xlink:href=\"#LiberationSans-65\" x=\"1472.851562\"/>\n     <use xlink:href=\"#LiberationSans-72\" x=\"1528.466797\"/>\n     <use xlink:href=\"#LiberationSans-73\" x=\"1561.767578\"/>\n     <use xlink:href=\"#LiberationSans-20\" x=\"1611.767578\"/>\n     <use xlink:href=\"#LiberationSans-61\" x=\"1639.550781\"/>\n     <use xlink:href=\"#LiberationSans-6e\" x=\"1695.166016\"/>\n     <use xlink:href=\"#LiberationSans-64\" x=\"1750.78125\"/>\n     <use xlink:href=\"#LiberationSans-20\" x=\"1806.396484\"/>\n     <use xlink:href=\"#LiberationSans-72\" x=\"1834.179688\"/>\n     <use xlink:href=\"#LiberationSans-65\" x=\"1867.480469\"/>\n     <use xlink:href=\"#LiberationSans-67\" x=\"1923.095703\"/>\n     <use xlink:href=\"#LiberationSans-75\" x=\"1978.710938\"/>\n     <use xlink:href=\"#LiberationSans-6c\" x=\"2034.326172\"/>\n     <use xlink:href=\"#LiberationSans-61\" x=\"2056.542969\"/>\n     <use xlink:href=\"#LiberationSans-72\" x=\"2112.158203\"/>\n     <use xlink:href=\"#LiberationSans-69\" x=\"2145.458984\"/>\n     <use xlink:href=\"#LiberationSans-7a\" x=\"2167.675781\"/>\n     <use xlink:href=\"#LiberationSans-61\" x=\"2217.675781\"/>\n     <use xlink:href=\"#LiberationSans-74\" x=\"2273.291016\"/>\n     <use xlink:href=\"#LiberationSans-69\" x=\"2301.074219\"/>\n     <use xlink:href=\"#LiberationSans-6f\" x=\"2323.291016\"/>\n     <use xlink:href=\"#LiberationSans-6e\" x=\"2378.90625\"/>\n     <use xlink:href=\"#LiberationSans-20\" x=\"2434.521484\"/>\n     <use xlink:href=\"#LiberationSans-3d\" x=\"2462.304688\"/>\n     <use xlink:href=\"#LiberationSans-20\" x=\"2520.703125\"/>\n     <use xlink:href=\"#LiberationSans-30\" x=\"2548.486328\"/>\n     <use xlink:href=\"#LiberationSans-2e\" x=\"2604.101562\"/>\n     <use xlink:href=\"#LiberationSans-31\" x=\"2631.884766\"/>\n    </g>\n   </g>\n  </g>\n  <g id=\"axes_2\">\n   <g id=\"patch_3\">\n    <path d=\"M 476.812813 332.61375 \nL 492.058813 332.61375 \nL 492.058813 27.69375 \nL 476.812813 27.69375 \nz\n\" style=\"fill: #eaeaf2\"/>\n   </g>\n   <g id=\"matplotlib.axis_3\"/>\n   <g id=\"matplotlib.axis_4\">\n    <g id=\"ytick_4\">\n     <g id=\"line2d_13\"/>\n     <g id=\"text_19\">\n      <!-- 0.702 -->\n      <g style=\"fill: #262626\" transform=\"translate(499.058813 333.227772) scale(0.08 -0.08)\">\n       <use xlink:href=\"#LiberationSans-30\"/>\n       <use xlink:href=\"#LiberationSans-2e\" x=\"55.615234\"/>\n       <use xlink:href=\"#LiberationSans-37\" x=\"83.398438\"/>\n       <use xlink:href=\"#LiberationSans-30\" x=\"139.013672\"/>\n       <use xlink:href=\"#LiberationSans-32\" x=\"194.628906\"/>\n      </g>\n     </g>\n    </g>\n    <g id=\"ytick_5\">\n     <g id=\"line2d_14\"/>\n     <g id=\"text_20\">\n      <!-- 0.704 -->\n      <g style=\"fill: #262626\" transform=\"translate(499.058813 286.965969) scale(0.08 -0.08)\">\n       <use xlink:href=\"#LiberationSans-30\"/>\n       <use xlink:href=\"#LiberationSans-2e\" x=\"55.615234\"/>\n       <use xlink:href=\"#LiberationSans-37\" x=\"83.398438\"/>\n       <use xlink:href=\"#LiberationSans-30\" x=\"139.013672\"/>\n       <use xlink:href=\"#LiberationSans-34\" x=\"194.628906\"/>\n      </g>\n     </g>\n    </g>\n    <g id=\"ytick_6\">\n     <g id=\"line2d_15\"/>\n     <g id=\"text_21\">\n      <!-- 0.706 -->\n      <g style=\"fill: #262626\" transform=\"translate(499.058813 240.704167) scale(0.08 -0.08)\">\n       <defs>\n        <path id=\"LiberationSans-36\" d=\"M 3278 1441 \nQ 3278 1109 3186 832 \nQ 3094 556 2914 357 \nQ 2734 159 2468 48 \nQ 2203 -63 1856 -63 \nQ 1472 -63 1184 84 \nQ 897 231 706 507 \nQ 516 784 420 1186 \nQ 325 1588 325 2100 \nQ 325 2688 433 3131 \nQ 541 3575 744 3872 \nQ 947 4169 1239 4319 \nQ 1531 4469 1900 4469 \nQ 2125 4469 2322 4422 \nQ 2519 4375 2680 4270 \nQ 2841 4166 2962 3994 \nQ 3084 3822 3156 3572 \nL 2619 3475 \nQ 2531 3759 2339 3886 \nQ 2147 4013 1894 4013 \nQ 1663 4013 1475 3903 \nQ 1288 3794 1156 3576 \nQ 1025 3359 954 3031 \nQ 884 2703 884 2266 \nQ 1038 2550 1316 2698 \nQ 1594 2847 1953 2847 \nQ 2253 2847 2497 2750 \nQ 2741 2653 2914 2470 \nQ 3088 2288 3183 2027 \nQ 3278 1766 3278 1441 \nz\nM 2706 1416 \nQ 2706 1644 2650 1828 \nQ 2594 2013 2481 2142 \nQ 2369 2272 2203 2342 \nQ 2038 2413 1819 2413 \nQ 1666 2413 1509 2367 \nQ 1353 2322 1226 2220 \nQ 1100 2119 1020 1953 \nQ 941 1788 941 1550 \nQ 941 1306 1003 1095 \nQ 1066 884 1183 728 \nQ 1300 572 1465 481 \nQ 1631 391 1838 391 \nQ 2041 391 2202 461 \nQ 2363 531 2475 664 \nQ 2588 797 2647 987 \nQ 2706 1178 2706 1416 \nz\n\" transform=\"scale(0.015625)\"/>\n       </defs>\n       <use xlink:href=\"#LiberationSans-30\"/>\n       <use xlink:href=\"#LiberationSans-2e\" x=\"55.615234\"/>\n       <use xlink:href=\"#LiberationSans-37\" x=\"83.398438\"/>\n       <use xlink:href=\"#LiberationSans-30\" x=\"139.013672\"/>\n       <use xlink:href=\"#LiberationSans-36\" x=\"194.628906\"/>\n      </g>\n     </g>\n    </g>\n    <g id=\"ytick_7\">\n     <g id=\"line2d_16\"/>\n     <g id=\"text_22\">\n      <!-- 0.708 -->\n      <g style=\"fill: #262626\" transform=\"translate(499.058813 194.442364) scale(0.08 -0.08)\">\n       <defs>\n        <path id=\"LiberationSans-38\" d=\"M 3281 1228 \nQ 3281 947 3192 711 \nQ 3103 475 2920 303 \nQ 2738 131 2453 34 \nQ 2169 -63 1781 -63 \nQ 1394 -63 1111 34 \nQ 828 131 642 301 \nQ 456 472 367 708 \nQ 278 944 278 1222 \nQ 278 1463 351 1650 \nQ 425 1838 548 1973 \nQ 672 2109 830 2192 \nQ 988 2275 1156 2303 \nL 1156 2316 \nQ 972 2359 826 2456 \nQ 681 2553 582 2689 \nQ 484 2825 432 2990 \nQ 381 3156 381 3341 \nQ 381 3572 470 3776 \nQ 559 3981 734 4136 \nQ 909 4291 1168 4380 \nQ 1428 4469 1769 4469 \nQ 2128 4469 2392 4378 \nQ 2656 4288 2829 4133 \nQ 3003 3978 3087 3772 \nQ 3172 3566 3172 3334 \nQ 3172 3153 3120 2987 \nQ 3069 2822 2970 2686 \nQ 2872 2550 2726 2454 \nQ 2581 2359 2391 2322 \nL 2391 2309 \nQ 2581 2278 2743 2195 \nQ 2906 2113 3025 1977 \nQ 3144 1841 3212 1653 \nQ 3281 1466 3281 1228 \nz\nM 2588 3303 \nQ 2588 3469 2545 3606 \nQ 2503 3744 2406 3842 \nQ 2309 3941 2153 3995 \nQ 1997 4050 1769 4050 \nQ 1547 4050 1394 3995 \nQ 1241 3941 1142 3842 \nQ 1044 3744 1000 3606 \nQ 956 3469 956 3303 \nQ 956 3172 990 3034 \nQ 1025 2897 1115 2784 \nQ 1206 2672 1365 2600 \nQ 1525 2528 1775 2528 \nQ 2041 2528 2202 2600 \nQ 2363 2672 2448 2784 \nQ 2534 2897 2561 3034 \nQ 2588 3172 2588 3303 \nz\nM 2697 1281 \nQ 2697 1441 2653 1589 \nQ 2609 1738 2503 1852 \nQ 2397 1966 2217 2036 \nQ 2038 2106 1769 2106 \nQ 1522 2106 1348 2036 \nQ 1175 1966 1067 1850 \nQ 959 1734 909 1582 \nQ 859 1431 859 1269 \nQ 859 1066 909 898 \nQ 959 731 1068 611 \nQ 1178 491 1356 425 \nQ 1534 359 1788 359 \nQ 2044 359 2219 425 \nQ 2394 491 2500 611 \nQ 2606 731 2651 901 \nQ 2697 1072 2697 1281 \nz\n\" transform=\"scale(0.015625)\"/>\n       </defs>\n       <use xlink:href=\"#LiberationSans-30\"/>\n       <use xlink:href=\"#LiberationSans-2e\" x=\"55.615234\"/>\n       <use xlink:href=\"#LiberationSans-37\" x=\"83.398438\"/>\n       <use xlink:href=\"#LiberationSans-30\" x=\"139.013672\"/>\n       <use xlink:href=\"#LiberationSans-38\" x=\"194.628906\"/>\n      </g>\n     </g>\n    </g>\n    <g id=\"ytick_8\">\n     <g id=\"line2d_17\"/>\n     <g id=\"text_23\">\n      <!-- 0.710 -->\n      <g style=\"fill: #262626\" transform=\"translate(499.058813 148.180562) scale(0.08 -0.08)\">\n       <use xlink:href=\"#LiberationSans-30\"/>\n       <use xlink:href=\"#LiberationSans-2e\" x=\"55.615234\"/>\n       <use xlink:href=\"#LiberationSans-37\" x=\"83.398438\"/>\n       <use xlink:href=\"#LiberationSans-31\" x=\"139.013672\"/>\n       <use xlink:href=\"#LiberationSans-30\" x=\"194.628906\"/>\n      </g>\n     </g>\n    </g>\n    <g id=\"ytick_9\">\n     <g id=\"line2d_18\"/>\n     <g id=\"text_24\">\n      <!-- 0.712 -->\n      <g style=\"fill: #262626\" transform=\"translate(499.058813 101.91876) scale(0.08 -0.08)\">\n       <use xlink:href=\"#LiberationSans-30\"/>\n       <use xlink:href=\"#LiberationSans-2e\" x=\"55.615234\"/>\n       <use xlink:href=\"#LiberationSans-37\" x=\"83.398438\"/>\n       <use xlink:href=\"#LiberationSans-31\" x=\"139.013672\"/>\n       <use xlink:href=\"#LiberationSans-32\" x=\"194.628906\"/>\n      </g>\n     </g>\n    </g>\n    <g id=\"ytick_10\">\n     <g id=\"line2d_19\"/>\n     <g id=\"text_25\">\n      <!-- 0.714 -->\n      <g style=\"fill: #262626\" transform=\"translate(499.058813 55.656957) scale(0.08 -0.08)\">\n       <use xlink:href=\"#LiberationSans-30\"/>\n       <use xlink:href=\"#LiberationSans-2e\" x=\"55.615234\"/>\n       <use xlink:href=\"#LiberationSans-37\" x=\"83.398438\"/>\n       <use xlink:href=\"#LiberationSans-31\" x=\"139.013672\"/>\n       <use xlink:href=\"#LiberationSans-34\" x=\"194.628906\"/>\n      </g>\n     </g>\n    </g>\n   </g>\n   <image xlink:href=\"data:image/png;base64,\niVBORw0KGgoAAAANSUhEUgAAABUAAAGnCAYAAABYYhxcAAACHUlEQVR4nO2d25HDMAwDKVtpIv33mTSB/dgBWQCGODyk5DzOeT/f34TnnjTizDwA5txz8rt6Nr1nmukzmz7dQjH0PeprhEIKhVDfQ99jKRH9rb44qMennuyr6OdxPdk3nVEaS+2lNw7qsVQ5fc9pWn6ZENFfn8ZBPfQ9m4q+6e0+o0Q+7c6+qvnz47GUKVGaTQlUk1Ci6gNATT71bAqAdgu1l978rE/z47lMiOh7mp9oKRF9j6XKEyU6TVeo9KxQ+akXKv5A855R0GUiPx6frlD5QbKv6tP8eDYVNX+3pUQ+PRpLlQvVnf0VKj+UUHn+7UJB/zzIDyWUxlIEqEio6uzf46FvAaUOvmqhTPQ1mwItrRIqP9QzaPm/6X0AUM+dn0oUIBShvoc+lSgE1EJ/hYqD1gsFfDxB1PfQ38tEfi7wngVToZh8SoB66Hs2bRcqDypqfhH9akvdEZ1ReVDPpiL6BKxIqG76HkvdA3zT7aFPWQp4TNxDfzSWWqHyoKZCad5U9PaGcqHmyS/roa9qfgv90bxSF0qURahTnf1yn1Kb5nFN9KstVV4oHkuZ6COFIvp04klUt09FzQ8IJfpiplsoUaFUl3S5Tz2blvvUs+kmKj/Up5Nm+h5LlQtVTt/k02r61EOtbx7UQ1+06VZfeihLEYkS0ddsSiSK6NMVaqsvPFt9+RFZivi5bBF9k6U2UWlQz2/FdycKMT9C/w9f3S8Ntfq4kQAAAABJRU5ErkJggg==\" id=\"image1e63d134e4\" transform=\"scale(1 -1) translate(0 -304.56)\" x=\"476.64\" y=\"-27.36\" width=\"15.12\" height=\"304.56\"/>\n   <g id=\"LineCollection_1\"/>\n   <g id=\"patch_4\">\n    <path d=\"M 476.812813 332.61375 \nL 484.435813 332.61375 \nL 492.058813 332.61375 \nL 492.058813 27.69375 \nL 484.435813 27.69375 \nL 476.812813 27.69375 \nL 476.812813 332.61375 \nz\n\" style=\"fill: none\"/>\n   </g>\n  </g>\n </g>\n <defs>\n  <clipPath id=\"p062b910ddd\">\n   <rect x=\"97.372812\" y=\"27.69375\" width=\"357.12\" height=\"304.92\"/>\n  </clipPath>\n </defs>\n</svg>\n",
            "text/plain": [
              "<Figure size 800x550 with 2 Axes>"
            ]
          },
          "metadata": {},
          "output_type": "display_data"
        }
      ],
      "source": [
        "fig, ax = plt.subplots()\n",
        "sns.heatmap(z2df, cbar=True, annot=True, fmt=\".4g\")\n",
        "plt.title(\"MAE variation with hyperparameters and regularization = 0.1\", fontsize=20)\n",
        "plt.show()"
      ]
    },
    {
      "cell_type": "markdown",
      "source": [
        "### Training on best hyperparameters"
      ],
      "metadata": {
        "id": "gYUuNcL-Hl8i"
      }
    },
    {
      "cell_type": "code",
      "execution_count": null,
      "metadata": {
        "id": "9lwExYqoQwbo"
      },
      "outputs": [],
      "source": [
        "g = {'maxIter': 15, 'rank': 5, 'regParam': 0.1}\n",
        "als = ALS(\n",
        "    userCol=COL_USER,\n",
        "    itemCol=COL_ITEM,\n",
        "    ratingCol=COL_RATING,\n",
        "    coldStartStrategy=\"drop\",\n",
        "    **g\n",
        "    )\n",
        "    \n",
        "model = als.fit(dfs_train)\n",
        "model.write().save(\"saved_model_small\")"
      ]
    },
    {
      "cell_type": "markdown",
      "source": [
        "### Prediction and evaluation of model"
      ],
      "metadata": {
        "id": "n3BhCCvUHyNb"
      }
    },
    {
      "cell_type": "code",
      "source": [
        "import time"
      ],
      "metadata": {
        "id": "oZjqbBJUI72S"
      },
      "execution_count": null,
      "outputs": []
    },
    {
      "cell_type": "code",
      "execution_count": null,
      "metadata": {
        "id": "Migc6em_T4dY",
        "colab": {
          "base_uri": "https://localhost:8080/"
        },
        "outputId": "81942b03-2ea0-4c70-ee45-6042bb192429"
      },
      "outputs": [
        {
          "output_type": "stream",
          "name": "stderr",
          "text": [
            "/usr/local/lib/python3.10/dist-packages/pyspark/sql/context.py:157: FutureWarning: Deprecated in 3.0.0. Use SparkSession.builder.getOrCreate() instead.\n",
            "  warnings.warn(\n"
          ]
        },
        {
          "output_type": "stream",
          "name": "stdout",
          "text": [
            "RMSE score = 0.9148799995244534\n",
            "MAE score = 0.7035154000132601\n",
            "R2 score = 0.24288248270185042\n",
            "Explained variance score = 0.26454987130028695\n",
            "elapsed time: 15.769513607025146\n",
            "Precision@k = 0.8904619970193739\n",
            "Recall@k = 0.5770147187816198\n",
            "NDCG@k = 0.998135812319825\n",
            "Mean average precision = 0.5770147187816198\n",
            "elapsed time: 8.135977029800415\n"
          ]
        }
      ],
      "source": [
        "dfs_pred = model.transform(dfs_test)\n",
        "start_time = time.time()\n",
        "evaluations = SparkRatingEvaluation(\n",
        "    dfs_test, \n",
        "    dfs_pred,\n",
        "    col_user=COL_USER,\n",
        "    col_item=COL_ITEM,\n",
        "    col_rating=COL_RATING,\n",
        "    col_prediction=COL_PREDICTION\n",
        ")\n",
        "print(\n",
        "    \"RMSE score = {}\".format(evaluations.rmse()),\n",
        "    \"MAE score = {}\".format(evaluations.mae()),\n",
        "    \"R2 score = {}\".format(evaluations.rsquared()),\n",
        "    \"Explained variance score = {}\".format(evaluations.exp_var()),\n",
        "    sep=\"\\n\"\n",
        ")\n",
        "print(f\"elapsed time: {time.time() - start_time}\")\n",
        "\n",
        "start_time = time.time()\n",
        "evaluations = SparkRankingEvaluation(\n",
        "    dfs_test, \n",
        "    dfs_pred,\n",
        "    col_user=COL_USER,\n",
        "    col_item=COL_ITEM,\n",
        "    col_rating=COL_RATING,\n",
        "    col_prediction=COL_PREDICTION,\n",
        "    k=10\n",
        ")\n",
        "\n",
        "print(\n",
        "    \"Precision@k = {}\".format(evaluations.precision_at_k()),\n",
        "    \"Recall@k = {}\".format(evaluations.recall_at_k()),\n",
        "    \"NDCG@k = {}\".format(evaluations.ndcg_at_k()),\n",
        "    \"Mean average precision = {}\".format(evaluations.map_at_k()),\n",
        "    sep=\"\\n\"\n",
        ")\n",
        "print(f\"elapsed time: {time.time() - start_time}\")"
      ]
    },
    {
      "cell_type": "markdown",
      "source": [
        "### Analyze for one userId"
      ],
      "metadata": {
        "id": "56HaVuIVIARv"
      }
    },
    {
      "cell_type": "code",
      "execution_count": null,
      "metadata": {
        "colab": {
          "base_uri": "https://localhost:8080/"
        },
        "id": "baD2xvmfUL-I",
        "outputId": "90ad3874-ab12-498a-be63-e3df0b6258a1"
      },
      "outputs": [
        {
          "output_type": "stream",
          "name": "stdout",
          "text": [
            "+------+-----+\n",
            "|userId|count|\n",
            "+------+-----+\n",
            "|   564|  438|\n",
            "|   547|  404|\n",
            "|    15|  400|\n",
            "+------+-----+\n",
            "only showing top 3 rows\n",
            "\n"
          ]
        }
      ],
      "source": [
        "dfs_pred.groupBy(\"userId\").count().orderBy(\"count\", ascending=False).show(3)"
      ]
    },
    {
      "cell_type": "markdown",
      "source": [
        "Get best and worst predictions for userId 564"
      ],
      "metadata": {
        "id": "AGEDLyaNIVEf"
      }
    },
    {
      "cell_type": "code",
      "execution_count": null,
      "metadata": {
        "colab": {
          "base_uri": "https://localhost:8080/"
        },
        "id": "yjPHp9gNjGAP",
        "outputId": "6bd4e16b-6ae6-4def-891a-a1e866b3fb80"
      },
      "outputs": [
        {
          "output_type": "stream",
          "name": "stdout",
          "text": [
            "+------+-------+------+---------+----------+----------------+\n",
            "|userId|movieId|rating|timestamp|prediction|prediction error|\n",
            "+------+-------+------+---------+----------+----------------+\n",
            "|   564|   1973|   2.0|974709294| 1.9974314|    0.0025686026|\n",
            "|   564|   2297|   2.0|974843206| 1.9957771|      0.00422287|\n",
            "|   564|   2580|   4.0|974711243|  4.008902|     0.008902073|\n",
            "|   564|   3060|   4.0|974833079| 4.0111666|     0.011166573|\n",
            "|   564|   1186|   5.0|974712764| 5.0126963|     0.012696266|\n",
            "|   564|   2583|   4.0|974843921| 3.9835124|     0.016487598|\n",
            "|   564|    252|   3.0|974837728| 2.9714384|     0.028561592|\n",
            "|   564|     89|   3.0|974715602| 3.0359664|     0.035966396|\n",
            "|   564|   1367|   3.0|974837509| 3.0395436|      0.03954363|\n",
            "|   564|    942|   4.0|974843691| 3.9577637|     0.042236328|\n",
            "|   564|   1016|   4.0|974837386|  3.956483|     0.043517113|\n",
            "|   564|   2950|   3.0|974843416| 2.9550674|     0.044932604|\n",
            "|   564|   2076|   4.0|974711893|  4.044958|     0.044958115|\n",
            "|   564|   3730|   5.0|974710334|  5.046181|     0.046181202|\n",
            "|   564|   1337|   3.0|974709044|  2.952496|      0.04750395|\n",
            "|   564|     99|   4.0|974712184| 4.0494103|     0.049410343|\n",
            "|   564|   2788|   4.0|974834922| 3.9489794|     0.051020622|\n",
            "|   564|    363|   5.0|974840424| 5.0524535|     0.052453518|\n",
            "|   564|   3961|   3.0|974709779| 2.9394467|     0.060553312|\n",
            "|   564|   2900|   3.0|974709336| 2.9394467|     0.060553312|\n",
            "+------+-------+------+---------+----------+----------------+\n",
            "only showing top 20 rows\n",
            "\n",
            "+------+-------+------+---------+----------+----------------+\n",
            "|userId|movieId|rating|timestamp|prediction|prediction error|\n",
            "+------+-------+------+---------+----------+----------------+\n",
            "|   564|   2535|   5.0|974838889| 0.8851143|        4.114886|\n",
            "|   564|   3804|   5.0|974838456| 1.5330623|       3.4669375|\n",
            "|   564|   1326|   5.0|974710177| 1.7017392|       3.2982607|\n",
            "|   564|    384|   5.0|974839204| 1.8137158|        3.186284|\n",
            "|   564|    110|   1.0|974711555| 4.1767955|       3.1767955|\n",
            "|   564|    271|   5.0|974843064| 1.8588226|       3.1411774|\n",
            "|   564|   2755|   5.0|974843463| 1.9355359|        3.064464|\n",
            "|   564|   2475|   5.0|974838858| 1.9888622|        3.011138|\n",
            "|   564|    513|   4.0|974832815| 1.0146472|       2.9853528|\n",
            "|   564|    493|   1.0|974715293| 3.9379058|       2.9379058|\n",
            "|   564|   1984|   4.0|974710177|   1.06286|         2.93714|\n",
            "|   564|   2119|   4.0|974710177| 1.0986651|       2.9013348|\n",
            "|   564|   3833|   5.0|974709973| 2.1919854|       2.8080146|\n",
            "|   564|    193|   5.0|974843549| 2.2055705|       2.7944295|\n",
            "|   564|   3813|   5.0|974715038| 2.2277815|       2.7722185|\n",
            "|   564|   3428|   1.0|974843587|  3.766241|        2.766241|\n",
            "|   564|   3478|   1.0|974842443|  3.683997|        2.683997|\n",
            "|   564|   1379|   1.0|974837931|  3.656313|        2.656313|\n",
            "|   564|   3920|   2.0|974712223| 4.6545534|       2.6545534|\n",
            "|   564|   1987|   1.0|974709577|  3.593956|        2.593956|\n",
            "+------+-------+------+---------+----------+----------------+\n",
            "only showing top 20 rows\n",
            "\n"
          ]
        },
        {
          "output_type": "execute_result",
          "data": {
            "text/plain": [
              "(None, None)"
            ]
          },
          "metadata": {},
          "execution_count": 24
        }
      ],
      "source": [
        "from pyspark.sql.functions import abs\n",
        "df_user = dfs_pred.where(\"userID == 564\").withColumn('prediction error', abs(dfs_pred['rating'] - dfs_pred['prediction']))\n",
        "df_user.orderBy('prediction error', ascending=True).show(), df_user.orderBy('prediction error', ascending=False).show()"
      ]
    },
    {
      "cell_type": "code",
      "execution_count": null,
      "metadata": {
        "colab": {
          "base_uri": "https://localhost:8080/"
        },
        "id": "wxqYSZsrjzRF",
        "outputId": "815b744c-bb30-400c-d5b3-37a6288fbb94"
      },
      "outputs": [
        {
          "output_type": "stream",
          "name": "stdout",
          "text": [
            "Row(recommendations=[Row(movieId=83411, rating=6.166429042816162), Row(movieId=83359, rating=6.166429042816162), Row(movieId=83318, rating=6.166429042816162), Row(movieId=67504, rating=6.166429042816162), Row(movieId=5047, rating=6.015446186065674), Row(movieId=71033, rating=5.978158950805664), Row(movieId=26084, rating=5.700839042663574), Row(movieId=26131, rating=5.588240146636963), Row(movieId=4396, rating=5.579128265380859), Row(movieId=80599, rating=5.549786567687988), Row(movieId=72647, rating=5.549786567687988), Row(movieId=26400, rating=5.549786567687988), Row(movieId=25764, rating=5.549786567687988), Row(movieId=8797, rating=5.549786567687988), Row(movieId=5914, rating=5.549786567687988), Row(movieId=4405, rating=5.549786567687988), Row(movieId=665, rating=5.527074337005615), Row(movieId=5490, rating=5.476734638214111), Row(movieId=8511, rating=5.473506927490234), Row(movieId=26171, rating=5.395317554473877)])\n"
          ]
        }
      ],
      "source": [
        "user_recommendations = model.recommendForUserSubset(dfs_test.where('userId == 564'), 20)\n",
        "print(user_recommendations.select('recommendations').first())"
      ]
    },
    {
      "cell_type": "markdown",
      "source": [
        "Check if top predictions are present in the dataset and what ratings those movies got"
      ],
      "metadata": {
        "id": "fklTEr_JIdQQ"
      }
    },
    {
      "cell_type": "code",
      "execution_count": null,
      "metadata": {
        "id": "e1lFjeq4oanW",
        "colab": {
          "base_uri": "https://localhost:8080/"
        },
        "outputId": "e1596331-10ad-43fd-feda-063b5727c046"
      },
      "outputs": [
        {
          "output_type": "stream",
          "name": "stdout",
          "text": [
            "+------+-------+------+---------+\n",
            "|userId|movieId|rating|timestamp|\n",
            "+------+-------+------+---------+\n",
            "|   564|    363|   5.0|974840424|\n",
            "|   564|   3153|   5.0|974838858|\n",
            "|   564|   3672|   5.0|974839862|\n",
            "+------+-------+------+---------+\n",
            "\n"
          ]
        }
      ],
      "source": [
        "list1 = [83411, 83359, 83318, 67504, 26131, 6791, 1859, 2810, 26840, 190, 5490, 363, 4965, 3153, 3672, 54372, 803, 2836, 80599, 72647]\n",
        "import pyspark.sql.functions as F\n",
        "ratings_small.where('userId == 564').where(F.col('movieId').isin(list1)).show()"
      ]
    },
    {
      "cell_type": "markdown",
      "metadata": {
        "id": "JW4cXZ8QdSdt"
      },
      "source": [
        "## Full DataSet. "
      ]
    },
    {
      "cell_type": "markdown",
      "source": [
        "### Training on best hyperparameters identified on small dataset"
      ],
      "metadata": {
        "id": "kS6BMceBJYsH"
      }
    },
    {
      "cell_type": "code",
      "execution_count": null,
      "metadata": {
        "id": "84Zti6dJdRqN"
      },
      "outputs": [],
      "source": [
        "dfs_train, dfs_test = spark_random_split(ratings, ratio=0.75, seed=42)"
      ]
    },
    {
      "cell_type": "code",
      "source": [
        "import time"
      ],
      "metadata": {
        "id": "DfHpeD9gArUF"
      },
      "execution_count": null,
      "outputs": []
    },
    {
      "cell_type": "code",
      "execution_count": null,
      "metadata": {
        "colab": {
          "base_uri": "https://localhost:8080/"
        },
        "id": "zvRV062n0I_a",
        "outputId": "67c26366-52a0-494b-9210-d001b7df01b7"
      },
      "outputs": [
        {
          "output_type": "stream",
          "name": "stdout",
          "text": [
            "elapsed time: 303.9111773967743\n"
          ]
        }
      ],
      "source": [
        "g = {'maxIter': 15, 'rank': 5, 'regParam': 0.1}\n",
        "als = ALS(\n",
        "    userCol=COL_USER,\n",
        "    itemCol=COL_ITEM,\n",
        "    ratingCol=COL_RATING,\n",
        "    coldStartStrategy=\"drop\",\n",
        "    **g\n",
        "    )\n",
        "\n",
        "start_time = time.time()\n",
        "model = als.fit(dfs_train)\n",
        "print(f\"elapsed time: {time.time() - start_time}\")\n",
        "model.write().save(\"saved_model_large\")"
      ]
    },
    {
      "cell_type": "code",
      "source": [
        "model = ALSModel.load(\"saved_model_large\")"
      ],
      "metadata": {
        "id": "yM55YkiL4Q4-"
      },
      "execution_count": null,
      "outputs": []
    },
    {
      "cell_type": "markdown",
      "source": [
        "### Prediction and evaluation of model"
      ],
      "metadata": {
        "id": "bh4rI62HJiEC"
      }
    },
    {
      "cell_type": "code",
      "execution_count": null,
      "metadata": {
        "id": "d0B7SWHW0I_b",
        "colab": {
          "base_uri": "https://localhost:8080/"
        },
        "outputId": "92281f89-1f95-4dee-e451-a0c8f93e522e"
      },
      "outputs": [
        {
          "output_type": "stream",
          "name": "stdout",
          "text": [
            "+------+-------+------+----------+----------+\n",
            "|userId|movieId|rating| timestamp|prediction|\n",
            "+------+-------+------+----------+----------+\n",
            "|     1|    858|   5.0|1425941523|   4.70527|\n",
            "|     1|   2762|   4.5|1425941300|  4.328716|\n",
            "|     1|   2959|   4.0|1425941601|  4.714684|\n",
            "|     1|   4226|   4.0|1425942228| 4.7000313|\n",
            "|     1|  54503|   3.5|1425941313| 4.2712216|\n",
            "|     1|  81834|   5.0|1425942133| 3.7667215|\n",
            "|     1|  96821|   5.0|1425941382| 4.5377226|\n",
            "|     2|     32|   2.0| 867039166| 3.4027534|\n",
            "|     2|     58|   3.0| 867039325|  3.660709|\n",
            "|     2|     79|   4.0| 867039325|  3.241688|\n",
            "|     2|    260|   4.0| 867039249| 3.3417816|\n",
            "|     2|    339|   5.0| 867041296| 3.3993149|\n",
            "|     2|    786|   1.0| 867039249| 2.9584153|\n",
            "|     2|   1233|   4.0| 867039820| 3.4589393|\n",
            "|     2|   1356|   5.0| 867039288| 3.2055817|\n",
            "|     2|   1475|   3.0| 867040824| 3.2037232|\n",
            "|     3|    480|   3.0|1048076925| 2.7132936|\n",
            "|     3|    527|   4.0|1048076900| 3.5945258|\n",
            "|     3|   1270|   3.0|1048076976| 3.0338542|\n",
            "|     4|   1097|   5.0|1042667925|  4.195798|\n",
            "+------+-------+------+----------+----------+\n",
            "only showing top 20 rows\n",
            "\n"
          ]
        }
      ],
      "source": [
        "dfs_pred = model.transform(dfs_test)\n",
        "dfs_pred.show()"
      ]
    },
    {
      "cell_type": "code",
      "execution_count": null,
      "metadata": {
        "colab": {
          "base_uri": "https://localhost:8080/"
        },
        "id": "N5QuvKkuLKpo",
        "outputId": "7f53dc73-ffaf-41ed-a610-92c860a1e96e"
      },
      "outputs": [
        {
          "name": "stderr",
          "output_type": "stream",
          "text": [
            "/usr/local/lib/python3.10/dist-packages/pyspark/sql/context.py:157: FutureWarning: Deprecated in 3.0.0. Use SparkSession.builder.getOrCreate() instead.\n",
            "  warnings.warn(\n"
          ]
        },
        {
          "name": "stdout",
          "output_type": "stream",
          "text": [
            "RMSE score = 0.8246497236836979\n",
            "MAE score = 0.6357202126161584\n",
            "R2 score = 0.4006366035842652\n",
            "Explained variance score = 0.4083181849506766\n",
            "elapsed time: 401.04404187202454\n",
            "Precision@k = 0.6967805018950819\n",
            "Recall@k = 0.7317379640696817\n",
            "NDCG@k = 0.9999628116555445\n",
            "Mean average precision = 0.7317379640696817\n",
            "elapsed time: 229.0645670890808\n"
          ]
        }
      ],
      "source": [
        "start_time = time.time()\n",
        "evaluations = SparkRatingEvaluation(\n",
        "    dfs_test, \n",
        "    dfs_pred,\n",
        "    col_user=COL_USER,\n",
        "    col_item=COL_ITEM,\n",
        "    col_rating=COL_RATING,\n",
        "    col_prediction=COL_PREDICTION\n",
        ")\n",
        "print(\n",
        "    \"RMSE score = {}\".format(evaluations.rmse()),\n",
        "    \"MAE score = {}\".format(evaluations.mae()),\n",
        "    \"R2 score = {}\".format(evaluations.rsquared()),\n",
        "    \"Explained variance score = {}\".format(evaluations.exp_var()),\n",
        "    sep=\"\\n\"\n",
        ")\n",
        "print(f\"elapsed time: {time.time() - start_time}\")\n",
        "\n",
        "start_time = time.time()\n",
        "evaluations = SparkRankingEvaluation(\n",
        "    dfs_test, \n",
        "    dfs_pred,\n",
        "    col_user=COL_USER,\n",
        "    col_item=COL_ITEM,\n",
        "    col_rating=COL_RATING,\n",
        "    col_prediction=COL_PREDICTION,\n",
        "    k=10\n",
        ")\n",
        "\n",
        "print(\n",
        "    \"Precision@k = {}\".format(evaluations.precision_at_k()),\n",
        "    \"Recall@k = {}\".format(evaluations.recall_at_k()),\n",
        "    \"NDCG@k = {}\".format(evaluations.ndcg_at_k()),\n",
        "    \"Mean average precision = {}\".format(evaluations.map_at_k()),\n",
        "    sep=\"\\n\"\n",
        ")\n",
        "print(f\"elapsed time: {time.time() - start_time}\")"
      ]
    },
    {
      "cell_type": "markdown",
      "source": [
        "### Analyze for one userId"
      ],
      "metadata": {
        "id": "qPvkbk_IJp68"
      }
    },
    {
      "cell_type": "code",
      "execution_count": null,
      "metadata": {
        "colab": {
          "base_uri": "https://localhost:8080/"
        },
        "id": "_p6GWJ9M0I_b",
        "outputId": "8a34b787-0e5c-4496-fb7b-ee90fcc81f5e"
      },
      "outputs": [
        {
          "name": "stdout",
          "output_type": "stream",
          "text": [
            "+------+-----+\n",
            "|userId|count|\n",
            "+------+-----+\n",
            "| 45811|18276|\n",
            "|  8659| 9279|\n",
            "|270123| 7638|\n",
            "+------+-----+\n",
            "only showing top 3 rows\n",
            "\n",
            "elapsed time: 6.305262327194214\n"
          ]
        }
      ],
      "source": [
        "start_time = time.time()\n",
        "ratings_full.groupBy(\"userId\").count().orderBy(\"count\", ascending=False).show(3)\n",
        "print(f\"elapsed time: {time.time() - start_time}\")"
      ]
    },
    {
      "cell_type": "code",
      "execution_count": null,
      "metadata": {
        "colab": {
          "base_uri": "https://localhost:8080/"
        },
        "id": "WKSCEgyV0I_b",
        "outputId": "cf940c25-320a-4bb7-fdce-ff17b30eb7b0"
      },
      "outputs": [
        {
          "name": "stdout",
          "output_type": "stream",
          "text": [
            "+------+-------+------+----------+----------+----------------+\n",
            "|userId|movieId|rating| timestamp|prediction|prediction error|\n",
            "+------+-------+------+----------+----------+----------------+\n",
            "| 45811|    496|   4.5|1455488796| 3.2251909|       1.2748091|\n",
            "| 45811|   2122|   2.5|1482568531| 2.0998292|       0.4001708|\n",
            "| 45811|   2366|   4.0|1450166181| 3.5820484|      0.41795158|\n",
            "| 45811|   3749|   3.0|1455271853|  3.236781|      0.23678088|\n",
            "| 45811|   4519|   3.5|1473241811| 3.1013837|       0.3986163|\n",
            "| 45811|   4935|   4.0|1455271838| 3.3281066|      0.67189336|\n",
            "| 45811|   5518|   4.0|1455488805| 3.7766316|       0.2233684|\n",
            "| 45811|   6658|   3.0|1450162893|  2.725479|       0.2745211|\n",
            "| 45811|   7880|   3.5|1455488841| 3.1979845|      0.30201554|\n",
            "| 45811|   7982|   3.5|1450164159| 3.3696973|      0.13030267|\n",
            "| 45811|  40574|   0.5|1455399790| 2.1914778|       1.6914778|\n",
            "| 45811|  44022|   3.0|1450166640| 2.7193031|      0.28069687|\n",
            "| 45811|  47084|   4.0|1455271832| 3.6060095|      0.39399052|\n",
            "| 45811|  54190|   2.5|1455271867|  3.052689|       0.5526891|\n",
            "| 45811|  58061|   3.5|1465648876| 3.8495188|      0.34951878|\n",
            "| 45811|  64519|   3.5|1455488838| 3.5608196|     0.060819626|\n",
            "| 45811|  70355|   4.0|1455488814|  3.396407|       0.6035931|\n",
            "| 45811|  96488|   4.0|1450163660| 3.7840326|      0.21596742|\n",
            "| 45811| 119432|   3.5|1455271848|  3.323303|      0.17669702|\n",
            "| 45811| 124647|   2.5|1461698004|  3.052968|        0.552968|\n",
            "+------+-------+------+----------+----------+----------------+\n",
            "only showing top 20 rows\n",
            "\n",
            "+------+-------+------+----------+----------+----------------+\n",
            "|userId|movieId|rating| timestamp|prediction|prediction error|\n",
            "+------+-------+------+----------+----------+----------------+\n",
            "| 45811|   3045|   3.0|1497376305| 3.0000062|     6.198883E-6|\n",
            "| 45811|   4754|   3.5|1450164082|  3.500734|     7.340908E-4|\n",
            "| 45811| 104881|   3.0|1450164214| 3.0008078|    8.0776215E-4|\n",
            "| 45811|  98078|   2.5|1461698004| 2.4990993|     9.007454E-4|\n",
            "| 45811|  33363|   3.5|1450162795| 3.5011945|    0.0011944771|\n",
            "+------+-------+------+----------+----------+----------------+\n",
            "only showing top 5 rows\n",
            "\n",
            "+------+-------+------+----------+----------+----------------+\n",
            "|userId|movieId|rating| timestamp|prediction|prediction error|\n",
            "+------+-------+------+----------+----------+----------------+\n",
            "| 45811| 168314|   5.0|1486068016| 0.8115568|        4.188443|\n",
            "| 45811| 123044|   0.5|1455488895|  4.103299|       3.6032991|\n",
            "| 45811| 169482|   4.0|1490178561|0.49773818|       3.5022619|\n",
            "| 45811| 143333|   4.0|1450163633| 0.5925224|       3.4074776|\n",
            "| 45811|  26362|   0.5|1455488895| 3.7134268|       3.2134268|\n",
            "+------+-------+------+----------+----------+----------------+\n",
            "only showing top 5 rows\n",
            "\n"
          ]
        },
        {
          "data": {
            "text/plain": [
              "(None, None)"
            ]
          },
          "execution_count": 29,
          "metadata": {},
          "output_type": "execute_result"
        }
      ],
      "source": [
        "from pyspark.sql.functions import abs\n",
        "df_user = dfs_pred.where(\"userID == 45811\").withColumn('prediction error', abs(dfs_pred['rating'] - dfs_pred['prediction']))\n",
        "df_user.show()\n",
        "df_user.orderBy('prediction error', ascending=True).show(5), df_user.orderBy('prediction error', ascending=False).show(5)"
      ]
    },
    {
      "cell_type": "code",
      "execution_count": null,
      "metadata": {
        "colab": {
          "base_uri": "https://localhost:8080/"
        },
        "id": "GBjDKF_m0I_b",
        "outputId": "3f92c95f-0ae7-43da-c282-ae3e1278ceb5"
      },
      "outputs": [
        {
          "data": {
            "text/plain": [
              "Row(recommendations=[Row(movieId=173939, rating=5.7616658210754395), Row(movieId=164937, rating=5.571941375732422), Row(movieId=174665, rating=5.147409915924072), Row(movieId=158832, rating=5.020513534545898), Row(movieId=133881, rating=4.963062286376953), Row(movieId=135735, rating=4.873232364654541), Row(movieId=175275, rating=4.862626552581787), Row(movieId=148836, rating=4.862626552581787), Row(movieId=148791, rating=4.862626552581787), Row(movieId=141858, rating=4.862626552581787), Row(movieId=141301, rating=4.862626552581787), Row(movieId=112064, rating=4.862626552581787), Row(movieId=90199, rating=4.862626552581787), Row(movieId=169852, rating=4.8392109870910645), Row(movieId=175335, rating=4.815463066101074), Row(movieId=86237, rating=4.808316230773926), Row(movieId=159467, rating=4.795290470123291), Row(movieId=127843, rating=4.791383266448975), Row(movieId=155619, rating=4.7722063064575195), Row(movieId=143641, rating=4.766750812530518)])"
            ]
          },
          "execution_count": 30,
          "metadata": {},
          "output_type": "execute_result"
        }
      ],
      "source": [
        "user_recommendations = model.recommendForUserSubset(dfs_test.where('userId == 45811'), 20)\n",
        "user_recommendations.select('recommendations').first()"
      ]
    },
    {
      "cell_type": "markdown",
      "source": [
        "check if top 20 recommendations are present in the ratings dataset"
      ],
      "metadata": {
        "id": "PqYK41QuJ2nQ"
      }
    },
    {
      "cell_type": "code",
      "execution_count": null,
      "metadata": {
        "id": "dge46iaQ0I_b"
      },
      "outputs": [],
      "source": [
        "list1 = [173939, 164937, 174665, 169852, 155090, 101862, 175335, 158832, 175275, 148836, 148791, 141858, 141301, 112064, 90199, 155619, 133881, 151989, 66389, 159467]"
      ]
    },
    {
      "cell_type": "code",
      "execution_count": null,
      "metadata": {
        "colab": {
          "base_uri": "https://localhost:8080/"
        },
        "id": "7eMgrzIJ0I_c",
        "outputId": "29fc7b23-330b-4e0e-a7c0-87b8a68f1eed"
      },
      "outputs": [
        {
          "name": "stdout",
          "output_type": "stream",
          "text": [
            "+------+-------+------+----------+\n",
            "|userId|movieId|rating| timestamp|\n",
            "+------+-------+------+----------+\n",
            "| 45811|  90199|   5.0|1455274835|\n",
            "| 45811| 112064|   5.0|1479221010|\n",
            "| 45811| 141301|   5.0|1465648876|\n",
            "| 45811| 141858|   5.0|1497376303|\n",
            "| 45811| 148791|   5.0|1455577738|\n",
            "| 45811| 148836|   5.0|1455251737|\n",
            "| 45811| 155090|   3.0|1482568528|\n",
            "| 45811| 158832|   3.5|1479221012|\n",
            "| 45811| 159467|   5.0|1466175142|\n",
            "| 45811| 175275|   5.0|1500754522|\n",
            "+------+-------+------+----------+\n",
            "\n"
          ]
        }
      ],
      "source": [
        "import pyspark.sql.functions as F\n",
        "ratings_full.where('userId == 45811').where(F.col('movieId').isin(list1)).show()"
      ]
    },
    {
      "cell_type": "markdown",
      "metadata": {
        "id": "5pbNzpjwdWad"
      },
      "source": [
        "### Analyze recommendations made for user"
      ]
    },
    {
      "cell_type": "code",
      "execution_count": null,
      "metadata": {
        "id": "P1B2swmOgDmo"
      },
      "outputs": [],
      "source": [
        "list2 = [173939, 164937, 174665, 169852, 101862, 175335, 155619, 133881, 151989, 66389, 159467]\n",
        "list3 = [155090, 90199]"
      ]
    },
    {
      "cell_type": "code",
      "execution_count": null,
      "metadata": {
        "colab": {
          "base_uri": "https://localhost:8080/"
        },
        "id": "ab6Gc8ShrkHn",
        "outputId": "8c023174-21de-4e0d-823b-a0359c095540"
      },
      "outputs": [
        {
          "output_type": "stream",
          "name": "stdout",
          "text": [
            "+--------------------+\n",
            "|            overview|\n",
            "+--------------------+\n",
            "|Summer in L.A., i...|\n",
            "|In the spring of ...|\n",
            "|\"The story of Ben...|\n",
            "|In her film debut...|\n",
            "|\"Frank Lehmann, 2...|\n",
            "|Bahman Mohassess ...|\n",
            "|30-year old Kertu...|\n",
            "|                null|\n",
            "|Two introverted p...|\n",
            "|Emily Walters is ...|\n",
            "+--------------------+\n",
            "\n"
          ]
        }
      ],
      "source": [
        "movie1 = movie_metadata.filter(movie_metadata.movieId.isin(list2))\n",
        "movie1.select('overview').show()"
      ]
    },
    {
      "cell_type": "markdown",
      "source": [
        "good prediction"
      ],
      "metadata": {
        "id": "l0aMmGKyKZ5Y"
      }
    },
    {
      "cell_type": "code",
      "execution_count": null,
      "metadata": {
        "colab": {
          "base_uri": "https://localhost:8080/"
        },
        "id": "LnUZzFyJig8W",
        "outputId": "ce283a23-467d-45f7-f1fc-8635e4f37193"
      },
      "outputs": [
        {
          "output_type": "execute_result",
          "data": {
            "text/plain": [
              "Row(overview='Taraneh is a model 15-year-old Iranian girl, studious and filial, who supports her ailing grandmother with a job at a photo shop and visits her father (who has been imprisoned for reasons never made clear in the film) bearing gifts of cigarettes and magazines. But when Amir, a young man from a well-off family, sets his sights on Taraneh and courts her with an intensity that borders on stalking, her well-ordered life spirals into chaos.')"
            ]
          },
          "metadata": {},
          "execution_count": 15
        }
      ],
      "source": [
        "movie1 = movie_metadata.filter(movie_metadata.movieId == 90199)\n",
        "movie1.select('overview').first()"
      ]
    },
    {
      "cell_type": "markdown",
      "source": [
        "misprediction"
      ],
      "metadata": {
        "id": "07oaDN8_KX1R"
      }
    },
    {
      "cell_type": "code",
      "execution_count": null,
      "metadata": {
        "colab": {
          "base_uri": "https://localhost:8080/"
        },
        "id": "iXGeROrBfGym",
        "outputId": "dc40e7d4-8cea-44d2-d8c9-6602431914ca"
      },
      "outputs": [
        {
          "output_type": "execute_result",
          "data": {
            "text/plain": [
              "Row(overview='Roja lives in a Tamil village, and her sister is about to marry a man from the city, who decides to marry Roja instead and gets a job assignment in Kashmir, where some militants decide to kidnap them.')"
            ]
          },
          "metadata": {},
          "execution_count": 16
        }
      ],
      "source": [
        "movie1 = movie_metadata.filter(movie_metadata.movieId == 155090)\n",
        "movie1.select('overview').first()"
      ]
    },
    {
      "cell_type": "markdown",
      "source": [
        "unknown prediction"
      ],
      "metadata": {
        "id": "Zxkg4F8m3qQ0"
      }
    },
    {
      "cell_type": "code",
      "source": [
        "movie1 = movie_metadata.filter(movie_metadata.movieId == 164937)\n",
        "movie1.select('overview').first()"
      ],
      "metadata": {
        "colab": {
          "base_uri": "https://localhost:8080/"
        },
        "id": "xyOVtptX3sKO",
        "outputId": "37869a7a-0685-462a-fbfb-507a106896a3"
      },
      "execution_count": null,
      "outputs": [
        {
          "output_type": "execute_result",
          "data": {
            "text/plain": [
              "Row(overview=\"30-year old Kertu has lived under her father's power her whole life. Because of her gentle nature, she is thought by locals to be a little simple-minded. The young woman makes her first timid attempt to change something in her life - she send a postcard to Villu, a handsome but degenerate village drunk.\")"
            ]
          },
          "metadata": {},
          "execution_count": 18
        }
      ]
    },
    {
      "cell_type": "markdown",
      "source": [
        "# Prediction pipeline"
      ],
      "metadata": {
        "id": "_Vfu-E8Xg2WF"
      }
    },
    {
      "cell_type": "code",
      "source": [
        "import pandas as pd"
      ],
      "metadata": {
        "id": "ZCoFzVgSZMMI"
      },
      "execution_count": null,
      "outputs": []
    },
    {
      "cell_type": "code",
      "source": [
        "# data = [564]\n",
        "data = input()\n",
        "a = pd.DataFrame(data, columns=['userId'])\n",
        "sparkDF=spark.createDataFrame(a)\n",
        "sparkDF.show()"
      ],
      "metadata": {
        "colab": {
          "base_uri": "https://localhost:8080/"
        },
        "id": "OECRJ5jfXRj5",
        "outputId": "91e77cc1-d284-4707-9d14-8bd1c3cc487b"
      },
      "execution_count": null,
      "outputs": [
        {
          "output_type": "stream",
          "name": "stdout",
          "text": [
            "+------+\n",
            "|userId|\n",
            "+------+\n",
            "|   564|\n",
            "+------+\n",
            "\n"
          ]
        }
      ]
    },
    {
      "cell_type": "code",
      "source": [
        "a = model.recommendForUserSubset(sparkDF, 10)\n",
        "a.show()"
      ],
      "metadata": {
        "colab": {
          "base_uri": "https://localhost:8080/"
        },
        "id": "DAUXP6bHVdIb",
        "outputId": "7fa0a700-f27f-4ad9-e489-450ae050237d"
      },
      "execution_count": null,
      "outputs": [
        {
          "output_type": "stream",
          "name": "stdout",
          "text": [
            "+------+--------------------+\n",
            "|userId|     recommendations|\n",
            "+------+--------------------+\n",
            "|   564|[{151989, 6.82406...|\n",
            "+------+--------------------+\n",
            "\n"
          ]
        }
      ]
    },
    {
      "cell_type": "code",
      "source": [
        "a.first()"
      ],
      "metadata": {
        "colab": {
          "base_uri": "https://localhost:8080/"
        },
        "id": "iV2YQT-EZ_lq",
        "outputId": "bd95ed5f-56de-4f37-d52d-748547ddacff"
      },
      "execution_count": null,
      "outputs": [
        {
          "output_type": "execute_result",
          "data": {
            "text/plain": [
              "Row(userId=564, recommendations=[Row(movieId=151989, rating=6.824061393737793), Row(movieId=159761, rating=5.830824375152588), Row(movieId=144202, rating=5.683992385864258), Row(movieId=163126, rating=5.612621307373047), Row(movieId=107434, rating=5.593628406524658), Row(movieId=107252, rating=5.593628406524658), Row(movieId=110097, rating=5.585602760314941), Row(movieId=164937, rating=5.565644264221191), Row(movieId=114687, rating=5.496051788330078), Row(movieId=150228, rating=5.477571964263916)])"
            ]
          },
          "metadata": {},
          "execution_count": 41
        }
      ]
    }
  ],
  "metadata": {
    "colab": {
      "provenance": []
    },
    "kernelspec": {
      "display_name": "Python 3",
      "name": "python3"
    },
    "language_info": {
      "name": "python"
    }
  },
  "nbformat": 4,
  "nbformat_minor": 0
}